{
 "metadata": {
  "language_info": {
   "codemirror_mode": {
    "name": "ipython",
    "version": 3
   },
   "file_extension": ".py",
   "mimetype": "text/x-python",
   "name": "python",
   "nbconvert_exporter": "python",
   "pygments_lexer": "ipython3",
   "version": "3.7.3-final"
  },
  "orig_nbformat": 2,
  "kernelspec": {
   "name": "python3",
   "display_name": "Python 3",
   "language": "python"
  }
 },
 "nbformat": 4,
 "nbformat_minor": 2,
 "cells": [
  {
   "source": [
    "### Read CSV files"
   ],
   "cell_type": "markdown",
   "metadata": {}
  },
  {
   "cell_type": "code",
   "execution_count": 169,
   "metadata": {},
   "outputs": [
    {
     "output_type": "stream",
     "name": "stdout",
     "text": [
      "1274\n"
     ]
    }
   ],
   "source": [
    "import csv\n",
    "\n",
    "codons = []\n",
    "\n",
    "with open('data/side-by-side.csv', newline='') as csvfile:\n",
    "    csvreader = iter(csv.reader(csvfile, delimiter=','))\n",
    "    # Skip first row\n",
    "    next(csvreader)\n",
    "\n",
    "    for abspos, virus, vaccine in csvreader:\n",
    "        codons.append({\n",
    "            'abspos': abspos,\n",
    "            'virus': virus,\n",
    "            'vaccine': vaccine\n",
    "        })\n",
    "\n",
    "print(len(codons))\n"
   ]
  },
  {
   "cell_type": "code",
   "execution_count": 170,
   "metadata": {},
   "outputs": [
    {
     "output_type": "stream",
     "name": "stdout",
     "text": [
      "64\n"
     ]
    }
   ],
   "source": [
    "import csv\n",
    "\n",
    "codon_table = []\n",
    "\n",
    "with open('data/codon-table-grouped.csv', newline='') as csvfile:\n",
    "    csvreader = iter(csv.reader(csvfile, delimiter=','))\n",
    "    # Skip first row\n",
    "    next(csvreader)\n",
    "\n",
    "    for aminoacid, codon in csvreader:\n",
    "        codon_table.append({\n",
    "            'aminoacid': aminoacid,\n",
    "            'codon': codon,\n",
    "        })\n",
    "\n",
    "print(len(codon_table))"
   ]
  },
  {
   "source": [
    "### Categorize codon table by amount of 'good' chars.\n"
   ],
   "cell_type": "markdown",
   "metadata": {}
  },
  {
   "cell_type": "code",
   "execution_count": 171,
   "metadata": {},
   "outputs": [],
   "source": [
    "def calculate_codon_score(codon):\n",
    "    score = 0\n",
    "\n",
    "    for char in codon:\n",
    "        if char is 'G' or char is 'C':\n",
    "            score += 1\n",
    "\n",
    "    return score"
   ]
  },
  {
   "cell_type": "code",
   "execution_count": 172,
   "metadata": {},
   "outputs": [],
   "source": [
    "grouped_codon_table = { 0: [], 1: [], 2: [], 3: [] }\n",
    "\n",
    "for codon_row in codon_table:\n",
    "    codon = codon_row['codon']\n",
    "    count = calculate_codon_score(codon)\n",
    "\n",
    "    grouped_codon_table[count].append(codon_row)"
   ]
  },
  {
   "source": [
    "### Find a codon with the highest possible score for each aminoacid"
   ],
   "cell_type": "markdown",
   "metadata": {}
  },
  {
   "cell_type": "code",
   "execution_count": 173,
   "metadata": {},
   "outputs": [
    {
     "output_type": "stream",
     "name": "stdout",
     "text": [
      "{'A': 'GCT', 'C': 'TGT', 'D': 'GAT', 'E': 'GAA', 'F': 'TTC', 'G': 'GGT', 'H': 'CAT', 'I': 'ATC', 'K': 'AAG', 'L': 'TTG', 'M': 'ATG', 'N': 'AAC', 'P': 'CCT', 'Q': 'CAA', 'R': 'AGA', 's': 'TGA', 'S': 'TCT', 'T': 'ACT', 'V': 'GTT', 'W': 'TGG', 'Y': 'TAC'}\nFound all: True\n"
     ]
    }
   ],
   "source": [
    "aminoacids = ['A', 'C', 'D', 'E', 'F', 'G', 'H', 'I', 'K', 'L', 'M', 'N', 'P', 'Q', 'R', 's', 'S', 'T', 'V', 'W', 'Y']\n",
    "best_codons = {}\n",
    "\n",
    "for aminoacid in aminoacids:\n",
    "    for score in range(3, 0, -1):\n",
    "        for codon_row in grouped_codon_table[score]:\n",
    "            if codon_row['aminoacid'] is aminoacid:\n",
    "                best_codons[aminoacid] = codon_row['codon']\n",
    "                continue\n",
    "\n",
    "print(best_codons)\n",
    "print(f\"Found all: {len(aminoacids) == len(best_codons)}\")"
   ]
  },
  {
   "source": [
    "### Target\n",
    "\n",
    "> It is known that a higher fraction of G and C characters improves the efficiency of an mRNA vaccine.\n",
    "\n"
   ],
   "cell_type": "markdown",
   "metadata": {}
  },
  {
   "cell_type": "code",
   "execution_count": 174,
   "metadata": {},
   "outputs": [],
   "source": [
    "def find_codon_with_score(score, target_aminoacid):\n",
    "    for codon_row in grouped_codon_table[score]:\n",
    "        if codon_row['aminoacid'] is target_aminoacid:\n",
    "            return codon_row\n",
    "\n",
    "    return False"
   ]
  },
  {
   "cell_type": "code",
   "execution_count": 175,
   "metadata": {
    "tags": []
   },
   "outputs": [],
   "source": [
    "for i in range(len(codons)):\n",
    "    virus_codon = codons[i]['virus']\n",
    "    virus_codon_score = calculate_codon_score(virus_codon)\n",
    "  \n",
    "    # Find target aminoacid\n",
    "    target_aminoacid = None\n",
    "    for codon_row in codon_table:\n",
    "        if codon_row['codon'] == virus_codon:\n",
    "            target_aminoacid = codon_row['aminoacid']\n",
    "            break\n",
    "\n",
    "    # Find codon with the highest score\n",
    "    for score in range(3, 0, -1):\n",
    "        suggestion = None\n",
    "        \n",
    "        # If virus codon has the best score, use that one.\n",
    "        if(virus_codon_score is score):\n",
    "            codons[i]['suggestion'] = virus_codon\n",
    "            break\n",
    "\n",
    "        # Else find another codon with this score\n",
    "        best_codon = find_codon_with_score(score, target_aminoacid)\n",
    "        if best_codon:\n",
    "            codons[i]['suggestion'] = best_codon['codon']\n",
    "            break"
   ]
  },
  {
   "source": [
    "### Calculate score"
   ],
   "cell_type": "markdown",
   "metadata": {}
  },
  {
   "cell_type": "code",
   "execution_count": 176,
   "metadata": {},
   "outputs": [
    {
     "output_type": "execute_result",
     "data": {
      "text/plain": [
       "'Result: 62.71585557299843%'"
      ]
     },
     "metadata": {},
     "execution_count": 176
    }
   ],
   "source": [
    "match_count = 0\n",
    "\n",
    "for codon in codons:\n",
    "    if codon['vaccine'] == codon['suggestion']:\n",
    "        match_count += 1\n",
    "\n",
    "percentage = 100 / len(codons) * match_count\n",
    "\n",
    "f\"Result: {percentage}%\"\n"
   ]
  },
  {
   "source": [
    "### Print results"
   ],
   "cell_type": "markdown",
   "metadata": {}
  },
  {
   "cell_type": "code",
   "execution_count": 177,
   "metadata": {
    "tags": []
   },
   "outputs": [
    {
     "output_type": "stream",
     "name": "stdout",
     "text": [
      "abspos, virus, suggestion, vaccine\n0, ATG, ATG, ATG\n3, TTT, TTC, TTC\n6, GTT, GTC, GTG\n9, TTT, TTC, TTC\n12, CTT, CTC, CTG\n15, GTT, GTC, GTG\n18, TTA, CTC, CTG\n21, TTG, CTC, CTG\n24, CCA, CCC, CCT\n27, CTA, CTC, CTG\n30, GTC, GTC, GTG\n33, TCT, AGC, TCC\n36, AGT, AGC, AGC\n39, CAG, CAG, CAG\n42, TGT, TGC, TGT\n45, GTT, GTC, GTG\n48, AAT, AAC, AAC\n51, CTT, CTC, CTG\n54, ACA, ACC, ACC\n57, ACC, ACC, ACC\n60, AGA, CGC, AGA\n63, ACT, ACC, ACA\n66, CAA, CAG, CAG\n69, TTA, CTC, CTG\n72, CCC, CCC, CCT\n75, CCT, CCC, CCA\n78, GCA, GCC, GCC\n81, TAC, TAC, TAC\n84, ACT, ACC, ACC\n87, AAT, AAC, AAC\n90, TCT, AGC, AGC\n93, TTC, TTC, TTT\n96, ACA, ACC, ACC\n99, CGT, CGC, AGA\n102, GGT, GGC, GGC\n105, GTT, GTC, GTG\n108, TAT, TAC, TAC\n111, TAC, TAC, TAC\n114, CCT, CCC, CCC\n117, GAC, GAC, GAC\n120, AAA, AAG, AAG\n123, GTT, GTC, GTG\n126, TTC, TTC, TTC\n129, AGA, CGC, AGA\n132, TCC, TCC, TCC\n135, TCA, AGC, AGC\n138, GTT, GTC, GTG\n141, TTA, CTC, CTG\n144, CAT, CAC, CAC\n147, TCA, AGC, TCT\n150, ACT, ACC, ACC\n153, CAG, CAG, CAG\n156, GAC, GAC, GAC\n159, TTG, CTC, CTG\n162, TTC, TTC, TTC\n165, TTA, CTC, CTG\n168, CCT, CCC, CCT\n171, TTC, TTC, TTC\n174, TTT, TTC, TTC\n177, TCC, TCC, AGC\n180, AAT, AAC, AAC\n183, GTT, GTC, GTG\n186, ACT, ACC, ACC\n189, TGG, TGG, TGG\n192, TTC, TTC, TTC\n195, CAT, CAC, CAC\n198, GCT, GCC, GCC\n201, ATA, ATC, ATC\n204, CAT, CAC, CAC\n207, GTC, GTC, GTG\n210, TCT, AGC, TCC\n213, GGG, GGG, GGC\n216, ACC, ACC, ACC\n219, AAT, AAC, AAT\n222, GGT, GGC, GGC\n225, ACT, ACC, ACC\n228, AAG, AAG, AAG\n231, AGG, CGC, AGA\n234, TTT, TTC, TTC\n237, GAT, GAC, GAC\n240, AAC, AAC, AAC\n243, CCT, CCC, CCC\n246, GTC, GTC, GTG\n249, CTA, CTC, CTG\n252, CCA, CCC, CCC\n255, TTT, TTC, TTC\n258, AAT, AAC, AAC\n261, GAT, GAC, GAC\n264, GGT, GGC, GGG\n267, GTT, GTC, GTG\n270, TAT, TAC, TAC\n273, TTT, TTC, TTT\n276, GCT, GCC, GCC\n279, TCC, TCC, AGC\n282, ACT, ACC, ACC\n285, GAG, GAG, GAG\n288, AAG, AAG, AAG\n291, TCT, AGC, TCC\n294, AAC, AAC, AAC\n297, ATA, ATC, ATC\n300, ATA, ATC, ATC\n303, AGA, CGC, AGA\n306, GGC, GGC, GGC\n309, TGG, TGG, TGG\n312, ATT, ATC, ATC\n315, TTT, TTC, TTC\n318, GGT, GGC, GGC\n321, ACT, ACC, ACC\n324, ACT, ACC, ACA\n327, TTA, CTC, CTG\n330, GAT, GAC, GAC\n333, TCG, TCG, AGC\n336, AAG, AAG, AAG\n339, ACC, ACC, ACC\n342, CAG, CAG, CAG\n345, TCC, TCC, AGC\n348, CTA, CTC, CTG\n351, CTT, CTC, CTG\n354, ATT, ATC, ATC\n357, GTT, GTC, GTG\n360, AAT, AAC, AAC\n363, AAC, AAC, AAC\n366, GCT, GCC, GCC\n369, ACT, ACC, ACC\n372, AAT, AAC, AAC\n375, GTT, GTC, GTG\n378, GTT, GTC, GTC\n381, ATT, ATC, ATC\n384, AAA, AAG, AAA\n387, GTC, GTC, GTG\n390, TGT, TGC, TGC\n393, GAA, GAG, GAG\n396, TTT, TTC, TTC\n399, CAA, CAG, CAG\n402, TTT, TTC, TTC\n405, TGT, TGC, TGC\n408, AAT, AAC, AAC\n411, GAT, GAC, GAC\n414, CCA, CCC, CCC\n417, TTT, TTC, TTC\n420, TTG, CTC, CTG\n423, GGT, GGC, GGC\n426, GTT, GTC, GTC\n429, TAT, TAC, TAC\n432, TAC, TAC, TAC\n435, CAC, CAC, CAC\n438, AAA, AAG, AAG\n441, AAC, AAC, AAC\n444, AAC, AAC, AAC\n447, AAA, AAG, AAG\n450, AGT, AGC, AGC\n453, TGG, TGG, TGG\n456, ATG, ATG, ATG\n459, GAA, GAG, GAA\n462, AGT, AGC, AGC\n465, GAG, GAG, GAG\n468, TTC, TTC, TTC\n471, AGA, CGC, CGG\n474, GTT, GTC, GTG\n477, TAT, TAC, TAC\n480, TCT, AGC, AGC\n483, AGT, AGC, AGC\n486, GCG, GCG, GCC\n489, AAT, AAC, AAC\n492, AAT, AAC, AAC\n495, TGC, TGC, TGC\n498, ACT, ACC, ACC\n501, TTT, TTC, TTC\n504, GAA, GAG, GAG\n507, TAT, TAC, TAC\n510, GTC, GTC, GTG\n513, TCT, AGC, TCC\n516, CAG, CAG, CAG\n519, CCT, CCC, CCT\n522, TTT, TTC, TTC\n525, CTT, CTC, CTG\n528, ATG, ATG, ATG\n531, GAC, GAC, GAC\n534, CTT, CTC, CTG\n537, GAA, GAG, GAA\n540, GGA, GGC, GGC\n543, AAA, AAG, AAG\n546, CAG, CAG, CAG\n549, GGT, GGC, GGC\n552, AAT, AAC, AAC\n555, TTC, TTC, TTC\n558, AAA, AAG, AAG\n561, AAT, AAC, AAC\n564, CTT, CTC, CTG\n567, AGG, CGC, CGC\n570, GAA, GAG, GAG\n573, TTT, TTC, TTC\n576, GTG, GTG, GTG\n579, TTT, TTC, TTT\n582, AAG, AAG, AAG\n585, AAT, AAC, AAC\n588, ATT, ATC, ATC\n591, GAT, GAC, GAC\n594, GGT, GGC, GGC\n597, TAT, TAC, TAC\n600, TTT, TTC, TTC\n603, AAA, AAG, AAG\n606, ATA, ATC, ATC\n609, TAT, TAC, TAC\n612, TCT, AGC, AGC\n615, AAG, AAG, AAG\n618, CAC, CAC, CAC\n621, ACG, ACG, ACC\n624, CCT, CCC, CCT\n627, ATT, ATC, ATC\n630, AAT, AAC, AAC\n633, TTA, CTC, CTC\n636, GTG, GTG, GTG\n639, CGT, CGC, CGG\n642, GAT, GAC, GAT\n645, CTC, CTC, CTG\n648, CCT, CCC, CCT\n651, CAG, CAG, CAG\n654, GGT, GGC, GGC\n657, TTT, TTC, TTC\n660, TCG, TCG, TCT\n663, GCT, GCC, GCT\n666, TTA, CTC, CTG\n669, GAA, GAG, GAA\n672, CCA, CCC, CCC\n675, TTG, CTC, CTG\n678, GTA, GTC, GTG\n681, GAT, GAC, GAT\n684, TTG, CTC, CTG\n687, CCA, CCC, CCC\n690, ATA, ATC, ATC\n693, GGT, GGC, GGC\n696, ATT, ATC, ATC\n699, AAC, AAC, AAC\n702, ATC, ATC, ATC\n705, ACT, ACC, ACC\n708, AGG, CGC, CGG\n711, TTT, TTC, TTT\n714, CAA, CAG, CAG\n717, ACT, ACC, ACA\n720, TTA, CTC, CTG\n723, CTT, CTC, CTG\n726, GCT, GCC, GCC\n729, TTA, CTC, CTG\n732, CAT, CAC, CAC\n735, AGA, CGC, AGA\n738, AGT, AGC, AGC\n741, TAT, TAC, TAC\n744, TTG, CTC, CTG\n747, ACT, ACC, ACA\n750, CCT, CCC, CCT\n753, GGT, GGC, GGC\n756, GAT, GAC, GAT\n759, TCT, AGC, AGC\n762, TCT, AGC, AGC\n765, TCA, AGC, AGC\n768, GGT, GGC, GGA\n771, TGG, TGG, TGG\n774, ACA, ACC, ACA\n777, GCT, GCC, GCT\n780, GGT, GGC, GGT\n783, GCT, GCC, GCC\n786, GCA, GCC, GCC\n789, GCT, GCC, GCT\n792, TAT, TAC, TAC\n795, TAT, TAC, TAT\n798, GTG, GTG, GTG\n801, GGT, GGC, GGC\n804, TAT, TAC, TAC\n807, CTT, CTC, CTG\n810, CAA, CAG, CAG\n813, CCT, CCC, CCT\n816, AGG, CGC, AGA\n819, ACT, ACC, ACC\n822, TTT, TTC, TTC\n825, CTA, CTC, CTG\n828, TTA, CTC, CTG\n831, AAA, AAG, AAG\n834, TAT, TAC, TAC\n837, AAT, AAC, AAC\n840, GAA, GAG, GAG\n843, AAT, AAC, AAC\n846, GGA, GGC, GGC\n849, ACC, ACC, ACC\n852, ATT, ATC, ATC\n855, ACA, ACC, ACC\n858, GAT, GAC, GAC\n861, GCT, GCC, GCC\n864, GTA, GTC, GTG\n867, GAC, GAC, GAT\n870, TGT, TGC, TGT\n873, GCA, GCC, GCT\n876, CTT, CTC, CTG\n879, GAC, GAC, GAT\n882, CCT, CCC, CCT\n885, CTC, CTC, CTG\n888, TCA, AGC, AGC\n891, GAA, GAG, GAG\n894, ACA, ACC, ACA\n897, AAG, AAG, AAG\n900, TGT, TGC, TGC\n903, ACG, ACG, ACC\n906, TTG, CTC, CTG\n909, AAA, AAG, AAG\n912, TCC, TCC, TCC\n915, TTC, TTC, TTC\n918, ACT, ACC, ACC\n921, GTA, GTC, GTG\n924, GAA, GAG, GAA\n927, AAA, AAG, AAG\n930, GGA, GGC, GGC\n933, ATC, ATC, ATC\n936, TAT, TAC, TAC\n939, CAA, CAG, CAG\n942, ACT, ACC, ACC\n945, TCT, AGC, AGC\n948, AAC, AAC, AAC\n951, TTT, TTC, TTC\n954, AGA, CGC, CGG\n957, GTC, GTC, GTG\n960, CAA, CAG, CAG\n963, CCA, CCC, CCC\n966, ACA, ACC, ACC\n969, GAA, GAG, GAA\n972, TCT, AGC, TCC\n975, ATT, ATC, ATC\n978, GTT, GTC, GTG\n981, AGA, CGC, CGG\n984, TTT, TTC, TTC\n987, CCT, CCC, CCC\n990, AAT, AAC, AAT\n993, ATT, ATC, ATC\n996, ACA, ACC, ACC\n999, AAC, AAC, AAT\n1002, TTG, CTC, CTG\n1005, TGC, TGC, TGC\n1008, CCT, CCC, CCC\n1011, TTT, TTC, TTC\n1014, GGT, GGC, GGC\n1017, GAA, GAG, GAG\n1020, GTT, GTC, GTG\n1023, TTT, TTC, TTC\n1026, AAC, AAC, AAT\n1029, GCC, GCC, GCC\n1032, ACC, ACC, ACC\n1035, AGA, CGC, AGA\n1038, TTT, TTC, TTC\n1041, GCA, GCC, GCC\n1044, TCT, AGC, TCT\n1047, GTT, GTC, GTG\n1050, TAT, TAC, TAC\n1053, GCT, GCC, GCC\n1056, TGG, TGG, TGG\n1059, AAC, AAC, AAC\n1062, AGG, CGC, CGG\n1065, AAG, AAG, AAG\n1068, AGA, CGC, CGG\n1071, ATC, ATC, ATC\n1074, AGC, AGC, AGC\n1077, AAC, AAC, AAT\n1080, TGT, TGC, TGC\n1083, GTT, GTC, GTG\n1086, GCT, GCC, GCC\n1089, GAT, GAC, GAC\n1092, TAT, TAC, TAC\n1095, TCT, AGC, TCC\n1098, GTC, GTC, GTG\n1101, CTA, CTC, CTG\n1104, TAT, TAC, TAC\n1107, AAT, AAC, AAC\n1110, TCC, TCC, TCC\n1113, GCA, GCC, GCC\n1116, TCA, AGC, AGC\n1119, TTT, TTC, TTC\n1122, TCC, TCC, AGC\n1125, ACT, ACC, ACC\n1128, TTT, TTC, TTC\n1131, AAG, AAG, AAG\n1134, TGT, TGC, TGC\n1137, TAT, TAC, TAC\n1140, GGA, GGC, GGC\n1143, GTG, GTG, GTG\n1146, TCT, AGC, TCC\n1149, CCT, CCC, CCT\n1152, ACT, ACC, ACC\n1155, AAA, AAG, AAG\n1158, TTA, CTC, CTG\n1161, AAT, AAC, AAC\n1164, GAT, GAC, GAC\n1167, CTC, CTC, CTG\n1170, TGC, TGC, TGC\n1173, TTT, TTC, TTC\n1176, ACT, ACC, ACA\n1179, AAT, AAC, AAC\n1182, GTC, GTC, GTG\n1185, TAT, TAC, TAC\n1188, GCA, GCC, GCC\n1191, GAT, GAC, GAC\n1194, TCA, AGC, AGC\n1197, TTT, TTC, TTC\n1200, GTA, GTC, GTG\n1203, ATT, ATC, ATC\n1206, AGA, CGC, CGG\n1209, GGT, GGC, GGA\n1212, GAT, GAC, GAT\n1215, GAA, GAG, GAA\n1218, GTC, GTC, GTG\n1221, AGA, CGC, CGG\n1224, CAA, CAG, CAG\n1227, ATC, ATC, ATT\n1230, GCT, GCC, GCC\n1233, CCA, CCC, CCT\n1236, GGG, GGG, GGA\n1239, CAA, CAG, CAG\n1242, ACT, ACC, ACA\n1245, GGA, GGC, GGC\n1248, AAG, AAG, AAG\n1251, ATT, ATC, ATC\n1254, GCT, GCC, GCC\n1257, GAT, GAC, GAC\n1260, TAT, TAC, TAC\n1263, AAT, AAC, AAC\n1266, TAT, TAC, TAC\n1269, AAA, AAG, AAG\n1272, TTA, CTC, CTG\n1275, CCA, CCC, CCC\n1278, GAT, GAC, GAC\n1281, GAT, GAC, GAC\n1284, TTT, TTC, TTC\n1287, ACA, ACC, ACC\n1290, GGC, GGC, GGC\n1293, TGC, TGC, TGT\n1296, GTT, GTC, GTG\n1299, ATA, ATC, ATT\n1302, GCT, GCC, GCC\n1305, TGG, TGG, TGG\n1308, AAT, AAC, AAC\n1311, TCT, AGC, AGC\n1314, AAC, AAC, AAC\n1317, AAT, AAC, AAC\n1320, CTT, CTC, CTG\n1323, GAT, GAC, GAC\n1326, TCT, AGC, TCC\n1329, AAG, AAG, AAA\n1332, GTT, GTC, GTC\n1335, GGT, GGC, GGC\n1338, GGT, GGC, GGC\n1341, AAT, AAC, AAC\n1344, TAT, TAC, TAC\n1347, AAT, AAC, AAT\n1350, TAC, TAC, TAC\n1353, CTG, CTG, CTG\n1356, TAT, TAC, TAC\n1359, AGA, CGC, CGG\n1362, TTG, CTC, CTG\n1365, TTT, TTC, TTC\n1368, AGG, CGC, CGG\n1371, AAG, AAG, AAG\n1374, TCT, AGC, TCC\n1377, AAT, AAC, AAT\n1380, CTC, CTC, CTG\n1383, AAA, AAG, AAG\n1386, CCT, CCC, CCC\n1389, TTT, TTC, TTC\n1392, GAG, GAG, GAG\n1395, AGA, CGC, CGG\n1398, GAT, GAC, GAC\n1401, ATT, ATC, ATC\n1404, TCA, AGC, TCC\n1407, ACT, ACC, ACC\n1410, GAA, GAG, GAG\n1413, ATC, ATC, ATC\n1416, TAT, TAC, TAT\n1419, CAG, CAG, CAG\n1422, GCC, GCC, GCC\n1425, GGT, GGC, GGC\n1428, AGC, AGC, AGC\n1431, ACA, ACC, ACC\n1434, CCT, CCC, CCT\n1437, TGT, TGC, TGT\n1440, AAT, AAC, AAC\n1443, GGT, GGC, GGC\n1446, GTT, GTC, GTG\n1449, GAA, GAG, GAA\n1452, GGT, GGC, GGC\n1455, TTT, TTC, TTC\n1458, AAT, AAC, AAC\n1461, TGT, TGC, TGC\n1464, TAC, TAC, TAC\n1467, TTT, TTC, TTC\n1470, CCT, CCC, CCA\n1473, TTA, CTC, CTG\n1476, CAA, CAG, CAG\n1479, TCA, AGC, TCC\n1482, TAT, TAC, TAC\n1485, GGT, GGC, GGC\n1488, TTC, TTC, TTT\n1491, CAA, CAG, CAG\n1494, CCC, CCC, CCC\n1497, ACT, ACC, ACA\n1500, AAT, AAC, AAT\n1503, GGT, GGC, GGC\n1506, GTT, GTC, GTG\n1509, GGT, GGC, GGC\n1512, TAC, TAC, TAT\n1515, CAA, CAG, CAG\n1518, CCA, CCC, CCC\n1521, TAC, TAC, TAC\n1524, AGA, CGC, AGA\n1527, GTA, GTC, GTG\n1530, GTA, GTC, GTG\n1533, GTA, GTC, GTG\n1536, CTT, CTC, CTG\n1539, TCT, AGC, AGC\n1542, TTT, TTC, TTC\n1545, GAA, GAG, GAA\n1548, CTT, CTC, CTG\n1551, CTA, CTC, CTG\n1554, CAT, CAC, CAT\n1557, GCA, GCC, GCC\n1560, CCA, CCC, CCT\n1563, GCA, GCC, GCC\n1566, ACT, ACC, ACA\n1569, GTT, GTC, GTG\n1572, TGT, TGC, TGC\n1575, GGA, GGC, GGC\n1578, CCT, CCC, CCT\n1581, AAA, AAG, AAG\n1584, AAG, AAG, AAA\n1587, TCT, AGC, AGC\n1590, ACT, ACC, ACC\n1593, AAT, AAC, AAT\n1596, TTG, CTC, CTC\n1599, GTT, GTC, GTG\n1602, AAA, AAG, AAG\n1605, AAC, AAC, AAC\n1608, AAA, AAG, AAA\n1611, TGT, TGC, TGC\n1614, GTC, GTC, GTG\n1617, AAT, AAC, AAC\n1620, TTC, TTC, TTC\n1623, AAC, AAC, AAC\n1626, TTC, TTC, TTC\n1629, AAT, AAC, AAC\n1632, GGT, GGC, GGC\n1635, TTA, CTC, CTG\n1638, ACA, ACC, ACC\n1641, GGC, GGC, GGC\n1644, ACA, ACC, ACC\n1647, GGT, GGC, GGC\n1650, GTT, GTC, GTG\n1653, CTT, CTC, CTG\n1656, ACT, ACC, ACA\n1659, GAG, GAG, GAG\n1662, TCT, AGC, AGC\n1665, AAC, AAC, AAC\n1668, AAA, AAG, AAG\n1671, AAG, AAG, AAG\n1674, TTT, TTC, TTC\n1677, CTG, CTG, CTG\n1680, CCT, CCC, CCA\n1683, TTC, TTC, TTC\n1686, CAA, CAG, CAG\n1689, CAA, CAG, CAG\n1692, TTT, TTC, TTT\n1695, GGC, GGC, GGC\n1698, AGA, CGC, CGG\n1701, GAC, GAC, GAT\n1704, ATT, ATC, ATC\n1707, GCT, GCC, GCC\n1710, GAC, GAC, GAT\n1713, ACT, ACC, ACC\n1716, ACT, ACC, ACA\n1719, GAT, GAC, GAC\n1722, GCT, GCC, GCC\n1725, GTC, GTC, GTT\n1728, CGT, CGC, AGA\n1731, GAT, GAC, GAT\n1734, CCA, CCC, CCC\n1737, CAG, CAG, CAG\n1740, ACA, ACC, ACA\n1743, CTT, CTC, CTG\n1746, GAG, GAG, GAA\n1749, ATT, ATC, ATC\n1752, CTT, CTC, CTG\n1755, GAC, GAC, GAC\n1758, ATT, ATC, ATC\n1761, ACA, ACC, ACC\n1764, CCA, CCC, CCT\n1767, TGT, TGC, TGC\n1770, TCT, AGC, AGC\n1773, TTT, TTC, TTC\n1776, GGT, GGC, GGC\n1779, GGT, GGC, GGA\n1782, GTC, GTC, GTG\n1785, AGT, AGC, TCT\n1788, GTT, GTC, GTG\n1791, ATA, ATC, ATC\n1794, ACA, ACC, ACC\n1797, CCA, CCC, CCT\n1800, GGA, GGC, GGC\n1803, ACA, ACC, ACC\n1806, AAT, AAC, AAC\n1809, ACT, ACC, ACC\n1812, TCT, AGC, AGC\n1815, AAC, AAC, AAT\n1818, CAG, CAG, CAG\n1821, GTT, GTC, GTG\n1824, GCT, GCC, GCA\n1827, GTT, GTC, GTG\n1830, CTT, CTC, CTG\n1833, TAT, TAC, TAC\n1836, CAG, CAG, CAG\n1839, GAT, GAC, GAC\n1842, GTT, GTC, GTG\n1845, AAC, AAC, AAC\n1848, TGC, TGC, TGT\n1851, ACA, ACC, ACC\n1854, GAA, GAG, GAA\n1857, GTC, GTC, GTG\n1860, CCT, CCC, CCC\n1863, GTT, GTC, GTG\n1866, GCT, GCC, GCC\n1869, ATT, ATC, ATT\n1872, CAT, CAC, CAC\n1875, GCA, GCC, GCC\n1878, GAT, GAC, GAT\n1881, CAA, CAG, CAG\n1884, CTT, CTC, CTG\n1887, ACT, ACC, ACA\n1890, CCT, CCC, CCT\n1893, ACT, ACC, ACA\n1896, TGG, TGG, TGG\n1899, CGT, CGC, CGG\n1902, GTT, GTC, GTG\n1905, TAT, TAC, TAC\n1908, TCT, AGC, TCC\n1911, ACA, ACC, ACC\n1914, GGT, GGC, GGC\n1917, TCT, AGC, AGC\n1920, AAT, AAC, AAT\n1923, GTT, GTC, GTG\n1926, TTT, TTC, TTT\n1929, CAA, CAG, CAG\n1932, ACA, ACC, ACC\n1935, CGT, CGC, AGA\n1938, GCA, GCC, GCC\n1941, GGC, GGC, GGC\n1944, TGT, TGC, TGT\n1947, TTA, CTC, CTG\n1950, ATA, ATC, ATC\n1953, GGG, GGG, GGA\n1956, GCT, GCC, GCC\n1959, GAA, GAG, GAG\n1962, CAT, CAC, CAC\n1965, GTC, GTC, GTG\n1968, AAC, AAC, AAC\n1971, AAC, AAC, AAT\n1974, TCA, AGC, AGC\n1977, TAT, TAC, TAC\n1980, GAG, GAG, GAG\n1983, TGT, TGC, TGC\n1986, GAC, GAC, GAC\n1989, ATA, ATC, ATC\n1992, CCC, CCC, CCC\n1995, ATT, ATC, ATC\n1998, GGT, GGC, GGC\n2001, GCA, GCC, GCT\n2004, GGT, GGC, GGA\n2007, ATA, ATC, ATC\n2010, TGC, TGC, TGC\n2013, GCT, GCC, GCC\n2016, AGT, AGC, AGC\n2019, TAT, TAC, TAC\n2022, CAG, CAG, CAG\n2025, ACT, ACC, ACA\n2028, CAG, CAG, CAG\n2031, ACT, ACC, ACA\n2034, AAT, AAC, AAC\n2037, TCT, AGC, AGC\n2040, CCT, CCC, CCT\n2043, CGG, CGG, CGG\n2046, CGG, CGG, AGA\n2049, GCA, GCC, GCC\n2052, CGT, CGC, AGA\n2055, AGT, AGC, AGC\n2058, GTA, GTC, GTG\n2061, GCT, GCC, GCC\n2064, AGT, AGC, AGC\n2067, CAA, CAG, CAG\n2070, TCC, TCC, AGC\n2073, ATC, ATC, ATC\n2076, ATT, ATC, ATT\n2079, GCC, GCC, GCC\n2082, TAC, TAC, TAC\n2085, ACT, ACC, ACA\n2088, ATG, ATG, ATG\n2091, TCA, AGC, TCT\n2094, CTT, CTC, CTG\n2097, GGT, GGC, GGC\n2100, GCA, GCC, GCC\n2103, GAA, GAG, GAG\n2106, AAT, AAC, AAC\n2109, TCA, AGC, AGC\n2112, GTT, GTC, GTG\n2115, GCT, GCC, GCC\n2118, TAC, TAC, TAC\n2121, TCT, AGC, TCC\n2124, AAT, AAC, AAC\n2127, AAC, AAC, AAC\n2130, TCT, AGC, TCT\n2133, ATT, ATC, ATC\n2136, GCC, GCC, GCT\n2139, ATA, ATC, ATC\n2142, CCC, CCC, CCC\n2145, ACA, ACC, ACC\n2148, AAT, AAC, AAC\n2151, TTT, TTC, TTC\n2154, ACT, ACC, ACC\n2157, ATT, ATC, ATC\n2160, AGT, AGC, AGC\n2163, GTT, GTC, GTG\n2166, ACC, ACC, ACC\n2169, ACA, ACC, ACA\n2172, GAA, GAG, GAG\n2175, ATT, ATC, ATC\n2178, CTA, CTC, CTG\n2181, CCA, CCC, CCT\n2184, GTG, GTG, GTG\n2187, TCT, AGC, TCC\n2190, ATG, ATG, ATG\n2193, ACC, ACC, ACC\n2196, AAG, AAG, AAG\n2199, ACA, ACC, ACC\n2202, TCA, AGC, AGC\n2205, GTA, GTC, GTG\n2208, GAT, GAC, GAC\n2211, TGT, TGC, TGC\n2214, ACA, ACC, ACC\n2217, ATG, ATG, ATG\n2220, TAC, TAC, TAC\n2223, ATT, ATC, ATC\n2226, TGT, TGC, TGC\n2229, GGT, GGC, GGC\n2232, GAT, GAC, GAT\n2235, TCA, AGC, TCC\n2238, ACT, ACC, ACC\n2241, GAA, GAG, GAG\n2244, TGC, TGC, TGC\n2247, AGC, AGC, TCC\n2250, AAT, AAC, AAC\n2253, CTT, CTC, CTG\n2256, TTG, CTC, CTG\n2259, TTG, CTC, CTG\n2262, CAA, CAG, CAG\n2265, TAT, TAC, TAC\n2268, GGC, GGC, GGC\n2271, AGT, AGC, AGC\n2274, TTT, TTC, TTC\n2277, TGT, TGC, TGC\n2280, ACA, ACC, ACC\n2283, CAA, CAG, CAG\n2286, TTA, CTC, CTG\n2289, AAC, AAC, AAT\n2292, CGT, CGC, AGA\n2295, GCT, GCC, GCC\n2298, TTA, CTC, CTG\n2301, ACT, ACC, ACA\n2304, GGA, GGC, GGG\n2307, ATA, ATC, ATC\n2310, GCT, GCC, GCC\n2313, GTT, GTC, GTG\n2316, GAA, GAG, GAA\n2319, CAA, CAG, CAG\n2322, GAC, GAC, GAC\n2325, AAA, AAG, AAG\n2328, AAC, AAC, AAC\n2331, ACC, ACC, ACC\n2334, CAA, CAG, CAA\n2337, GAA, GAG, GAG\n2340, GTT, GTC, GTG\n2343, TTT, TTC, TTC\n2346, GCA, GCC, GCC\n2349, CAA, CAG, CAA\n2352, GTC, GTC, GTG\n2355, AAA, AAG, AAG\n2358, CAA, CAG, CAG\n2361, ATT, ATC, ATC\n2364, TAC, TAC, TAC\n2367, AAA, AAG, AAG\n2370, ACA, ACC, ACC\n2373, CCA, CCC, CCT\n2376, CCA, CCC, CCT\n2379, ATT, ATC, ATC\n2382, AAA, AAG, AAG\n2385, GAT, GAC, GAC\n2388, TTT, TTC, TTC\n2391, GGT, GGC, GGC\n2394, GGT, GGC, GGC\n2397, TTT, TTC, TTC\n2400, AAT, AAC, AAT\n2403, TTT, TTC, TTC\n2406, TCA, AGC, AGC\n2409, CAA, CAG, CAG\n2412, ATA, ATC, ATT\n2415, TTA, CTC, CTG\n2418, CCA, CCC, CCC\n2421, GAT, GAC, GAT\n2424, CCA, CCC, CCT\n2427, TCA, AGC, AGC\n2430, AAA, AAG, AAG\n2433, CCA, CCC, CCC\n2436, AGC, AGC, AGC\n2439, AAG, AAG, AAG\n2442, AGG, CGC, CGG\n2445, TCA, AGC, AGC\n2448, TTT, TTC, TTC\n2451, ATT, ATC, ATC\n2454, GAA, GAG, GAG\n2457, GAT, GAC, GAC\n2460, CTA, CTC, CTG\n2463, CTT, CTC, CTG\n2466, TTC, TTC, TTC\n2469, AAC, AAC, AAC\n2472, AAA, AAG, AAA\n2475, GTG, GTG, GTG\n2478, ACA, ACC, ACA\n2481, CTT, CTC, CTG\n2484, GCA, GCC, GCC\n2487, GAT, GAC, GAC\n2490, GCT, GCC, GCC\n2493, GGC, GGC, GGC\n2496, TTC, TTC, TTC\n2499, ATC, ATC, ATC\n2502, AAA, AAG, AAG\n2505, CAA, CAG, CAG\n2508, TAT, TAC, TAT\n2511, GGT, GGC, GGC\n2514, GAT, GAC, GAT\n2517, TGC, TGC, TGT\n2520, CTT, CTC, CTG\n2523, GGT, GGC, GGC\n2526, GAT, GAC, GAC\n2529, ATT, ATC, ATT\n2532, GCT, GCC, GCC\n2535, GCT, GCC, GCC\n2538, AGA, CGC, AGG\n2541, GAC, GAC, GAT\n2544, CTC, CTC, CTG\n2547, ATT, ATC, ATT\n2550, TGT, TGC, TGC\n2553, GCA, GCC, GCC\n2556, CAA, CAG, CAG\n2559, AAG, AAG, AAG\n2562, TTT, TTC, TTT\n2565, AAC, AAC, AAC\n2568, GGC, GGC, GGA\n2571, CTT, CTC, CTG\n2574, ACT, ACC, ACA\n2577, GTT, GTC, GTG\n2580, TTG, CTC, CTG\n2583, CCA, CCC, CCT\n2586, CCT, CCC, CCT\n2589, TTG, CTC, CTG\n2592, CTC, CTC, CTG\n2595, ACA, ACC, ACC\n2598, GAT, GAC, GAT\n2601, GAA, GAG, GAG\n2604, ATG, ATG, ATG\n2607, ATT, ATC, ATC\n2610, GCT, GCC, GCC\n2613, CAA, CAG, CAG\n2616, TAC, TAC, TAC\n2619, ACT, ACC, ACA\n2622, TCT, AGC, TCT\n2625, GCA, GCC, GCC\n2628, CTG, CTG, CTG\n2631, TTA, CTC, CTG\n2634, GCG, GCG, GCC\n2637, GGT, GGC, GGC\n2640, ACA, ACC, ACA\n2643, ATC, ATC, ATC\n2646, ACT, ACC, ACA\n2649, TCT, AGC, AGC\n2652, GGT, GGC, GGC\n2655, TGG, TGG, TGG\n2658, ACC, ACC, ACA\n2661, TTT, TTC, TTT\n2664, GGT, GGC, GGA\n2667, GCA, GCC, GCA\n2670, GGT, GGC, GGC\n2673, GCT, GCC, GCC\n2676, GCA, GCC, GCT\n2679, TTA, CTC, CTG\n2682, CAA, CAG, CAG\n2685, ATA, ATC, ATC\n2688, CCA, CCC, CCC\n2691, TTT, TTC, TTT\n2694, GCT, GCC, GCT\n2697, ATG, ATG, ATG\n2700, CAA, CAG, CAG\n2703, ATG, ATG, ATG\n2706, GCT, GCC, GCC\n2709, TAT, TAC, TAC\n2712, AGG, CGC, CGG\n2715, TTT, TTC, TTC\n2718, AAT, AAC, AAC\n2721, GGT, GGC, GGC\n2724, ATT, ATC, ATC\n2727, GGA, GGC, GGA\n2730, GTT, GTC, GTG\n2733, ACA, ACC, ACC\n2736, CAG, CAG, CAG\n2739, AAT, AAC, AAT\n2742, GTT, GTC, GTG\n2745, CTC, CTC, CTG\n2748, TAT, TAC, TAC\n2751, GAG, GAG, GAG\n2754, AAC, AAC, AAC\n2757, CAA, CAG, CAG\n2760, AAA, AAG, AAG\n2763, TTG, CTC, CTG\n2766, ATT, ATC, ATC\n2769, GCC, GCC, GCC\n2772, AAC, AAC, AAC\n2775, CAA, CAG, CAG\n2778, TTT, TTC, TTC\n2781, AAT, AAC, AAC\n2784, AGT, AGC, AGC\n2787, GCT, GCC, GCC\n2790, ATT, ATC, ATC\n2793, GGC, GGC, GGC\n2796, AAA, AAG, AAG\n2799, ATT, ATC, ATC\n2802, CAA, CAG, CAG\n2805, GAC, GAC, GAC\n2808, TCA, AGC, AGC\n2811, CTT, CTC, CTG\n2814, TCT, AGC, AGC\n2817, TCC, TCC, AGC\n2820, ACA, ACC, ACA\n2823, GCA, GCC, GCA\n2826, AGT, AGC, AGC\n2829, GCA, GCC, GCC\n2832, CTT, CTC, CTG\n2835, GGA, GGC, GGA\n2838, AAA, AAG, AAG\n2841, CTT, CTC, CTG\n2844, CAA, CAG, CAG\n2847, GAT, GAC, GAC\n2850, GTG, GTG, GTG\n2853, GTC, GTC, GTC\n2856, AAC, AAC, AAC\n2859, CAA, CAG, CAG\n2862, AAT, AAC, AAT\n2865, GCA, GCC, GCC\n2868, CAA, CAG, CAG\n2871, GCT, GCC, GCA\n2874, TTA, CTC, CTG\n2877, AAC, AAC, AAC\n2880, ACG, ACG, ACC\n2883, CTT, CTC, CTG\n2886, GTT, GTC, GTC\n2889, AAA, AAG, AAG\n2892, CAA, CAG, CAG\n2895, CTT, CTC, CTG\n2898, AGC, AGC, TCC\n2901, TCC, TCC, TCC\n2904, AAT, AAC, AAC\n2907, TTT, TTC, TTC\n2910, GGT, GGC, GGC\n2913, GCA, GCC, GCC\n2916, ATT, ATC, ATC\n2919, TCA, AGC, AGC\n2922, AGT, AGC, TCT\n2925, GTT, GTC, GTG\n2928, TTA, CTC, CTG\n2931, AAT, AAC, AAC\n2934, GAT, GAC, GAT\n2937, ATC, ATC, ATC\n2940, CTT, CTC, CTG\n2943, TCA, AGC, AGC\n2946, CGT, CGC, AGA\n2949, CTT, CTC, CTG\n2952, GAC, GAC, GAC\n2955, AAA, AAG, CCT\n2958, GTT, GTC, CCT\n2961, GAG, GAG, GAG\n2964, GCT, GCC, GCC\n2967, GAA, GAG, GAG\n2970, GTG, GTG, GTG\n2973, CAA, CAG, CAG\n2976, ATT, ATC, ATC\n2979, GAT, GAC, GAC\n2982, AGG, CGC, AGA\n2985, TTG, CTC, CTG\n2988, ATC, ATC, ATC\n2991, ACA, ACC, ACA\n2994, GGC, GGC, GGC\n2997, AGA, CGC, AGA\n3000, CTT, CTC, CTG\n3003, CAA, CAG, CAG\n3006, AGT, AGC, AGC\n3009, TTG, CTC, CTC\n3012, CAG, CAG, CAG\n3015, ACA, ACC, ACA\n3018, TAT, TAC, TAC\n3021, GTG, GTG, GTG\n3024, ACT, ACC, ACC\n3027, CAA, CAG, CAG\n3030, CAA, CAG, CAG\n3033, TTA, CTC, CTG\n3036, ATT, ATC, ATC\n3039, AGA, CGC, AGA\n3042, GCT, GCC, GCC\n3045, GCA, GCC, GCC\n3048, GAA, GAG, GAG\n3051, ATC, ATC, ATT\n3054, AGA, CGC, AGA\n3057, GCT, GCC, GCC\n3060, TCT, AGC, TCT\n3063, GCT, GCC, GCC\n3066, AAT, AAC, AAT\n3069, CTT, CTC, CTG\n3072, GCT, GCC, GCC\n3075, GCT, GCC, GCC\n3078, ACT, ACC, ACC\n3081, AAA, AAG, AAG\n3084, ATG, ATG, ATG\n3087, TCA, AGC, TCT\n3090, GAG, GAG, GAG\n3093, TGT, TGC, TGT\n3096, GTA, GTC, GTG\n3099, CTT, CTC, CTG\n3102, GGA, GGC, GGC\n3105, CAA, CAG, CAG\n3108, TCA, AGC, AGC\n3111, AAA, AAG, AAG\n3114, AGA, CGC, AGA\n3117, GTT, GTC, GTG\n3120, GAT, GAC, GAC\n3123, TTT, TTC, TTT\n3126, TGT, TGC, TGC\n3129, GGA, GGC, GGC\n3132, AAG, AAG, AAG\n3135, GGC, GGC, GGC\n3138, TAT, TAC, TAC\n3141, CAT, CAC, CAC\n3144, CTT, CTC, CTG\n3147, ATG, ATG, ATG\n3150, TCC, TCC, AGC\n3153, TTC, TTC, TTC\n3156, CCT, CCC, CCT\n3159, CAG, CAG, CAG\n3162, TCA, AGC, TCT\n3165, GCA, GCC, GCC\n3168, CCT, CCC, CCT\n3171, CAT, CAC, CAC\n3174, GGT, GGC, GGC\n3177, GTA, GTC, GTG\n3180, GTC, GTC, GTG\n3183, TTC, TTC, TTT\n3186, TTG, CTC, CTG\n3189, CAT, CAC, CAC\n3192, GTG, GTG, GTG\n3195, ACT, ACC, ACA\n3198, TAT, TAC, TAT\n3201, GTC, GTC, GTG\n3204, CCT, CCC, CCC\n3207, GCA, GCC, GCT\n3210, CAA, CAG, CAA\n3213, GAA, GAG, GAG\n3216, AAG, AAG, AAG\n3219, AAC, AAC, AAT\n3222, TTC, TTC, TTC\n3225, ACA, ACC, ACC\n3228, ACT, ACC, ACC\n3231, GCT, GCC, GCT\n3234, CCT, CCC, CCA\n3237, GCC, GCC, GCC\n3240, ATT, ATC, ATC\n3243, TGT, TGC, TGC\n3246, CAT, CAC, CAC\n3249, GAT, GAC, GAC\n3252, GGA, GGC, GGC\n3255, AAA, AAG, AAA\n3258, GCA, GCC, GCC\n3261, CAC, CAC, CAC\n3264, TTT, TTC, TTT\n3267, CCT, CCC, CCT\n3270, CGT, CGC, AGA\n3273, GAA, GAG, GAA\n3276, GGT, GGC, GGC\n3279, GTC, GTC, GTG\n3282, TTT, TTC, TTC\n3285, GTT, GTC, GTG\n3288, TCA, AGC, TCC\n3291, AAT, AAC, AAC\n3294, GGC, GGC, GGC\n3297, ACA, ACC, ACC\n3300, CAC, CAC, CAT\n3303, TGG, TGG, TGG\n3306, TTT, TTC, TTC\n3309, GTA, GTC, GTG\n3312, ACA, ACC, ACA\n3315, CAA, CAG, CAG\n3318, AGG, CGC, CGG\n3321, AAT, AAC, AAC\n3324, TTT, TTC, TTC\n3327, TAT, TAC, TAC\n3330, GAA, GAG, GAG\n3333, CCA, CCC, CCC\n3336, CAA, CAG, CAG\n3339, ATC, ATC, ATC\n3342, ATT, ATC, ATC\n3345, ACT, ACC, ACC\n3348, ACA, ACC, ACC\n3351, GAC, GAC, GAC\n3354, AAC, AAC, AAC\n3357, ACA, ACC, ACC\n3360, TTT, TTC, TTC\n3363, GTG, GTG, GTG\n3366, TCT, AGC, TCT\n3369, GGT, GGC, GGC\n3372, AAC, AAC, AAC\n3375, TGT, TGC, TGC\n3378, GAT, GAC, GAC\n3381, GTT, GTC, GTC\n3384, GTA, GTC, GTG\n3387, ATA, ATC, ATC\n3390, GGA, GGC, GGC\n3393, ATT, ATC, ATT\n3396, GTC, GTC, GTG\n3399, AAC, AAC, AAC\n3402, AAC, AAC, AAT\n3405, ACA, ACC, ACC\n3408, GTT, GTC, GTG\n3411, TAT, TAC, TAC\n3414, GAT, GAC, GAC\n3417, CCT, CCC, CCT\n3420, TTG, CTC, CTG\n3423, CAA, CAG, CAG\n3426, CCT, CCC, CCC\n3429, GAA, GAG, GAG\n3432, TTA, CTC, CTG\n3435, GAC, GAC, GAC\n3438, TCA, AGC, AGC\n3441, TTC, TTC, TTC\n3444, AAG, AAG, AAA\n3447, GAG, GAG, GAG\n3450, GAG, GAG, GAA\n3453, TTA, CTC, CTG\n3456, GAT, GAC, GAC\n3459, AAA, AAG, AAG\n3462, TAT, TAC, TAC\n3465, TTT, TTC, TTT\n3468, AAG, AAG, AAG\n3471, AAT, AAC, AAC\n3474, CAT, CAC, CAC\n3477, ACA, ACC, ACA\n3480, TCA, AGC, AGC\n3483, CCA, CCC, CCC\n3486, GAT, GAC, GAC\n3489, GTT, GTC, GTG\n3492, GAT, GAC, GAC\n3495, TTA, CTC, CTG\n3498, GGT, GGC, GGC\n3501, GAC, GAC, GAT\n3504, ATC, ATC, ATC\n3507, TCT, AGC, AGC\n3510, GGC, GGC, GGA\n3513, ATT, ATC, ATC\n3516, AAT, AAC, AAT\n3519, GCT, GCC, GCC\n3522, TCA, AGC, AGC\n3525, GTT, GTC, GTC\n3528, GTA, GTC, GTG\n3531, AAC, AAC, AAC\n3534, ATT, ATC, ATC\n3537, CAA, CAG, CAG\n3540, AAA, AAG, AAA\n3543, GAA, GAG, GAG\n3546, ATT, ATC, ATC\n3549, GAC, GAC, GAC\n3552, CGC, CGC, CGG\n3555, CTC, CTC, CTG\n3558, AAT, AAC, AAC\n3561, GAG, GAG, GAG\n3564, GTT, GTC, GTG\n3567, GCC, GCC, GCC\n3570, AAG, AAG, AAG\n3573, AAT, AAC, AAT\n3576, TTA, CTC, CTG\n3579, AAT, AAC, AAC\n3582, GAA, GAG, GAG\n3585, TCT, AGC, AGC\n3588, CTC, CTC, CTG\n3591, ATC, ATC, ATC\n3594, GAT, GAC, GAC\n3597, CTC, CTC, CTG\n3600, CAA, CAG, CAA\n3603, GAA, GAG, GAA\n3606, CTT, CTC, CTG\n3609, GGA, GGC, GGG\n3612, AAG, AAG, AAG\n3615, TAT, TAC, TAC\n3618, GAG, GAG, GAG\n3621, CAG, CAG, CAG\n3624, TAT, TAC, TAC\n3627, ATA, ATC, ATC\n3630, AAA, AAG, AAG\n3633, TGG, TGG, TGG\n3636, CCA, CCC, CCC\n3639, TGG, TGG, TGG\n3642, TAC, TAC, TAC\n3645, ATT, ATC, ATC\n3648, TGG, TGG, TGG\n3651, CTA, CTC, CTG\n3654, GGT, GGC, GGC\n3657, TTT, TTC, TTT\n3660, ATA, ATC, ATC\n3663, GCT, GCC, GCC\n3666, GGC, GGC, GGA\n3669, TTG, CTC, CTG\n3672, ATT, ATC, ATT\n3675, GCC, GCC, GCC\n3678, ATA, ATC, ATC\n3681, GTA, GTC, GTG\n3684, ATG, ATG, ATG\n3687, GTG, GTG, GTC\n3690, ACA, ACC, ACA\n3693, ATT, ATC, ATC\n3696, ATG, ATG, ATG\n3699, CTT, CTC, CTG\n3702, TGC, TGC, TGT\n3705, TGT, TGC, TGC\n3708, ATG, ATG, ATG\n3711, ACC, ACC, ACC\n3714, AGT, AGC, AGC\n3717, TGC, TGC, TGC\n3720, TGT, TGC, TGT\n3723, AGT, AGC, AGC\n3726, TGT, TGC, TGC\n3729, CTC, CTC, CTG\n3732, AAG, AAG, AAG\n3735, GGC, GGC, GGC\n3738, TGT, TGC, TGT\n3741, TGT, TGC, TGT\n3744, TCT, AGC, AGC\n3747, TGT, TGC, TGT\n3750, GGA, GGC, GGC\n3753, TCC, TCC, AGC\n3756, TGC, TGC, TGC\n3759, TGC, TGC, TGC\n3762, AAA, AAG, AAG\n3765, TTT, TTC, TTC\n3768, GAT, GAC, GAC\n3771, GAA, GAG, GAG\n3774, GAC, GAC, GAC\n3777, GAC, GAC, GAT\n3780, TCT, AGC, TCT\n3783, GAG, GAG, GAG\n3786, CCA, CCC, CCC\n3789, GTG, GTG, GTG\n3792, CTC, CTC, CTG\n3795, AAA, AAG, AAG\n3798, GGA, GGC, GGC\n3801, GTC, GTC, GTG\n3804, AAA, AAG, AAA\n3807, TTA, CTC, CTG\n3810, CAT, CAC, CAC\n3813, TAC, TAC, TAC\n3816, ACA, ACC, ACA\n3819, TAA, TAG, TGA\n"
     ]
    }
   ],
   "source": [
    "print(\"abspos, virus, suggestion, vaccine\")\n",
    "\n",
    "for codon in codons:\n",
    "    print(f\"{codon['abspos']}, {codon['virus']}, {codon['suggestion']}, {codon['vaccine']}\")"
   ]
  }
 ]
}