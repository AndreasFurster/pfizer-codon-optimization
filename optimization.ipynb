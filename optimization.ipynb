{
 "metadata": {
  "language_info": {
   "codemirror_mode": {
    "name": "ipython",
    "version": 3
   },
   "file_extension": ".py",
   "mimetype": "text/x-python",
   "name": "python",
   "nbconvert_exporter": "python",
   "pygments_lexer": "ipython3",
   "version": "3.7.3-final"
  },
  "orig_nbformat": 2,
  "kernelspec": {
   "name": "python3",
   "display_name": "Python 3",
   "language": "python"
  }
 },
 "nbformat": 4,
 "nbformat_minor": 2,
 "cells": [
  {
   "source": [
    "### Read CSV files"
   ],
   "cell_type": "markdown",
   "metadata": {}
  },
  {
   "cell_type": "code",
   "execution_count": 65,
   "metadata": {},
   "outputs": [
    {
     "output_type": "stream",
     "name": "stdout",
     "text": [
      "1274\n"
     ]
    }
   ],
   "source": [
    "import csv\n",
    "\n",
    "codons = []\n",
    "\n",
    "with open('data/side-by-side.csv', newline='') as csvfile:\n",
    "    csvreader = iter(csv.reader(csvfile, delimiter=','))\n",
    "    # Skip first row\n",
    "    next(csvreader)\n",
    "\n",
    "    for abspos, virus, vaccine in csvreader:\n",
    "        codons.append({\n",
    "            'abspos': abspos,\n",
    "            'virus': virus,\n",
    "            'vaccine': vaccine\n",
    "        })\n",
    "\n",
    "print(len(codons))\n"
   ]
  },
  {
   "cell_type": "code",
   "execution_count": 66,
   "metadata": {},
   "outputs": [
    {
     "output_type": "stream",
     "name": "stdout",
     "text": [
      "64\n"
     ]
    }
   ],
   "source": [
    "import csv\n",
    "\n",
    "codon_table = []\n",
    "\n",
    "with open('data/codon-table-grouped.csv', newline='') as csvfile:\n",
    "    csvreader = iter(csv.reader(csvfile, delimiter=','))\n",
    "    # Skip first row\n",
    "    next(csvreader)\n",
    "\n",
    "    for aminoacid, codon in csvreader:\n",
    "        codon_table.append({\n",
    "            'aminoacid': aminoacid,\n",
    "            'codon': codon,\n",
    "        })\n",
    "\n",
    "print(len(codon_table))"
   ]
  },
  {
   "source": [
    "### Categorize codon table by amount of 'good' chars.\n"
   ],
   "cell_type": "markdown",
   "metadata": {}
  },
  {
   "cell_type": "code",
   "execution_count": 67,
   "metadata": {},
   "outputs": [],
   "source": [
    "def calculate_codon_score(codon):\n",
    "    score = 0\n",
    "\n",
    "    for char in codon:\n",
    "        if char is 'G' or char is 'C':\n",
    "            score += 1\n",
    "\n",
    "    return score"
   ]
  },
  {
   "cell_type": "code",
   "execution_count": 68,
   "metadata": {},
   "outputs": [
    {
     "output_type": "execute_result",
     "data": {
      "text/plain": [
       "{0: [{'aminoacid': 'F', 'codon': 'TTT'},\n",
       "  {'aminoacid': 'I', 'codon': 'ATA'},\n",
       "  {'aminoacid': 'I', 'codon': 'ATT'},\n",
       "  {'aminoacid': 'K', 'codon': 'AAA'},\n",
       "  {'aminoacid': 'L', 'codon': 'TTA'},\n",
       "  {'aminoacid': 'N', 'codon': 'AAT'},\n",
       "  {'aminoacid': 's', 'codon': 'TAA'},\n",
       "  {'aminoacid': 'Y', 'codon': 'TAT'}],\n",
       " 1: [{'aminoacid': 'C', 'codon': 'TGT'},\n",
       "  {'aminoacid': 'D', 'codon': 'GAT'},\n",
       "  {'aminoacid': 'E', 'codon': 'GAA'},\n",
       "  {'aminoacid': 'F', 'codon': 'TTC'},\n",
       "  {'aminoacid': 'H', 'codon': 'CAT'},\n",
       "  {'aminoacid': 'I', 'codon': 'ATC'},\n",
       "  {'aminoacid': 'K', 'codon': 'AAG'},\n",
       "  {'aminoacid': 'L', 'codon': 'CTA'},\n",
       "  {'aminoacid': 'L', 'codon': 'CTT'},\n",
       "  {'aminoacid': 'L', 'codon': 'TTG'},\n",
       "  {'aminoacid': 'M', 'codon': 'ATG'},\n",
       "  {'aminoacid': 'N', 'codon': 'AAC'},\n",
       "  {'aminoacid': 'Q', 'codon': 'CAA'},\n",
       "  {'aminoacid': 'R', 'codon': 'AGA'},\n",
       "  {'aminoacid': 's', 'codon': 'TAG'},\n",
       "  {'aminoacid': 's', 'codon': 'TGA'},\n",
       "  {'aminoacid': 'S', 'codon': 'AGT'},\n",
       "  {'aminoacid': 'S', 'codon': 'TCA'},\n",
       "  {'aminoacid': 'S', 'codon': 'TCT'},\n",
       "  {'aminoacid': 'T', 'codon': 'ACA'},\n",
       "  {'aminoacid': 'T', 'codon': 'ACT'},\n",
       "  {'aminoacid': 'V', 'codon': 'GTA'},\n",
       "  {'aminoacid': 'V', 'codon': 'GTT'},\n",
       "  {'aminoacid': 'Y', 'codon': 'TAC'}],\n",
       " 2: [{'aminoacid': 'A', 'codon': 'GCA'},\n",
       "  {'aminoacid': 'A', 'codon': 'GCT'},\n",
       "  {'aminoacid': 'C', 'codon': 'TGC'},\n",
       "  {'aminoacid': 'D', 'codon': 'GAC'},\n",
       "  {'aminoacid': 'E', 'codon': 'GAG'},\n",
       "  {'aminoacid': 'G', 'codon': 'GGA'},\n",
       "  {'aminoacid': 'G', 'codon': 'GGT'},\n",
       "  {'aminoacid': 'H', 'codon': 'CAC'},\n",
       "  {'aminoacid': 'L', 'codon': 'CTC'},\n",
       "  {'aminoacid': 'L', 'codon': 'CTG'},\n",
       "  {'aminoacid': 'P', 'codon': 'CCA'},\n",
       "  {'aminoacid': 'P', 'codon': 'CCT'},\n",
       "  {'aminoacid': 'Q', 'codon': 'CAG'},\n",
       "  {'aminoacid': 'R', 'codon': 'AGG'},\n",
       "  {'aminoacid': 'R', 'codon': 'CGA'},\n",
       "  {'aminoacid': 'R', 'codon': 'CGT'},\n",
       "  {'aminoacid': 'S', 'codon': 'AGC'},\n",
       "  {'aminoacid': 'S', 'codon': 'TCC'},\n",
       "  {'aminoacid': 'S', 'codon': 'TCG'},\n",
       "  {'aminoacid': 'T', 'codon': 'ACC'},\n",
       "  {'aminoacid': 'T', 'codon': 'ACG'},\n",
       "  {'aminoacid': 'V', 'codon': 'GTC'},\n",
       "  {'aminoacid': 'V', 'codon': 'GTG'},\n",
       "  {'aminoacid': 'W', 'codon': 'TGG'}],\n",
       " 3: [{'aminoacid': 'A', 'codon': 'GCC'},\n",
       "  {'aminoacid': 'A', 'codon': 'GCG'},\n",
       "  {'aminoacid': 'G', 'codon': 'GGC'},\n",
       "  {'aminoacid': 'G', 'codon': 'GGG'},\n",
       "  {'aminoacid': 'P', 'codon': 'CCC'},\n",
       "  {'aminoacid': 'P', 'codon': 'CCG'},\n",
       "  {'aminoacid': 'R', 'codon': 'CGC'},\n",
       "  {'aminoacid': 'R', 'codon': 'CGG'}]}"
      ]
     },
     "metadata": {},
     "execution_count": 68
    }
   ],
   "source": [
    "grouped_codon_table = { 0: [], 1: [], 2: [], 3: [] }\n",
    "\n",
    "for codon_row in codon_table:\n",
    "    codon = codon_row['codon']\n",
    "    score = calculate_codon_score(codon)\n",
    "\n",
    "    grouped_codon_table[score].append(codon_row)"
   ]
  },
  {
   "source": [
    "### Find suggestion vaccine"
   ],
   "cell_type": "markdown",
   "metadata": {}
  },
  {
   "cell_type": "code",
   "execution_count": 69,
   "metadata": {},
   "outputs": [],
   "source": [
    "def find_codon_with_score(score, target_aminoacid):\n",
    "    for codon_row in grouped_codon_table[score]:\n",
    "        if codon_row['aminoacid'] is target_aminoacid:\n",
    "            return codon_row\n",
    "\n",
    "    return False"
   ]
  },
  {
   "cell_type": "code",
   "execution_count": 70,
   "metadata": {},
   "outputs": [],
   "source": [
    "def find_target_aminoacid(codon): \n",
    "    for codon_row in codon_table:\n",
    "        if codon_row['codon'] == codon:\n",
    "            return codon_row['aminoacid']"
   ]
  },
  {
   "cell_type": "code",
   "execution_count": 80,
   "metadata": {
    "tags": []
   },
   "outputs": [],
   "source": [
    "for i in range(len(codons)):\n",
    "    virus_codon = codons[i]['virus']\n",
    "    virus_codon_score = calculate_codon_score(virus_codon)\n",
    "\n",
    "    # Find target aminoacid\n",
    "    target_aminoacid = find_target_aminoacid(virus_codon)       \n",
    "    \n",
    "    # Find codon with the highest score\n",
    "    suggestion = None\n",
    "    \n",
    "    # Try to get a valid codon with a score > codon score of virus\n",
    "    for score in range(3, virus_codon_score, -1):        \n",
    "        best_codon = find_codon_with_score(score, target_aminoacid)\n",
    "        if best_codon:\n",
    "            suggestion = best_codon['codon']\n",
    "            break\n",
    "    \n",
    "    if suggestion is None:\n",
    "        suggestion = virus_codon\n",
    "\n",
    "    codons[i]['suggestion'] = suggestion"
   ]
  },
  {
   "source": [
    "### Check mismatches"
   ],
   "cell_type": "markdown",
   "metadata": {}
  },
  {
   "cell_type": "code",
   "execution_count": 72,
   "metadata": {
    "tags": []
   },
   "outputs": [
    {
     "output_type": "stream",
     "name": "stdout",
     "text": [
      "MISMATCH - virus: AAA -> K, vaccine: CCT -> P, suggestion: AAG -> K\nMISMATCH - virus: GTT -> V, vaccine: CCT -> P, suggestion: GTC -> V\n"
     ]
    }
   ],
   "source": [
    "for codon in codons:\n",
    "    virus_target = find_target_aminoacid(codon['virus'])\n",
    "    vaccine_target = find_target_aminoacid(codon['vaccine'])\n",
    "    suggestion_target = find_target_aminoacid(codon['suggestion'])\n",
    "\n",
    "    if vaccine_target != suggestion_target:\n",
    "        print(f\"MISMATCH - virus: {codon['virus']} -> {virus_target}, vaccine: {codon['vaccine']} -> {vaccine_target}, suggestion: {codon['suggestion']} -> {suggestion_target}\")"
   ]
  },
  {
   "source": [
    "### Calculate score"
   ],
   "cell_type": "markdown",
   "metadata": {}
  },
  {
   "cell_type": "code",
   "execution_count": 73,
   "metadata": {},
   "outputs": [
    {
     "output_type": "execute_result",
     "data": {
      "text/plain": [
       "'Result: 62.71585557299843%'"
      ]
     },
     "metadata": {},
     "execution_count": 73
    }
   ],
   "source": [
    "match_count = 0\n",
    "\n",
    "for codon in codons:\n",
    "    if codon['vaccine'] == codon['suggestion']:\n",
    "        match_count += 1\n",
    "\n",
    "percentage = 100 / len(codons) * match_count\n",
    "\n",
    "f\"Result: {percentage}%\"\n"
   ]
  },
  {
   "source": [
    "### Print results"
   ],
   "cell_type": "markdown",
   "metadata": {}
  },
  {
   "cell_type": "code",
   "execution_count": 78,
   "metadata": {
    "tags": []
   },
   "outputs": [
    {
     "output_type": "stream",
     "name": "stdout",
     "text": [
      "abspos, virus, vaccine, suggestion\n0, ATG, ATG, ATG, True\n3, TTT, TTC, TTC, True\n6, GTT, GTG, GTC, False\n9, TTT, TTC, TTC, True\n12, CTT, CTG, CTC, False\n15, GTT, GTG, GTC, False\n18, TTA, CTG, CTC, False\n21, TTG, CTG, CTC, False\n24, CCA, CCT, CCC, False\n27, CTA, CTG, CTC, False\n30, GTC, GTG, GTC, False\n33, TCT, TCC, AGC, False\n36, AGT, AGC, AGC, True\n39, CAG, CAG, CAG, True\n42, TGT, TGT, TGC, False\n45, GTT, GTG, GTC, False\n48, AAT, AAC, AAC, True\n51, CTT, CTG, CTC, False\n54, ACA, ACC, ACC, True\n57, ACC, ACC, ACC, True\n60, AGA, AGA, CGC, False\n63, ACT, ACA, ACC, False\n66, CAA, CAG, CAG, True\n69, TTA, CTG, CTC, False\n72, CCC, CCT, CCC, False\n75, CCT, CCA, CCC, False\n78, GCA, GCC, GCC, True\n81, TAC, TAC, TAC, True\n84, ACT, ACC, ACC, True\n87, AAT, AAC, AAC, True\n90, TCT, AGC, AGC, True\n93, TTC, TTT, TTC, False\n96, ACA, ACC, ACC, True\n99, CGT, AGA, CGC, False\n102, GGT, GGC, GGC, True\n105, GTT, GTG, GTC, False\n108, TAT, TAC, TAC, True\n111, TAC, TAC, TAC, True\n114, CCT, CCC, CCC, True\n117, GAC, GAC, GAC, True\n120, AAA, AAG, AAG, True\n123, GTT, GTG, GTC, False\n126, TTC, TTC, TTC, True\n129, AGA, AGA, CGC, False\n132, TCC, TCC, TCC, True\n135, TCA, AGC, AGC, True\n138, GTT, GTG, GTC, False\n141, TTA, CTG, CTC, False\n144, CAT, CAC, CAC, True\n147, TCA, TCT, AGC, False\n150, ACT, ACC, ACC, True\n153, CAG, CAG, CAG, True\n156, GAC, GAC, GAC, True\n159, TTG, CTG, CTC, False\n162, TTC, TTC, TTC, True\n165, TTA, CTG, CTC, False\n168, CCT, CCT, CCC, False\n171, TTC, TTC, TTC, True\n174, TTT, TTC, TTC, True\n177, TCC, AGC, TCC, False\n180, AAT, AAC, AAC, True\n183, GTT, GTG, GTC, False\n186, ACT, ACC, ACC, True\n189, TGG, TGG, TGG, True\n192, TTC, TTC, TTC, True\n195, CAT, CAC, CAC, True\n198, GCT, GCC, GCC, True\n201, ATA, ATC, ATC, True\n204, CAT, CAC, CAC, True\n207, GTC, GTG, GTC, False\n210, TCT, TCC, AGC, False\n213, GGG, GGC, GGG, False\n216, ACC, ACC, ACC, True\n219, AAT, AAT, AAC, False\n222, GGT, GGC, GGC, True\n225, ACT, ACC, ACC, True\n228, AAG, AAG, AAG, True\n231, AGG, AGA, CGC, False\n234, TTT, TTC, TTC, True\n237, GAT, GAC, GAC, True\n240, AAC, AAC, AAC, True\n243, CCT, CCC, CCC, True\n246, GTC, GTG, GTC, False\n249, CTA, CTG, CTC, False\n252, CCA, CCC, CCC, True\n255, TTT, TTC, TTC, True\n258, AAT, AAC, AAC, True\n261, GAT, GAC, GAC, True\n264, GGT, GGG, GGC, False\n267, GTT, GTG, GTC, False\n270, TAT, TAC, TAC, True\n273, TTT, TTT, TTC, False\n276, GCT, GCC, GCC, True\n279, TCC, AGC, TCC, False\n282, ACT, ACC, ACC, True\n285, GAG, GAG, GAG, True\n288, AAG, AAG, AAG, True\n291, TCT, TCC, AGC, False\n294, AAC, AAC, AAC, True\n297, ATA, ATC, ATC, True\n300, ATA, ATC, ATC, True\n303, AGA, AGA, CGC, False\n306, GGC, GGC, GGC, True\n309, TGG, TGG, TGG, True\n312, ATT, ATC, ATC, True\n315, TTT, TTC, TTC, True\n318, GGT, GGC, GGC, True\n321, ACT, ACC, ACC, True\n324, ACT, ACA, ACC, False\n327, TTA, CTG, CTC, False\n330, GAT, GAC, GAC, True\n333, TCG, AGC, TCG, False\n336, AAG, AAG, AAG, True\n339, ACC, ACC, ACC, True\n342, CAG, CAG, CAG, True\n345, TCC, AGC, TCC, False\n348, CTA, CTG, CTC, False\n351, CTT, CTG, CTC, False\n354, ATT, ATC, ATC, True\n357, GTT, GTG, GTC, False\n360, AAT, AAC, AAC, True\n363, AAC, AAC, AAC, True\n366, GCT, GCC, GCC, True\n369, ACT, ACC, ACC, True\n372, AAT, AAC, AAC, True\n375, GTT, GTG, GTC, False\n378, GTT, GTC, GTC, True\n381, ATT, ATC, ATC, True\n384, AAA, AAA, AAG, False\n387, GTC, GTG, GTC, False\n390, TGT, TGC, TGC, True\n393, GAA, GAG, GAG, True\n396, TTT, TTC, TTC, True\n399, CAA, CAG, CAG, True\n402, TTT, TTC, TTC, True\n405, TGT, TGC, TGC, True\n408, AAT, AAC, AAC, True\n411, GAT, GAC, GAC, True\n414, CCA, CCC, CCC, True\n417, TTT, TTC, TTC, True\n420, TTG, CTG, CTC, False\n423, GGT, GGC, GGC, True\n426, GTT, GTC, GTC, True\n429, TAT, TAC, TAC, True\n432, TAC, TAC, TAC, True\n435, CAC, CAC, CAC, True\n438, AAA, AAG, AAG, True\n441, AAC, AAC, AAC, True\n444, AAC, AAC, AAC, True\n447, AAA, AAG, AAG, True\n450, AGT, AGC, AGC, True\n453, TGG, TGG, TGG, True\n456, ATG, ATG, ATG, True\n459, GAA, GAA, GAG, False\n462, AGT, AGC, AGC, True\n465, GAG, GAG, GAG, True\n468, TTC, TTC, TTC, True\n471, AGA, CGG, CGC, False\n474, GTT, GTG, GTC, False\n477, TAT, TAC, TAC, True\n480, TCT, AGC, AGC, True\n483, AGT, AGC, AGC, True\n486, GCG, GCC, GCG, False\n489, AAT, AAC, AAC, True\n492, AAT, AAC, AAC, True\n495, TGC, TGC, TGC, True\n498, ACT, ACC, ACC, True\n501, TTT, TTC, TTC, True\n504, GAA, GAG, GAG, True\n507, TAT, TAC, TAC, True\n510, GTC, GTG, GTC, False\n513, TCT, TCC, AGC, False\n516, CAG, CAG, CAG, True\n519, CCT, CCT, CCC, False\n522, TTT, TTC, TTC, True\n525, CTT, CTG, CTC, False\n528, ATG, ATG, ATG, True\n531, GAC, GAC, GAC, True\n534, CTT, CTG, CTC, False\n537, GAA, GAA, GAG, False\n540, GGA, GGC, GGC, True\n543, AAA, AAG, AAG, True\n546, CAG, CAG, CAG, True\n549, GGT, GGC, GGC, True\n552, AAT, AAC, AAC, True\n555, TTC, TTC, TTC, True\n558, AAA, AAG, AAG, True\n561, AAT, AAC, AAC, True\n564, CTT, CTG, CTC, False\n567, AGG, CGC, CGC, True\n570, GAA, GAG, GAG, True\n573, TTT, TTC, TTC, True\n576, GTG, GTG, GTG, True\n579, TTT, TTT, TTC, False\n582, AAG, AAG, AAG, True\n585, AAT, AAC, AAC, True\n588, ATT, ATC, ATC, True\n591, GAT, GAC, GAC, True\n594, GGT, GGC, GGC, True\n597, TAT, TAC, TAC, True\n600, TTT, TTC, TTC, True\n603, AAA, AAG, AAG, True\n606, ATA, ATC, ATC, True\n609, TAT, TAC, TAC, True\n612, TCT, AGC, AGC, True\n615, AAG, AAG, AAG, True\n618, CAC, CAC, CAC, True\n621, ACG, ACC, ACG, False\n624, CCT, CCT, CCC, False\n627, ATT, ATC, ATC, True\n630, AAT, AAC, AAC, True\n633, TTA, CTC, CTC, True\n636, GTG, GTG, GTG, True\n639, CGT, CGG, CGC, False\n642, GAT, GAT, GAC, False\n645, CTC, CTG, CTC, False\n648, CCT, CCT, CCC, False\n651, CAG, CAG, CAG, True\n654, GGT, GGC, GGC, True\n657, TTT, TTC, TTC, True\n660, TCG, TCT, TCG, False\n663, GCT, GCT, GCC, False\n666, TTA, CTG, CTC, False\n669, GAA, GAA, GAG, False\n672, CCA, CCC, CCC, True\n675, TTG, CTG, CTC, False\n678, GTA, GTG, GTC, False\n681, GAT, GAT, GAC, False\n684, TTG, CTG, CTC, False\n687, CCA, CCC, CCC, True\n690, ATA, ATC, ATC, True\n693, GGT, GGC, GGC, True\n696, ATT, ATC, ATC, True\n699, AAC, AAC, AAC, True\n702, ATC, ATC, ATC, True\n705, ACT, ACC, ACC, True\n708, AGG, CGG, CGC, False\n711, TTT, TTT, TTC, False\n714, CAA, CAG, CAG, True\n717, ACT, ACA, ACC, False\n720, TTA, CTG, CTC, False\n723, CTT, CTG, CTC, False\n726, GCT, GCC, GCC, True\n729, TTA, CTG, CTC, False\n732, CAT, CAC, CAC, True\n735, AGA, AGA, CGC, False\n738, AGT, AGC, AGC, True\n741, TAT, TAC, TAC, True\n744, TTG, CTG, CTC, False\n747, ACT, ACA, ACC, False\n750, CCT, CCT, CCC, False\n753, GGT, GGC, GGC, True\n756, GAT, GAT, GAC, False\n759, TCT, AGC, AGC, True\n762, TCT, AGC, AGC, True\n765, TCA, AGC, AGC, True\n768, GGT, GGA, GGC, False\n771, TGG, TGG, TGG, True\n774, ACA, ACA, ACC, False\n777, GCT, GCT, GCC, False\n780, GGT, GGT, GGC, False\n783, GCT, GCC, GCC, True\n786, GCA, GCC, GCC, True\n789, GCT, GCT, GCC, False\n792, TAT, TAC, TAC, True\n795, TAT, TAT, TAC, False\n798, GTG, GTG, GTG, True\n801, GGT, GGC, GGC, True\n804, TAT, TAC, TAC, True\n807, CTT, CTG, CTC, False\n810, CAA, CAG, CAG, True\n813, CCT, CCT, CCC, False\n816, AGG, AGA, CGC, False\n819, ACT, ACC, ACC, True\n822, TTT, TTC, TTC, True\n825, CTA, CTG, CTC, False\n828, TTA, CTG, CTC, False\n831, AAA, AAG, AAG, True\n834, TAT, TAC, TAC, True\n837, AAT, AAC, AAC, True\n840, GAA, GAG, GAG, True\n843, AAT, AAC, AAC, True\n846, GGA, GGC, GGC, True\n849, ACC, ACC, ACC, True\n852, ATT, ATC, ATC, True\n855, ACA, ACC, ACC, True\n858, GAT, GAC, GAC, True\n861, GCT, GCC, GCC, True\n864, GTA, GTG, GTC, False\n867, GAC, GAT, GAC, False\n870, TGT, TGT, TGC, False\n873, GCA, GCT, GCC, False\n876, CTT, CTG, CTC, False\n879, GAC, GAT, GAC, False\n882, CCT, CCT, CCC, False\n885, CTC, CTG, CTC, False\n888, TCA, AGC, AGC, True\n891, GAA, GAG, GAG, True\n894, ACA, ACA, ACC, False\n897, AAG, AAG, AAG, True\n900, TGT, TGC, TGC, True\n903, ACG, ACC, ACG, False\n906, TTG, CTG, CTC, False\n909, AAA, AAG, AAG, True\n912, TCC, TCC, TCC, True\n915, TTC, TTC, TTC, True\n918, ACT, ACC, ACC, True\n921, GTA, GTG, GTC, False\n924, GAA, GAA, GAG, False\n927, AAA, AAG, AAG, True\n930, GGA, GGC, GGC, True\n933, ATC, ATC, ATC, True\n936, TAT, TAC, TAC, True\n939, CAA, CAG, CAG, True\n942, ACT, ACC, ACC, True\n945, TCT, AGC, AGC, True\n948, AAC, AAC, AAC, True\n951, TTT, TTC, TTC, True\n954, AGA, CGG, CGC, False\n957, GTC, GTG, GTC, False\n960, CAA, CAG, CAG, True\n963, CCA, CCC, CCC, True\n966, ACA, ACC, ACC, True\n969, GAA, GAA, GAG, False\n972, TCT, TCC, AGC, False\n975, ATT, ATC, ATC, True\n978, GTT, GTG, GTC, False\n981, AGA, CGG, CGC, False\n984, TTT, TTC, TTC, True\n987, CCT, CCC, CCC, True\n990, AAT, AAT, AAC, False\n993, ATT, ATC, ATC, True\n996, ACA, ACC, ACC, True\n999, AAC, AAT, AAC, False\n1002, TTG, CTG, CTC, False\n1005, TGC, TGC, TGC, True\n1008, CCT, CCC, CCC, True\n1011, TTT, TTC, TTC, True\n1014, GGT, GGC, GGC, True\n1017, GAA, GAG, GAG, True\n1020, GTT, GTG, GTC, False\n1023, TTT, TTC, TTC, True\n1026, AAC, AAT, AAC, False\n1029, GCC, GCC, GCC, True\n1032, ACC, ACC, ACC, True\n1035, AGA, AGA, CGC, False\n1038, TTT, TTC, TTC, True\n1041, GCA, GCC, GCC, True\n1044, TCT, TCT, AGC, False\n1047, GTT, GTG, GTC, False\n1050, TAT, TAC, TAC, True\n1053, GCT, GCC, GCC, True\n1056, TGG, TGG, TGG, True\n1059, AAC, AAC, AAC, True\n1062, AGG, CGG, CGC, False\n1065, AAG, AAG, AAG, True\n1068, AGA, CGG, CGC, False\n1071, ATC, ATC, ATC, True\n1074, AGC, AGC, AGC, True\n1077, AAC, AAT, AAC, False\n1080, TGT, TGC, TGC, True\n1083, GTT, GTG, GTC, False\n1086, GCT, GCC, GCC, True\n1089, GAT, GAC, GAC, True\n1092, TAT, TAC, TAC, True\n1095, TCT, TCC, AGC, False\n1098, GTC, GTG, GTC, False\n1101, CTA, CTG, CTC, False\n1104, TAT, TAC, TAC, True\n1107, AAT, AAC, AAC, True\n1110, TCC, TCC, TCC, True\n1113, GCA, GCC, GCC, True\n1116, TCA, AGC, AGC, True\n1119, TTT, TTC, TTC, True\n1122, TCC, AGC, TCC, False\n1125, ACT, ACC, ACC, True\n1128, TTT, TTC, TTC, True\n1131, AAG, AAG, AAG, True\n1134, TGT, TGC, TGC, True\n1137, TAT, TAC, TAC, True\n1140, GGA, GGC, GGC, True\n1143, GTG, GTG, GTG, True\n1146, TCT, TCC, AGC, False\n1149, CCT, CCT, CCC, False\n1152, ACT, ACC, ACC, True\n1155, AAA, AAG, AAG, True\n1158, TTA, CTG, CTC, False\n1161, AAT, AAC, AAC, True\n1164, GAT, GAC, GAC, True\n1167, CTC, CTG, CTC, False\n1170, TGC, TGC, TGC, True\n1173, TTT, TTC, TTC, True\n1176, ACT, ACA, ACC, False\n1179, AAT, AAC, AAC, True\n1182, GTC, GTG, GTC, False\n1185, TAT, TAC, TAC, True\n1188, GCA, GCC, GCC, True\n1191, GAT, GAC, GAC, True\n1194, TCA, AGC, AGC, True\n1197, TTT, TTC, TTC, True\n1200, GTA, GTG, GTC, False\n1203, ATT, ATC, ATC, True\n1206, AGA, CGG, CGC, False\n1209, GGT, GGA, GGC, False\n1212, GAT, GAT, GAC, False\n1215, GAA, GAA, GAG, False\n1218, GTC, GTG, GTC, False\n1221, AGA, CGG, CGC, False\n1224, CAA, CAG, CAG, True\n1227, ATC, ATT, ATC, False\n1230, GCT, GCC, GCC, True\n1233, CCA, CCT, CCC, False\n1236, GGG, GGA, GGG, False\n1239, CAA, CAG, CAG, True\n1242, ACT, ACA, ACC, False\n1245, GGA, GGC, GGC, True\n1248, AAG, AAG, AAG, True\n1251, ATT, ATC, ATC, True\n1254, GCT, GCC, GCC, True\n1257, GAT, GAC, GAC, True\n1260, TAT, TAC, TAC, True\n1263, AAT, AAC, AAC, True\n1266, TAT, TAC, TAC, True\n1269, AAA, AAG, AAG, True\n1272, TTA, CTG, CTC, False\n1275, CCA, CCC, CCC, True\n1278, GAT, GAC, GAC, True\n1281, GAT, GAC, GAC, True\n1284, TTT, TTC, TTC, True\n1287, ACA, ACC, ACC, True\n1290, GGC, GGC, GGC, True\n1293, TGC, TGT, TGC, False\n1296, GTT, GTG, GTC, False\n1299, ATA, ATT, ATC, False\n1302, GCT, GCC, GCC, True\n1305, TGG, TGG, TGG, True\n1308, AAT, AAC, AAC, True\n1311, TCT, AGC, AGC, True\n1314, AAC, AAC, AAC, True\n1317, AAT, AAC, AAC, True\n1320, CTT, CTG, CTC, False\n1323, GAT, GAC, GAC, True\n1326, TCT, TCC, AGC, False\n1329, AAG, AAA, AAG, False\n1332, GTT, GTC, GTC, True\n1335, GGT, GGC, GGC, True\n1338, GGT, GGC, GGC, True\n1341, AAT, AAC, AAC, True\n1344, TAT, TAC, TAC, True\n1347, AAT, AAT, AAC, False\n1350, TAC, TAC, TAC, True\n1353, CTG, CTG, CTG, True\n1356, TAT, TAC, TAC, True\n1359, AGA, CGG, CGC, False\n1362, TTG, CTG, CTC, False\n1365, TTT, TTC, TTC, True\n1368, AGG, CGG, CGC, False\n1371, AAG, AAG, AAG, True\n1374, TCT, TCC, AGC, False\n1377, AAT, AAT, AAC, False\n1380, CTC, CTG, CTC, False\n1383, AAA, AAG, AAG, True\n1386, CCT, CCC, CCC, True\n1389, TTT, TTC, TTC, True\n1392, GAG, GAG, GAG, True\n1395, AGA, CGG, CGC, False\n1398, GAT, GAC, GAC, True\n1401, ATT, ATC, ATC, True\n1404, TCA, TCC, AGC, False\n1407, ACT, ACC, ACC, True\n1410, GAA, GAG, GAG, True\n1413, ATC, ATC, ATC, True\n1416, TAT, TAT, TAC, False\n1419, CAG, CAG, CAG, True\n1422, GCC, GCC, GCC, True\n1425, GGT, GGC, GGC, True\n1428, AGC, AGC, AGC, True\n1431, ACA, ACC, ACC, True\n1434, CCT, CCT, CCC, False\n1437, TGT, TGT, TGC, False\n1440, AAT, AAC, AAC, True\n1443, GGT, GGC, GGC, True\n1446, GTT, GTG, GTC, False\n1449, GAA, GAA, GAG, False\n1452, GGT, GGC, GGC, True\n1455, TTT, TTC, TTC, True\n1458, AAT, AAC, AAC, True\n1461, TGT, TGC, TGC, True\n1464, TAC, TAC, TAC, True\n1467, TTT, TTC, TTC, True\n1470, CCT, CCA, CCC, False\n1473, TTA, CTG, CTC, False\n1476, CAA, CAG, CAG, True\n1479, TCA, TCC, AGC, False\n1482, TAT, TAC, TAC, True\n1485, GGT, GGC, GGC, True\n1488, TTC, TTT, TTC, False\n1491, CAA, CAG, CAG, True\n1494, CCC, CCC, CCC, True\n1497, ACT, ACA, ACC, False\n1500, AAT, AAT, AAC, False\n1503, GGT, GGC, GGC, True\n1506, GTT, GTG, GTC, False\n1509, GGT, GGC, GGC, True\n1512, TAC, TAT, TAC, False\n1515, CAA, CAG, CAG, True\n1518, CCA, CCC, CCC, True\n1521, TAC, TAC, TAC, True\n1524, AGA, AGA, CGC, False\n1527, GTA, GTG, GTC, False\n1530, GTA, GTG, GTC, False\n1533, GTA, GTG, GTC, False\n1536, CTT, CTG, CTC, False\n1539, TCT, AGC, AGC, True\n1542, TTT, TTC, TTC, True\n1545, GAA, GAA, GAG, False\n1548, CTT, CTG, CTC, False\n1551, CTA, CTG, CTC, False\n1554, CAT, CAT, CAC, False\n1557, GCA, GCC, GCC, True\n1560, CCA, CCT, CCC, False\n1563, GCA, GCC, GCC, True\n1566, ACT, ACA, ACC, False\n1569, GTT, GTG, GTC, False\n1572, TGT, TGC, TGC, True\n1575, GGA, GGC, GGC, True\n1578, CCT, CCT, CCC, False\n1581, AAA, AAG, AAG, True\n1584, AAG, AAA, AAG, False\n1587, TCT, AGC, AGC, True\n1590, ACT, ACC, ACC, True\n1593, AAT, AAT, AAC, False\n1596, TTG, CTC, CTC, True\n1599, GTT, GTG, GTC, False\n1602, AAA, AAG, AAG, True\n1605, AAC, AAC, AAC, True\n1608, AAA, AAA, AAG, False\n1611, TGT, TGC, TGC, True\n1614, GTC, GTG, GTC, False\n1617, AAT, AAC, AAC, True\n1620, TTC, TTC, TTC, True\n1623, AAC, AAC, AAC, True\n1626, TTC, TTC, TTC, True\n1629, AAT, AAC, AAC, True\n1632, GGT, GGC, GGC, True\n1635, TTA, CTG, CTC, False\n1638, ACA, ACC, ACC, True\n1641, GGC, GGC, GGC, True\n1644, ACA, ACC, ACC, True\n1647, GGT, GGC, GGC, True\n1650, GTT, GTG, GTC, False\n1653, CTT, CTG, CTC, False\n1656, ACT, ACA, ACC, False\n1659, GAG, GAG, GAG, True\n1662, TCT, AGC, AGC, True\n1665, AAC, AAC, AAC, True\n1668, AAA, AAG, AAG, True\n1671, AAG, AAG, AAG, True\n1674, TTT, TTC, TTC, True\n1677, CTG, CTG, CTG, True\n1680, CCT, CCA, CCC, False\n1683, TTC, TTC, TTC, True\n1686, CAA, CAG, CAG, True\n1689, CAA, CAG, CAG, True\n1692, TTT, TTT, TTC, False\n1695, GGC, GGC, GGC, True\n1698, AGA, CGG, CGC, False\n1701, GAC, GAT, GAC, False\n1704, ATT, ATC, ATC, True\n1707, GCT, GCC, GCC, True\n1710, GAC, GAT, GAC, False\n1713, ACT, ACC, ACC, True\n1716, ACT, ACA, ACC, False\n1719, GAT, GAC, GAC, True\n1722, GCT, GCC, GCC, True\n1725, GTC, GTT, GTC, False\n1728, CGT, AGA, CGC, False\n1731, GAT, GAT, GAC, False\n1734, CCA, CCC, CCC, True\n1737, CAG, CAG, CAG, True\n1740, ACA, ACA, ACC, False\n1743, CTT, CTG, CTC, False\n1746, GAG, GAA, GAG, False\n1749, ATT, ATC, ATC, True\n1752, CTT, CTG, CTC, False\n1755, GAC, GAC, GAC, True\n1758, ATT, ATC, ATC, True\n1761, ACA, ACC, ACC, True\n1764, CCA, CCT, CCC, False\n1767, TGT, TGC, TGC, True\n1770, TCT, AGC, AGC, True\n1773, TTT, TTC, TTC, True\n1776, GGT, GGC, GGC, True\n1779, GGT, GGA, GGC, False\n1782, GTC, GTG, GTC, False\n1785, AGT, TCT, AGC, False\n1788, GTT, GTG, GTC, False\n1791, ATA, ATC, ATC, True\n1794, ACA, ACC, ACC, True\n1797, CCA, CCT, CCC, False\n1800, GGA, GGC, GGC, True\n1803, ACA, ACC, ACC, True\n1806, AAT, AAC, AAC, True\n1809, ACT, ACC, ACC, True\n1812, TCT, AGC, AGC, True\n1815, AAC, AAT, AAC, False\n1818, CAG, CAG, CAG, True\n1821, GTT, GTG, GTC, False\n1824, GCT, GCA, GCC, False\n1827, GTT, GTG, GTC, False\n1830, CTT, CTG, CTC, False\n1833, TAT, TAC, TAC, True\n1836, CAG, CAG, CAG, True\n1839, GAT, GAC, GAC, True\n1842, GTT, GTG, GTC, False\n1845, AAC, AAC, AAC, True\n1848, TGC, TGT, TGC, False\n1851, ACA, ACC, ACC, True\n1854, GAA, GAA, GAG, False\n1857, GTC, GTG, GTC, False\n1860, CCT, CCC, CCC, True\n1863, GTT, GTG, GTC, False\n1866, GCT, GCC, GCC, True\n1869, ATT, ATT, ATC, False\n1872, CAT, CAC, CAC, True\n1875, GCA, GCC, GCC, True\n1878, GAT, GAT, GAC, False\n1881, CAA, CAG, CAG, True\n1884, CTT, CTG, CTC, False\n1887, ACT, ACA, ACC, False\n1890, CCT, CCT, CCC, False\n1893, ACT, ACA, ACC, False\n1896, TGG, TGG, TGG, True\n1899, CGT, CGG, CGC, False\n1902, GTT, GTG, GTC, False\n1905, TAT, TAC, TAC, True\n1908, TCT, TCC, AGC, False\n1911, ACA, ACC, ACC, True\n1914, GGT, GGC, GGC, True\n1917, TCT, AGC, AGC, True\n1920, AAT, AAT, AAC, False\n1923, GTT, GTG, GTC, False\n1926, TTT, TTT, TTC, False\n1929, CAA, CAG, CAG, True\n1932, ACA, ACC, ACC, True\n1935, CGT, AGA, CGC, False\n1938, GCA, GCC, GCC, True\n1941, GGC, GGC, GGC, True\n1944, TGT, TGT, TGC, False\n1947, TTA, CTG, CTC, False\n1950, ATA, ATC, ATC, True\n1953, GGG, GGA, GGG, False\n1956, GCT, GCC, GCC, True\n1959, GAA, GAG, GAG, True\n1962, CAT, CAC, CAC, True\n1965, GTC, GTG, GTC, False\n1968, AAC, AAC, AAC, True\n1971, AAC, AAT, AAC, False\n1974, TCA, AGC, AGC, True\n1977, TAT, TAC, TAC, True\n1980, GAG, GAG, GAG, True\n1983, TGT, TGC, TGC, True\n1986, GAC, GAC, GAC, True\n1989, ATA, ATC, ATC, True\n1992, CCC, CCC, CCC, True\n1995, ATT, ATC, ATC, True\n1998, GGT, GGC, GGC, True\n2001, GCA, GCT, GCC, False\n2004, GGT, GGA, GGC, False\n2007, ATA, ATC, ATC, True\n2010, TGC, TGC, TGC, True\n2013, GCT, GCC, GCC, True\n2016, AGT, AGC, AGC, True\n2019, TAT, TAC, TAC, True\n2022, CAG, CAG, CAG, True\n2025, ACT, ACA, ACC, False\n2028, CAG, CAG, CAG, True\n2031, ACT, ACA, ACC, False\n2034, AAT, AAC, AAC, True\n2037, TCT, AGC, AGC, True\n2040, CCT, CCT, CCC, False\n2043, CGG, CGG, CGG, True\n2046, CGG, AGA, CGG, False\n2049, GCA, GCC, GCC, True\n2052, CGT, AGA, CGC, False\n2055, AGT, AGC, AGC, True\n2058, GTA, GTG, GTC, False\n2061, GCT, GCC, GCC, True\n2064, AGT, AGC, AGC, True\n2067, CAA, CAG, CAG, True\n2070, TCC, AGC, TCC, False\n2073, ATC, ATC, ATC, True\n2076, ATT, ATT, ATC, False\n2079, GCC, GCC, GCC, True\n2082, TAC, TAC, TAC, True\n2085, ACT, ACA, ACC, False\n2088, ATG, ATG, ATG, True\n2091, TCA, TCT, AGC, False\n2094, CTT, CTG, CTC, False\n2097, GGT, GGC, GGC, True\n2100, GCA, GCC, GCC, True\n2103, GAA, GAG, GAG, True\n2106, AAT, AAC, AAC, True\n2109, TCA, AGC, AGC, True\n2112, GTT, GTG, GTC, False\n2115, GCT, GCC, GCC, True\n2118, TAC, TAC, TAC, True\n2121, TCT, TCC, AGC, False\n2124, AAT, AAC, AAC, True\n2127, AAC, AAC, AAC, True\n2130, TCT, TCT, AGC, False\n2133, ATT, ATC, ATC, True\n2136, GCC, GCT, GCC, False\n2139, ATA, ATC, ATC, True\n2142, CCC, CCC, CCC, True\n2145, ACA, ACC, ACC, True\n2148, AAT, AAC, AAC, True\n2151, TTT, TTC, TTC, True\n2154, ACT, ACC, ACC, True\n2157, ATT, ATC, ATC, True\n2160, AGT, AGC, AGC, True\n2163, GTT, GTG, GTC, False\n2166, ACC, ACC, ACC, True\n2169, ACA, ACA, ACC, False\n2172, GAA, GAG, GAG, True\n2175, ATT, ATC, ATC, True\n2178, CTA, CTG, CTC, False\n2181, CCA, CCT, CCC, False\n2184, GTG, GTG, GTG, True\n2187, TCT, TCC, AGC, False\n2190, ATG, ATG, ATG, True\n2193, ACC, ACC, ACC, True\n2196, AAG, AAG, AAG, True\n2199, ACA, ACC, ACC, True\n2202, TCA, AGC, AGC, True\n2205, GTA, GTG, GTC, False\n2208, GAT, GAC, GAC, True\n2211, TGT, TGC, TGC, True\n2214, ACA, ACC, ACC, True\n2217, ATG, ATG, ATG, True\n2220, TAC, TAC, TAC, True\n2223, ATT, ATC, ATC, True\n2226, TGT, TGC, TGC, True\n2229, GGT, GGC, GGC, True\n2232, GAT, GAT, GAC, False\n2235, TCA, TCC, AGC, False\n2238, ACT, ACC, ACC, True\n2241, GAA, GAG, GAG, True\n2244, TGC, TGC, TGC, True\n2247, AGC, TCC, AGC, False\n2250, AAT, AAC, AAC, True\n2253, CTT, CTG, CTC, False\n2256, TTG, CTG, CTC, False\n2259, TTG, CTG, CTC, False\n2262, CAA, CAG, CAG, True\n2265, TAT, TAC, TAC, True\n2268, GGC, GGC, GGC, True\n2271, AGT, AGC, AGC, True\n2274, TTT, TTC, TTC, True\n2277, TGT, TGC, TGC, True\n2280, ACA, ACC, ACC, True\n2283, CAA, CAG, CAG, True\n2286, TTA, CTG, CTC, False\n2289, AAC, AAT, AAC, False\n2292, CGT, AGA, CGC, False\n2295, GCT, GCC, GCC, True\n2298, TTA, CTG, CTC, False\n2301, ACT, ACA, ACC, False\n2304, GGA, GGG, GGC, False\n2307, ATA, ATC, ATC, True\n2310, GCT, GCC, GCC, True\n2313, GTT, GTG, GTC, False\n2316, GAA, GAA, GAG, False\n2319, CAA, CAG, CAG, True\n2322, GAC, GAC, GAC, True\n2325, AAA, AAG, AAG, True\n2328, AAC, AAC, AAC, True\n2331, ACC, ACC, ACC, True\n2334, CAA, CAA, CAG, False\n2337, GAA, GAG, GAG, True\n2340, GTT, GTG, GTC, False\n2343, TTT, TTC, TTC, True\n2346, GCA, GCC, GCC, True\n2349, CAA, CAA, CAG, False\n2352, GTC, GTG, GTC, False\n2355, AAA, AAG, AAG, True\n2358, CAA, CAG, CAG, True\n2361, ATT, ATC, ATC, True\n2364, TAC, TAC, TAC, True\n2367, AAA, AAG, AAG, True\n2370, ACA, ACC, ACC, True\n2373, CCA, CCT, CCC, False\n2376, CCA, CCT, CCC, False\n2379, ATT, ATC, ATC, True\n2382, AAA, AAG, AAG, True\n2385, GAT, GAC, GAC, True\n2388, TTT, TTC, TTC, True\n2391, GGT, GGC, GGC, True\n2394, GGT, GGC, GGC, True\n2397, TTT, TTC, TTC, True\n2400, AAT, AAT, AAC, False\n2403, TTT, TTC, TTC, True\n2406, TCA, AGC, AGC, True\n2409, CAA, CAG, CAG, True\n2412, ATA, ATT, ATC, False\n2415, TTA, CTG, CTC, False\n2418, CCA, CCC, CCC, True\n2421, GAT, GAT, GAC, False\n2424, CCA, CCT, CCC, False\n2427, TCA, AGC, AGC, True\n2430, AAA, AAG, AAG, True\n2433, CCA, CCC, CCC, True\n2436, AGC, AGC, AGC, True\n2439, AAG, AAG, AAG, True\n2442, AGG, CGG, CGC, False\n2445, TCA, AGC, AGC, True\n2448, TTT, TTC, TTC, True\n2451, ATT, ATC, ATC, True\n2454, GAA, GAG, GAG, True\n2457, GAT, GAC, GAC, True\n2460, CTA, CTG, CTC, False\n2463, CTT, CTG, CTC, False\n2466, TTC, TTC, TTC, True\n2469, AAC, AAC, AAC, True\n2472, AAA, AAA, AAG, False\n2475, GTG, GTG, GTG, True\n2478, ACA, ACA, ACC, False\n2481, CTT, CTG, CTC, False\n2484, GCA, GCC, GCC, True\n2487, GAT, GAC, GAC, True\n2490, GCT, GCC, GCC, True\n2493, GGC, GGC, GGC, True\n2496, TTC, TTC, TTC, True\n2499, ATC, ATC, ATC, True\n2502, AAA, AAG, AAG, True\n2505, CAA, CAG, CAG, True\n2508, TAT, TAT, TAC, False\n2511, GGT, GGC, GGC, True\n2514, GAT, GAT, GAC, False\n2517, TGC, TGT, TGC, False\n2520, CTT, CTG, CTC, False\n2523, GGT, GGC, GGC, True\n2526, GAT, GAC, GAC, True\n2529, ATT, ATT, ATC, False\n2532, GCT, GCC, GCC, True\n2535, GCT, GCC, GCC, True\n2538, AGA, AGG, CGC, False\n2541, GAC, GAT, GAC, False\n2544, CTC, CTG, CTC, False\n2547, ATT, ATT, ATC, False\n2550, TGT, TGC, TGC, True\n2553, GCA, GCC, GCC, True\n2556, CAA, CAG, CAG, True\n2559, AAG, AAG, AAG, True\n2562, TTT, TTT, TTC, False\n2565, AAC, AAC, AAC, True\n2568, GGC, GGA, GGC, False\n2571, CTT, CTG, CTC, False\n2574, ACT, ACA, ACC, False\n2577, GTT, GTG, GTC, False\n2580, TTG, CTG, CTC, False\n2583, CCA, CCT, CCC, False\n2586, CCT, CCT, CCC, False\n2589, TTG, CTG, CTC, False\n2592, CTC, CTG, CTC, False\n2595, ACA, ACC, ACC, True\n2598, GAT, GAT, GAC, False\n2601, GAA, GAG, GAG, True\n2604, ATG, ATG, ATG, True\n2607, ATT, ATC, ATC, True\n2610, GCT, GCC, GCC, True\n2613, CAA, CAG, CAG, True\n2616, TAC, TAC, TAC, True\n2619, ACT, ACA, ACC, False\n2622, TCT, TCT, AGC, False\n2625, GCA, GCC, GCC, True\n2628, CTG, CTG, CTG, True\n2631, TTA, CTG, CTC, False\n2634, GCG, GCC, GCG, False\n2637, GGT, GGC, GGC, True\n2640, ACA, ACA, ACC, False\n2643, ATC, ATC, ATC, True\n2646, ACT, ACA, ACC, False\n2649, TCT, AGC, AGC, True\n2652, GGT, GGC, GGC, True\n2655, TGG, TGG, TGG, True\n2658, ACC, ACA, ACC, False\n2661, TTT, TTT, TTC, False\n2664, GGT, GGA, GGC, False\n2667, GCA, GCA, GCC, False\n2670, GGT, GGC, GGC, True\n2673, GCT, GCC, GCC, True\n2676, GCA, GCT, GCC, False\n2679, TTA, CTG, CTC, False\n2682, CAA, CAG, CAG, True\n2685, ATA, ATC, ATC, True\n2688, CCA, CCC, CCC, True\n2691, TTT, TTT, TTC, False\n2694, GCT, GCT, GCC, False\n2697, ATG, ATG, ATG, True\n2700, CAA, CAG, CAG, True\n2703, ATG, ATG, ATG, True\n2706, GCT, GCC, GCC, True\n2709, TAT, TAC, TAC, True\n2712, AGG, CGG, CGC, False\n2715, TTT, TTC, TTC, True\n2718, AAT, AAC, AAC, True\n2721, GGT, GGC, GGC, True\n2724, ATT, ATC, ATC, True\n2727, GGA, GGA, GGC, False\n2730, GTT, GTG, GTC, False\n2733, ACA, ACC, ACC, True\n2736, CAG, CAG, CAG, True\n2739, AAT, AAT, AAC, False\n2742, GTT, GTG, GTC, False\n2745, CTC, CTG, CTC, False\n2748, TAT, TAC, TAC, True\n2751, GAG, GAG, GAG, True\n2754, AAC, AAC, AAC, True\n2757, CAA, CAG, CAG, True\n2760, AAA, AAG, AAG, True\n2763, TTG, CTG, CTC, False\n2766, ATT, ATC, ATC, True\n2769, GCC, GCC, GCC, True\n2772, AAC, AAC, AAC, True\n2775, CAA, CAG, CAG, True\n2778, TTT, TTC, TTC, True\n2781, AAT, AAC, AAC, True\n2784, AGT, AGC, AGC, True\n2787, GCT, GCC, GCC, True\n2790, ATT, ATC, ATC, True\n2793, GGC, GGC, GGC, True\n2796, AAA, AAG, AAG, True\n2799, ATT, ATC, ATC, True\n2802, CAA, CAG, CAG, True\n2805, GAC, GAC, GAC, True\n2808, TCA, AGC, AGC, True\n2811, CTT, CTG, CTC, False\n2814, TCT, AGC, AGC, True\n2817, TCC, AGC, TCC, False\n2820, ACA, ACA, ACC, False\n2823, GCA, GCA, GCC, False\n2826, AGT, AGC, AGC, True\n2829, GCA, GCC, GCC, True\n2832, CTT, CTG, CTC, False\n2835, GGA, GGA, GGC, False\n2838, AAA, AAG, AAG, True\n2841, CTT, CTG, CTC, False\n2844, CAA, CAG, CAG, True\n2847, GAT, GAC, GAC, True\n2850, GTG, GTG, GTG, True\n2853, GTC, GTC, GTC, True\n2856, AAC, AAC, AAC, True\n2859, CAA, CAG, CAG, True\n2862, AAT, AAT, AAC, False\n2865, GCA, GCC, GCC, True\n2868, CAA, CAG, CAG, True\n2871, GCT, GCA, GCC, False\n2874, TTA, CTG, CTC, False\n2877, AAC, AAC, AAC, True\n2880, ACG, ACC, ACG, False\n2883, CTT, CTG, CTC, False\n2886, GTT, GTC, GTC, True\n2889, AAA, AAG, AAG, True\n2892, CAA, CAG, CAG, True\n2895, CTT, CTG, CTC, False\n2898, AGC, TCC, AGC, False\n2901, TCC, TCC, TCC, True\n2904, AAT, AAC, AAC, True\n2907, TTT, TTC, TTC, True\n2910, GGT, GGC, GGC, True\n2913, GCA, GCC, GCC, True\n2916, ATT, ATC, ATC, True\n2919, TCA, AGC, AGC, True\n2922, AGT, TCT, AGC, False\n2925, GTT, GTG, GTC, False\n2928, TTA, CTG, CTC, False\n2931, AAT, AAC, AAC, True\n2934, GAT, GAT, GAC, False\n2937, ATC, ATC, ATC, True\n2940, CTT, CTG, CTC, False\n2943, TCA, AGC, AGC, True\n2946, CGT, AGA, CGC, False\n2949, CTT, CTG, CTC, False\n2952, GAC, GAC, GAC, True\n2955, AAA, CCT, AAG, False\n2958, GTT, CCT, GTC, False\n2961, GAG, GAG, GAG, True\n2964, GCT, GCC, GCC, True\n2967, GAA, GAG, GAG, True\n2970, GTG, GTG, GTG, True\n2973, CAA, CAG, CAG, True\n2976, ATT, ATC, ATC, True\n2979, GAT, GAC, GAC, True\n2982, AGG, AGA, CGC, False\n2985, TTG, CTG, CTC, False\n2988, ATC, ATC, ATC, True\n2991, ACA, ACA, ACC, False\n2994, GGC, GGC, GGC, True\n2997, AGA, AGA, CGC, False\n3000, CTT, CTG, CTC, False\n3003, CAA, CAG, CAG, True\n3006, AGT, AGC, AGC, True\n3009, TTG, CTC, CTC, True\n3012, CAG, CAG, CAG, True\n3015, ACA, ACA, ACC, False\n3018, TAT, TAC, TAC, True\n3021, GTG, GTG, GTG, True\n3024, ACT, ACC, ACC, True\n3027, CAA, CAG, CAG, True\n3030, CAA, CAG, CAG, True\n3033, TTA, CTG, CTC, False\n3036, ATT, ATC, ATC, True\n3039, AGA, AGA, CGC, False\n3042, GCT, GCC, GCC, True\n3045, GCA, GCC, GCC, True\n3048, GAA, GAG, GAG, True\n3051, ATC, ATT, ATC, False\n3054, AGA, AGA, CGC, False\n3057, GCT, GCC, GCC, True\n3060, TCT, TCT, AGC, False\n3063, GCT, GCC, GCC, True\n3066, AAT, AAT, AAC, False\n3069, CTT, CTG, CTC, False\n3072, GCT, GCC, GCC, True\n3075, GCT, GCC, GCC, True\n3078, ACT, ACC, ACC, True\n3081, AAA, AAG, AAG, True\n3084, ATG, ATG, ATG, True\n3087, TCA, TCT, AGC, False\n3090, GAG, GAG, GAG, True\n3093, TGT, TGT, TGC, False\n3096, GTA, GTG, GTC, False\n3099, CTT, CTG, CTC, False\n3102, GGA, GGC, GGC, True\n3105, CAA, CAG, CAG, True\n3108, TCA, AGC, AGC, True\n3111, AAA, AAG, AAG, True\n3114, AGA, AGA, CGC, False\n3117, GTT, GTG, GTC, False\n3120, GAT, GAC, GAC, True\n3123, TTT, TTT, TTC, False\n3126, TGT, TGC, TGC, True\n3129, GGA, GGC, GGC, True\n3132, AAG, AAG, AAG, True\n3135, GGC, GGC, GGC, True\n3138, TAT, TAC, TAC, True\n3141, CAT, CAC, CAC, True\n3144, CTT, CTG, CTC, False\n3147, ATG, ATG, ATG, True\n3150, TCC, AGC, TCC, False\n3153, TTC, TTC, TTC, True\n3156, CCT, CCT, CCC, False\n3159, CAG, CAG, CAG, True\n3162, TCA, TCT, AGC, False\n3165, GCA, GCC, GCC, True\n3168, CCT, CCT, CCC, False\n3171, CAT, CAC, CAC, True\n3174, GGT, GGC, GGC, True\n3177, GTA, GTG, GTC, False\n3180, GTC, GTG, GTC, False\n3183, TTC, TTT, TTC, False\n3186, TTG, CTG, CTC, False\n3189, CAT, CAC, CAC, True\n3192, GTG, GTG, GTG, True\n3195, ACT, ACA, ACC, False\n3198, TAT, TAT, TAC, False\n3201, GTC, GTG, GTC, False\n3204, CCT, CCC, CCC, True\n3207, GCA, GCT, GCC, False\n3210, CAA, CAA, CAG, False\n3213, GAA, GAG, GAG, True\n3216, AAG, AAG, AAG, True\n3219, AAC, AAT, AAC, False\n3222, TTC, TTC, TTC, True\n3225, ACA, ACC, ACC, True\n3228, ACT, ACC, ACC, True\n3231, GCT, GCT, GCC, False\n3234, CCT, CCA, CCC, False\n3237, GCC, GCC, GCC, True\n3240, ATT, ATC, ATC, True\n3243, TGT, TGC, TGC, True\n3246, CAT, CAC, CAC, True\n3249, GAT, GAC, GAC, True\n3252, GGA, GGC, GGC, True\n3255, AAA, AAA, AAG, False\n3258, GCA, GCC, GCC, True\n3261, CAC, CAC, CAC, True\n3264, TTT, TTT, TTC, False\n3267, CCT, CCT, CCC, False\n3270, CGT, AGA, CGC, False\n3273, GAA, GAA, GAG, False\n3276, GGT, GGC, GGC, True\n3279, GTC, GTG, GTC, False\n3282, TTT, TTC, TTC, True\n3285, GTT, GTG, GTC, False\n3288, TCA, TCC, AGC, False\n3291, AAT, AAC, AAC, True\n3294, GGC, GGC, GGC, True\n3297, ACA, ACC, ACC, True\n3300, CAC, CAT, CAC, False\n3303, TGG, TGG, TGG, True\n3306, TTT, TTC, TTC, True\n3309, GTA, GTG, GTC, False\n3312, ACA, ACA, ACC, False\n3315, CAA, CAG, CAG, True\n3318, AGG, CGG, CGC, False\n3321, AAT, AAC, AAC, True\n3324, TTT, TTC, TTC, True\n3327, TAT, TAC, TAC, True\n3330, GAA, GAG, GAG, True\n3333, CCA, CCC, CCC, True\n3336, CAA, CAG, CAG, True\n3339, ATC, ATC, ATC, True\n3342, ATT, ATC, ATC, True\n3345, ACT, ACC, ACC, True\n3348, ACA, ACC, ACC, True\n3351, GAC, GAC, GAC, True\n3354, AAC, AAC, AAC, True\n3357, ACA, ACC, ACC, True\n3360, TTT, TTC, TTC, True\n3363, GTG, GTG, GTG, True\n3366, TCT, TCT, AGC, False\n3369, GGT, GGC, GGC, True\n3372, AAC, AAC, AAC, True\n3375, TGT, TGC, TGC, True\n3378, GAT, GAC, GAC, True\n3381, GTT, GTC, GTC, True\n3384, GTA, GTG, GTC, False\n3387, ATA, ATC, ATC, True\n3390, GGA, GGC, GGC, True\n3393, ATT, ATT, ATC, False\n3396, GTC, GTG, GTC, False\n3399, AAC, AAC, AAC, True\n3402, AAC, AAT, AAC, False\n3405, ACA, ACC, ACC, True\n3408, GTT, GTG, GTC, False\n3411, TAT, TAC, TAC, True\n3414, GAT, GAC, GAC, True\n3417, CCT, CCT, CCC, False\n3420, TTG, CTG, CTC, False\n3423, CAA, CAG, CAG, True\n3426, CCT, CCC, CCC, True\n3429, GAA, GAG, GAG, True\n3432, TTA, CTG, CTC, False\n3435, GAC, GAC, GAC, True\n3438, TCA, AGC, AGC, True\n3441, TTC, TTC, TTC, True\n3444, AAG, AAA, AAG, False\n3447, GAG, GAG, GAG, True\n3450, GAG, GAA, GAG, False\n3453, TTA, CTG, CTC, False\n3456, GAT, GAC, GAC, True\n3459, AAA, AAG, AAG, True\n3462, TAT, TAC, TAC, True\n3465, TTT, TTT, TTC, False\n3468, AAG, AAG, AAG, True\n3471, AAT, AAC, AAC, True\n3474, CAT, CAC, CAC, True\n3477, ACA, ACA, ACC, False\n3480, TCA, AGC, AGC, True\n3483, CCA, CCC, CCC, True\n3486, GAT, GAC, GAC, True\n3489, GTT, GTG, GTC, False\n3492, GAT, GAC, GAC, True\n3495, TTA, CTG, CTC, False\n3498, GGT, GGC, GGC, True\n3501, GAC, GAT, GAC, False\n3504, ATC, ATC, ATC, True\n3507, TCT, AGC, AGC, True\n3510, GGC, GGA, GGC, False\n3513, ATT, ATC, ATC, True\n3516, AAT, AAT, AAC, False\n3519, GCT, GCC, GCC, True\n3522, TCA, AGC, AGC, True\n3525, GTT, GTC, GTC, True\n3528, GTA, GTG, GTC, False\n3531, AAC, AAC, AAC, True\n3534, ATT, ATC, ATC, True\n3537, CAA, CAG, CAG, True\n3540, AAA, AAA, AAG, False\n3543, GAA, GAG, GAG, True\n3546, ATT, ATC, ATC, True\n3549, GAC, GAC, GAC, True\n3552, CGC, CGG, CGC, False\n3555, CTC, CTG, CTC, False\n3558, AAT, AAC, AAC, True\n3561, GAG, GAG, GAG, True\n3564, GTT, GTG, GTC, False\n3567, GCC, GCC, GCC, True\n3570, AAG, AAG, AAG, True\n3573, AAT, AAT, AAC, False\n3576, TTA, CTG, CTC, False\n3579, AAT, AAC, AAC, True\n3582, GAA, GAG, GAG, True\n3585, TCT, AGC, AGC, True\n3588, CTC, CTG, CTC, False\n3591, ATC, ATC, ATC, True\n3594, GAT, GAC, GAC, True\n3597, CTC, CTG, CTC, False\n3600, CAA, CAA, CAG, False\n3603, GAA, GAA, GAG, False\n3606, CTT, CTG, CTC, False\n3609, GGA, GGG, GGC, False\n3612, AAG, AAG, AAG, True\n3615, TAT, TAC, TAC, True\n3618, GAG, GAG, GAG, True\n3621, CAG, CAG, CAG, True\n3624, TAT, TAC, TAC, True\n3627, ATA, ATC, ATC, True\n3630, AAA, AAG, AAG, True\n3633, TGG, TGG, TGG, True\n3636, CCA, CCC, CCC, True\n3639, TGG, TGG, TGG, True\n3642, TAC, TAC, TAC, True\n3645, ATT, ATC, ATC, True\n3648, TGG, TGG, TGG, True\n3651, CTA, CTG, CTC, False\n3654, GGT, GGC, GGC, True\n3657, TTT, TTT, TTC, False\n3660, ATA, ATC, ATC, True\n3663, GCT, GCC, GCC, True\n3666, GGC, GGA, GGC, False\n3669, TTG, CTG, CTC, False\n3672, ATT, ATT, ATC, False\n3675, GCC, GCC, GCC, True\n3678, ATA, ATC, ATC, True\n3681, GTA, GTG, GTC, False\n3684, ATG, ATG, ATG, True\n3687, GTG, GTC, GTG, False\n3690, ACA, ACA, ACC, False\n3693, ATT, ATC, ATC, True\n3696, ATG, ATG, ATG, True\n3699, CTT, CTG, CTC, False\n3702, TGC, TGT, TGC, False\n3705, TGT, TGC, TGC, True\n3708, ATG, ATG, ATG, True\n3711, ACC, ACC, ACC, True\n3714, AGT, AGC, AGC, True\n3717, TGC, TGC, TGC, True\n3720, TGT, TGT, TGC, False\n3723, AGT, AGC, AGC, True\n3726, TGT, TGC, TGC, True\n3729, CTC, CTG, CTC, False\n3732, AAG, AAG, AAG, True\n3735, GGC, GGC, GGC, True\n3738, TGT, TGT, TGC, False\n3741, TGT, TGT, TGC, False\n3744, TCT, AGC, AGC, True\n3747, TGT, TGT, TGC, False\n3750, GGA, GGC, GGC, True\n3753, TCC, AGC, TCC, False\n3756, TGC, TGC, TGC, True\n3759, TGC, TGC, TGC, True\n3762, AAA, AAG, AAG, True\n3765, TTT, TTC, TTC, True\n3768, GAT, GAC, GAC, True\n3771, GAA, GAG, GAG, True\n3774, GAC, GAC, GAC, True\n3777, GAC, GAT, GAC, False\n3780, TCT, TCT, AGC, False\n3783, GAG, GAG, GAG, True\n3786, CCA, CCC, CCC, True\n3789, GTG, GTG, GTG, True\n3792, CTC, CTG, CTC, False\n3795, AAA, AAG, AAG, True\n3798, GGA, GGC, GGC, True\n3801, GTC, GTG, GTC, False\n3804, AAA, AAA, AAG, False\n3807, TTA, CTG, CTC, False\n3810, CAT, CAC, CAC, True\n3813, TAC, TAC, TAC, True\n3816, ACA, ACA, ACC, False\n3819, TAA, TGA, TAG, False\n"
     ]
    }
   ],
   "source": [
    "print(\"abspos, virus, vaccine, suggestion\")\n",
    "\n",
    "for codon in codons:\n",
    "    print(f\"{codon['abspos']}, {codon['virus']}, {codon['vaccine']}, {codon['suggestion']}, {codon['vaccine'] == codon['suggestion']}\")"
   ]
  },
  {
   "source": [
    "### Find differences"
   ],
   "cell_type": "markdown",
   "metadata": {}
  },
  {
   "cell_type": "code",
   "execution_count": 76,
   "metadata": {},
   "outputs": [
    {
     "output_type": "stream",
     "name": "stdout",
     "text": [
      "Pfizer: GTG, Suggestion: GTC, Score difference: 0\nPfizer: CTG, Suggestion: CTC, Score difference: 0\nPfizer: GTG, Suggestion: GTC, Score difference: 0\nPfizer: CTG, Suggestion: CTC, Score difference: 0\nPfizer: CTG, Suggestion: CTC, Score difference: 0\nPfizer: CCT, Suggestion: CCC, Score difference: 1\nPfizer: CTG, Suggestion: CTC, Score difference: 0\nPfizer: GTG, Suggestion: GTC, Score difference: 0\nPfizer: TCC, Suggestion: AGC, Score difference: 0\nPfizer: TGT, Suggestion: TGC, Score difference: 1\nPfizer: GTG, Suggestion: GTC, Score difference: 0\nPfizer: CTG, Suggestion: CTC, Score difference: 0\nPfizer: AGA, Suggestion: CGC, Score difference: 2\nPfizer: ACA, Suggestion: ACC, Score difference: 1\nPfizer: CTG, Suggestion: CTC, Score difference: 0\nPfizer: CCT, Suggestion: CCC, Score difference: 1\nPfizer: CCA, Suggestion: CCC, Score difference: 1\nPfizer: TTT, Suggestion: TTC, Score difference: 1\nPfizer: AGA, Suggestion: CGC, Score difference: 2\nPfizer: GTG, Suggestion: GTC, Score difference: 0\nPfizer: GTG, Suggestion: GTC, Score difference: 0\nPfizer: AGA, Suggestion: CGC, Score difference: 2\nPfizer: GTG, Suggestion: GTC, Score difference: 0\nPfizer: CTG, Suggestion: CTC, Score difference: 0\nPfizer: TCT, Suggestion: AGC, Score difference: 1\nPfizer: CTG, Suggestion: CTC, Score difference: 0\nPfizer: CTG, Suggestion: CTC, Score difference: 0\nPfizer: CCT, Suggestion: CCC, Score difference: 1\nPfizer: AGC, Suggestion: TCC, Score difference: 0\nPfizer: GTG, Suggestion: GTC, Score difference: 0\nPfizer: GTG, Suggestion: GTC, Score difference: 0\nPfizer: TCC, Suggestion: AGC, Score difference: 0\nPfizer: GGC, Suggestion: GGG, Score difference: 0\nPfizer: AAT, Suggestion: AAC, Score difference: 1\nPfizer: AGA, Suggestion: CGC, Score difference: 2\nPfizer: GTG, Suggestion: GTC, Score difference: 0\nPfizer: CTG, Suggestion: CTC, Score difference: 0\nPfizer: GGG, Suggestion: GGC, Score difference: 0\nPfizer: GTG, Suggestion: GTC, Score difference: 0\nPfizer: TTT, Suggestion: TTC, Score difference: 1\nPfizer: AGC, Suggestion: TCC, Score difference: 0\nPfizer: TCC, Suggestion: AGC, Score difference: 0\nPfizer: AGA, Suggestion: CGC, Score difference: 2\nPfizer: ACA, Suggestion: ACC, Score difference: 1\nPfizer: CTG, Suggestion: CTC, Score difference: 0\nPfizer: AGC, Suggestion: TCG, Score difference: 0\nPfizer: AGC, Suggestion: TCC, Score difference: 0\nPfizer: CTG, Suggestion: CTC, Score difference: 0\nPfizer: CTG, Suggestion: CTC, Score difference: 0\nPfizer: GTG, Suggestion: GTC, Score difference: 0\nPfizer: GTG, Suggestion: GTC, Score difference: 0\nPfizer: AAA, Suggestion: AAG, Score difference: 1\nPfizer: GTG, Suggestion: GTC, Score difference: 0\nPfizer: CTG, Suggestion: CTC, Score difference: 0\nPfizer: GAA, Suggestion: GAG, Score difference: 1\nPfizer: CGG, Suggestion: CGC, Score difference: 0\nPfizer: GTG, Suggestion: GTC, Score difference: 0\nPfizer: GCC, Suggestion: GCG, Score difference: 0\nPfizer: GTG, Suggestion: GTC, Score difference: 0\nPfizer: TCC, Suggestion: AGC, Score difference: 0\nPfizer: CCT, Suggestion: CCC, Score difference: 1\nPfizer: CTG, Suggestion: CTC, Score difference: 0\nPfizer: CTG, Suggestion: CTC, Score difference: 0\nPfizer: GAA, Suggestion: GAG, Score difference: 1\nPfizer: CTG, Suggestion: CTC, Score difference: 0\nPfizer: TTT, Suggestion: TTC, Score difference: 1\nPfizer: ACC, Suggestion: ACG, Score difference: 0\nPfizer: CCT, Suggestion: CCC, Score difference: 1\nPfizer: CGG, Suggestion: CGC, Score difference: 0\nPfizer: GAT, Suggestion: GAC, Score difference: 1\nPfizer: CTG, Suggestion: CTC, Score difference: 0\nPfizer: CCT, Suggestion: CCC, Score difference: 1\nPfizer: TCT, Suggestion: TCG, Score difference: 1\nPfizer: GCT, Suggestion: GCC, Score difference: 1\nPfizer: CTG, Suggestion: CTC, Score difference: 0\nPfizer: GAA, Suggestion: GAG, Score difference: 1\nPfizer: CTG, Suggestion: CTC, Score difference: 0\nPfizer: GTG, Suggestion: GTC, Score difference: 0\nPfizer: GAT, Suggestion: GAC, Score difference: 1\nPfizer: CTG, Suggestion: CTC, Score difference: 0\nPfizer: CGG, Suggestion: CGC, Score difference: 0\nPfizer: TTT, Suggestion: TTC, Score difference: 1\nPfizer: ACA, Suggestion: ACC, Score difference: 1\nPfizer: CTG, Suggestion: CTC, Score difference: 0\nPfizer: CTG, Suggestion: CTC, Score difference: 0\nPfizer: CTG, Suggestion: CTC, Score difference: 0\nPfizer: AGA, Suggestion: CGC, Score difference: 2\nPfizer: CTG, Suggestion: CTC, Score difference: 0\nPfizer: ACA, Suggestion: ACC, Score difference: 1\nPfizer: CCT, Suggestion: CCC, Score difference: 1\nPfizer: GAT, Suggestion: GAC, Score difference: 1\nPfizer: GGA, Suggestion: GGC, Score difference: 1\nPfizer: ACA, Suggestion: ACC, Score difference: 1\nPfizer: GCT, Suggestion: GCC, Score difference: 1\nPfizer: GGT, Suggestion: GGC, Score difference: 1\nPfizer: GCT, Suggestion: GCC, Score difference: 1\nPfizer: TAT, Suggestion: TAC, Score difference: 1\nPfizer: CTG, Suggestion: CTC, Score difference: 0\nPfizer: CCT, Suggestion: CCC, Score difference: 1\nPfizer: AGA, Suggestion: CGC, Score difference: 2\nPfizer: CTG, Suggestion: CTC, Score difference: 0\nPfizer: CTG, Suggestion: CTC, Score difference: 0\nPfizer: GTG, Suggestion: GTC, Score difference: 0\nPfizer: GAT, Suggestion: GAC, Score difference: 1\nPfizer: TGT, Suggestion: TGC, Score difference: 1\nPfizer: GCT, Suggestion: GCC, Score difference: 1\nPfizer: CTG, Suggestion: CTC, Score difference: 0\nPfizer: GAT, Suggestion: GAC, Score difference: 1\nPfizer: CCT, Suggestion: CCC, Score difference: 1\nPfizer: CTG, Suggestion: CTC, Score difference: 0\nPfizer: ACA, Suggestion: ACC, Score difference: 1\nPfizer: ACC, Suggestion: ACG, Score difference: 0\nPfizer: CTG, Suggestion: CTC, Score difference: 0\nPfizer: GTG, Suggestion: GTC, Score difference: 0\nPfizer: GAA, Suggestion: GAG, Score difference: 1\nPfizer: CGG, Suggestion: CGC, Score difference: 0\nPfizer: GTG, Suggestion: GTC, Score difference: 0\nPfizer: GAA, Suggestion: GAG, Score difference: 1\nPfizer: TCC, Suggestion: AGC, Score difference: 0\nPfizer: GTG, Suggestion: GTC, Score difference: 0\nPfizer: CGG, Suggestion: CGC, Score difference: 0\nPfizer: AAT, Suggestion: AAC, Score difference: 1\nPfizer: AAT, Suggestion: AAC, Score difference: 1\nPfizer: CTG, Suggestion: CTC, Score difference: 0\nPfizer: GTG, Suggestion: GTC, Score difference: 0\nPfizer: AAT, Suggestion: AAC, Score difference: 1\nPfizer: AGA, Suggestion: CGC, Score difference: 2\nPfizer: TCT, Suggestion: AGC, Score difference: 1\nPfizer: GTG, Suggestion: GTC, Score difference: 0\nPfizer: CGG, Suggestion: CGC, Score difference: 0\nPfizer: CGG, Suggestion: CGC, Score difference: 0\nPfizer: AAT, Suggestion: AAC, Score difference: 1\nPfizer: GTG, Suggestion: GTC, Score difference: 0\nPfizer: TCC, Suggestion: AGC, Score difference: 0\nPfizer: GTG, Suggestion: GTC, Score difference: 0\nPfizer: CTG, Suggestion: CTC, Score difference: 0\nPfizer: AGC, Suggestion: TCC, Score difference: 0\nPfizer: TCC, Suggestion: AGC, Score difference: 0\nPfizer: CCT, Suggestion: CCC, Score difference: 1\nPfizer: CTG, Suggestion: CTC, Score difference: 0\nPfizer: CTG, Suggestion: CTC, Score difference: 0\nPfizer: ACA, Suggestion: ACC, Score difference: 1\nPfizer: GTG, Suggestion: GTC, Score difference: 0\nPfizer: GTG, Suggestion: GTC, Score difference: 0\nPfizer: CGG, Suggestion: CGC, Score difference: 0\nPfizer: GGA, Suggestion: GGC, Score difference: 1\nPfizer: GAT, Suggestion: GAC, Score difference: 1\nPfizer: GAA, Suggestion: GAG, Score difference: 1\nPfizer: GTG, Suggestion: GTC, Score difference: 0\nPfizer: CGG, Suggestion: CGC, Score difference: 0\nPfizer: ATT, Suggestion: ATC, Score difference: 1\nPfizer: CCT, Suggestion: CCC, Score difference: 1\nPfizer: GGA, Suggestion: GGG, Score difference: 1\nPfizer: ACA, Suggestion: ACC, Score difference: 1\nPfizer: CTG, Suggestion: CTC, Score difference: 0\nPfizer: TGT, Suggestion: TGC, Score difference: 1\nPfizer: GTG, Suggestion: GTC, Score difference: 0\nPfizer: ATT, Suggestion: ATC, Score difference: 1\nPfizer: CTG, Suggestion: CTC, Score difference: 0\nPfizer: TCC, Suggestion: AGC, Score difference: 0\nPfizer: AAA, Suggestion: AAG, Score difference: 1\nPfizer: AAT, Suggestion: AAC, Score difference: 1\nPfizer: CGG, Suggestion: CGC, Score difference: 0\nPfizer: CTG, Suggestion: CTC, Score difference: 0\nPfizer: CGG, Suggestion: CGC, Score difference: 0\nPfizer: TCC, Suggestion: AGC, Score difference: 0\nPfizer: AAT, Suggestion: AAC, Score difference: 1\nPfizer: CTG, Suggestion: CTC, Score difference: 0\nPfizer: CGG, Suggestion: CGC, Score difference: 0\nPfizer: TCC, Suggestion: AGC, Score difference: 0\nPfizer: TAT, Suggestion: TAC, Score difference: 1\nPfizer: CCT, Suggestion: CCC, Score difference: 1\nPfizer: TGT, Suggestion: TGC, Score difference: 1\nPfizer: GTG, Suggestion: GTC, Score difference: 0\nPfizer: GAA, Suggestion: GAG, Score difference: 1\nPfizer: CCA, Suggestion: CCC, Score difference: 1\nPfizer: CTG, Suggestion: CTC, Score difference: 0\nPfizer: TCC, Suggestion: AGC, Score difference: 0\nPfizer: TTT, Suggestion: TTC, Score difference: 1\nPfizer: ACA, Suggestion: ACC, Score difference: 1\nPfizer: AAT, Suggestion: AAC, Score difference: 1\nPfizer: GTG, Suggestion: GTC, Score difference: 0\nPfizer: TAT, Suggestion: TAC, Score difference: 1\nPfizer: AGA, Suggestion: CGC, Score difference: 2\nPfizer: GTG, Suggestion: GTC, Score difference: 0\nPfizer: GTG, Suggestion: GTC, Score difference: 0\nPfizer: GTG, Suggestion: GTC, Score difference: 0\nPfizer: CTG, Suggestion: CTC, Score difference: 0\nPfizer: GAA, Suggestion: GAG, Score difference: 1\nPfizer: CTG, Suggestion: CTC, Score difference: 0\nPfizer: CTG, Suggestion: CTC, Score difference: 0\nPfizer: CAT, Suggestion: CAC, Score difference: 1\nPfizer: CCT, Suggestion: CCC, Score difference: 1\nPfizer: ACA, Suggestion: ACC, Score difference: 1\nPfizer: GTG, Suggestion: GTC, Score difference: 0\nPfizer: CCT, Suggestion: CCC, Score difference: 1\nPfizer: AAA, Suggestion: AAG, Score difference: 1\nPfizer: AAT, Suggestion: AAC, Score difference: 1\nPfizer: GTG, Suggestion: GTC, Score difference: 0\nPfizer: AAA, Suggestion: AAG, Score difference: 1\nPfizer: GTG, Suggestion: GTC, Score difference: 0\nPfizer: CTG, Suggestion: CTC, Score difference: 0\nPfizer: GTG, Suggestion: GTC, Score difference: 0\nPfizer: CTG, Suggestion: CTC, Score difference: 0\nPfizer: ACA, Suggestion: ACC, Score difference: 1\nPfizer: CCA, Suggestion: CCC, Score difference: 1\nPfizer: TTT, Suggestion: TTC, Score difference: 1\nPfizer: CGG, Suggestion: CGC, Score difference: 0\nPfizer: GAT, Suggestion: GAC, Score difference: 1\nPfizer: GAT, Suggestion: GAC, Score difference: 1\nPfizer: ACA, Suggestion: ACC, Score difference: 1\nPfizer: GTT, Suggestion: GTC, Score difference: 1\nPfizer: AGA, Suggestion: CGC, Score difference: 2\nPfizer: GAT, Suggestion: GAC, Score difference: 1\nPfizer: ACA, Suggestion: ACC, Score difference: 1\nPfizer: CTG, Suggestion: CTC, Score difference: 0\nPfizer: GAA, Suggestion: GAG, Score difference: 1\nPfizer: CTG, Suggestion: CTC, Score difference: 0\nPfizer: CCT, Suggestion: CCC, Score difference: 1\nPfizer: GGA, Suggestion: GGC, Score difference: 1\nPfizer: GTG, Suggestion: GTC, Score difference: 0\nPfizer: TCT, Suggestion: AGC, Score difference: 1\nPfizer: GTG, Suggestion: GTC, Score difference: 0\nPfizer: CCT, Suggestion: CCC, Score difference: 1\nPfizer: AAT, Suggestion: AAC, Score difference: 1\nPfizer: GTG, Suggestion: GTC, Score difference: 0\nPfizer: GCA, Suggestion: GCC, Score difference: 1\nPfizer: GTG, Suggestion: GTC, Score difference: 0\nPfizer: CTG, Suggestion: CTC, Score difference: 0\nPfizer: GTG, Suggestion: GTC, Score difference: 0\nPfizer: TGT, Suggestion: TGC, Score difference: 1\nPfizer: GAA, Suggestion: GAG, Score difference: 1\nPfizer: GTG, Suggestion: GTC, Score difference: 0\nPfizer: GTG, Suggestion: GTC, Score difference: 0\nPfizer: ATT, Suggestion: ATC, Score difference: 1\nPfizer: GAT, Suggestion: GAC, Score difference: 1\nPfizer: CTG, Suggestion: CTC, Score difference: 0\nPfizer: ACA, Suggestion: ACC, Score difference: 1\nPfizer: CCT, Suggestion: CCC, Score difference: 1\nPfizer: ACA, Suggestion: ACC, Score difference: 1\nPfizer: CGG, Suggestion: CGC, Score difference: 0\nPfizer: GTG, Suggestion: GTC, Score difference: 0\nPfizer: TCC, Suggestion: AGC, Score difference: 0\nPfizer: AAT, Suggestion: AAC, Score difference: 1\nPfizer: GTG, Suggestion: GTC, Score difference: 0\nPfizer: TTT, Suggestion: TTC, Score difference: 1\nPfizer: AGA, Suggestion: CGC, Score difference: 2\nPfizer: TGT, Suggestion: TGC, Score difference: 1\nPfizer: CTG, Suggestion: CTC, Score difference: 0\nPfizer: GGA, Suggestion: GGG, Score difference: 1\nPfizer: GTG, Suggestion: GTC, Score difference: 0\nPfizer: AAT, Suggestion: AAC, Score difference: 1\nPfizer: GCT, Suggestion: GCC, Score difference: 1\nPfizer: GGA, Suggestion: GGC, Score difference: 1\nPfizer: ACA, Suggestion: ACC, Score difference: 1\nPfizer: ACA, Suggestion: ACC, Score difference: 1\nPfizer: CCT, Suggestion: CCC, Score difference: 1\nPfizer: AGA, Suggestion: CGG, Score difference: 2\nPfizer: AGA, Suggestion: CGC, Score difference: 2\nPfizer: GTG, Suggestion: GTC, Score difference: 0\nPfizer: AGC, Suggestion: TCC, Score difference: 0\nPfizer: ATT, Suggestion: ATC, Score difference: 1\nPfizer: ACA, Suggestion: ACC, Score difference: 1\nPfizer: TCT, Suggestion: AGC, Score difference: 1\nPfizer: CTG, Suggestion: CTC, Score difference: 0\nPfizer: GTG, Suggestion: GTC, Score difference: 0\nPfizer: TCC, Suggestion: AGC, Score difference: 0\nPfizer: TCT, Suggestion: AGC, Score difference: 1\nPfizer: GCT, Suggestion: GCC, Score difference: 1\nPfizer: GTG, Suggestion: GTC, Score difference: 0\nPfizer: ACA, Suggestion: ACC, Score difference: 1\nPfizer: CTG, Suggestion: CTC, Score difference: 0\nPfizer: CCT, Suggestion: CCC, Score difference: 1\nPfizer: TCC, Suggestion: AGC, Score difference: 0\nPfizer: GTG, Suggestion: GTC, Score difference: 0\nPfizer: GAT, Suggestion: GAC, Score difference: 1\nPfizer: TCC, Suggestion: AGC, Score difference: 0\nPfizer: TCC, Suggestion: AGC, Score difference: 0\nPfizer: CTG, Suggestion: CTC, Score difference: 0\nPfizer: CTG, Suggestion: CTC, Score difference: 0\nPfizer: CTG, Suggestion: CTC, Score difference: 0\nPfizer: CTG, Suggestion: CTC, Score difference: 0\nPfizer: AAT, Suggestion: AAC, Score difference: 1\nPfizer: AGA, Suggestion: CGC, Score difference: 2\nPfizer: CTG, Suggestion: CTC, Score difference: 0\nPfizer: ACA, Suggestion: ACC, Score difference: 1\nPfizer: GGG, Suggestion: GGC, Score difference: 0\nPfizer: GTG, Suggestion: GTC, Score difference: 0\nPfizer: GAA, Suggestion: GAG, Score difference: 1\nPfizer: CAA, Suggestion: CAG, Score difference: 1\nPfizer: GTG, Suggestion: GTC, Score difference: 0\nPfizer: CAA, Suggestion: CAG, Score difference: 1\nPfizer: GTG, Suggestion: GTC, Score difference: 0\nPfizer: CCT, Suggestion: CCC, Score difference: 1\nPfizer: CCT, Suggestion: CCC, Score difference: 1\nPfizer: AAT, Suggestion: AAC, Score difference: 1\nPfizer: ATT, Suggestion: ATC, Score difference: 1\nPfizer: CTG, Suggestion: CTC, Score difference: 0\nPfizer: GAT, Suggestion: GAC, Score difference: 1\nPfizer: CCT, Suggestion: CCC, Score difference: 1\nPfizer: CGG, Suggestion: CGC, Score difference: 0\nPfizer: CTG, Suggestion: CTC, Score difference: 0\nPfizer: CTG, Suggestion: CTC, Score difference: 0\nPfizer: AAA, Suggestion: AAG, Score difference: 1\nPfizer: ACA, Suggestion: ACC, Score difference: 1\nPfizer: CTG, Suggestion: CTC, Score difference: 0\nPfizer: TAT, Suggestion: TAC, Score difference: 1\nPfizer: GAT, Suggestion: GAC, Score difference: 1\nPfizer: TGT, Suggestion: TGC, Score difference: 1\nPfizer: CTG, Suggestion: CTC, Score difference: 0\nPfizer: ATT, Suggestion: ATC, Score difference: 1\nPfizer: AGG, Suggestion: CGC, Score difference: 1\nPfizer: GAT, Suggestion: GAC, Score difference: 1\nPfizer: CTG, Suggestion: CTC, Score difference: 0\nPfizer: ATT, Suggestion: ATC, Score difference: 1\nPfizer: TTT, Suggestion: TTC, Score difference: 1\nPfizer: GGA, Suggestion: GGC, Score difference: 1\nPfizer: CTG, Suggestion: CTC, Score difference: 0\nPfizer: ACA, Suggestion: ACC, Score difference: 1\nPfizer: GTG, Suggestion: GTC, Score difference: 0\nPfizer: CTG, Suggestion: CTC, Score difference: 0\nPfizer: CCT, Suggestion: CCC, Score difference: 1\nPfizer: CCT, Suggestion: CCC, Score difference: 1\nPfizer: CTG, Suggestion: CTC, Score difference: 0\nPfizer: CTG, Suggestion: CTC, Score difference: 0\nPfizer: GAT, Suggestion: GAC, Score difference: 1\nPfizer: ACA, Suggestion: ACC, Score difference: 1\nPfizer: TCT, Suggestion: AGC, Score difference: 1\nPfizer: CTG, Suggestion: CTC, Score difference: 0\nPfizer: GCC, Suggestion: GCG, Score difference: 0\nPfizer: ACA, Suggestion: ACC, Score difference: 1\nPfizer: ACA, Suggestion: ACC, Score difference: 1\nPfizer: ACA, Suggestion: ACC, Score difference: 1\nPfizer: TTT, Suggestion: TTC, Score difference: 1\nPfizer: GGA, Suggestion: GGC, Score difference: 1\nPfizer: GCA, Suggestion: GCC, Score difference: 1\nPfizer: GCT, Suggestion: GCC, Score difference: 1\nPfizer: CTG, Suggestion: CTC, Score difference: 0\nPfizer: TTT, Suggestion: TTC, Score difference: 1\nPfizer: GCT, Suggestion: GCC, Score difference: 1\nPfizer: CGG, Suggestion: CGC, Score difference: 0\nPfizer: GGA, Suggestion: GGC, Score difference: 1\nPfizer: GTG, Suggestion: GTC, Score difference: 0\nPfizer: AAT, Suggestion: AAC, Score difference: 1\nPfizer: GTG, Suggestion: GTC, Score difference: 0\nPfizer: CTG, Suggestion: CTC, Score difference: 0\nPfizer: CTG, Suggestion: CTC, Score difference: 0\nPfizer: CTG, Suggestion: CTC, Score difference: 0\nPfizer: AGC, Suggestion: TCC, Score difference: 0\nPfizer: ACA, Suggestion: ACC, Score difference: 1\nPfizer: GCA, Suggestion: GCC, Score difference: 1\nPfizer: CTG, Suggestion: CTC, Score difference: 0\nPfizer: GGA, Suggestion: GGC, Score difference: 1\nPfizer: CTG, Suggestion: CTC, Score difference: 0\nPfizer: AAT, Suggestion: AAC, Score difference: 1\nPfizer: GCA, Suggestion: GCC, Score difference: 1\nPfizer: CTG, Suggestion: CTC, Score difference: 0\nPfizer: ACC, Suggestion: ACG, Score difference: 0\nPfizer: CTG, Suggestion: CTC, Score difference: 0\nPfizer: CTG, Suggestion: CTC, Score difference: 0\nPfizer: TCC, Suggestion: AGC, Score difference: 0\nPfizer: TCT, Suggestion: AGC, Score difference: 1\nPfizer: GTG, Suggestion: GTC, Score difference: 0\nPfizer: CTG, Suggestion: CTC, Score difference: 0\nPfizer: GAT, Suggestion: GAC, Score difference: 1\nPfizer: CTG, Suggestion: CTC, Score difference: 0\nPfizer: AGA, Suggestion: CGC, Score difference: 2\nPfizer: CTG, Suggestion: CTC, Score difference: 0\nPfizer: CCT, Suggestion: AAG, Score difference: -1\nPfizer: CCT, Suggestion: GTC, Score difference: 0\nPfizer: AGA, Suggestion: CGC, Score difference: 2\nPfizer: CTG, Suggestion: CTC, Score difference: 0\nPfizer: ACA, Suggestion: ACC, Score difference: 1\nPfizer: AGA, Suggestion: CGC, Score difference: 2\nPfizer: CTG, Suggestion: CTC, Score difference: 0\nPfizer: ACA, Suggestion: ACC, Score difference: 1\nPfizer: CTG, Suggestion: CTC, Score difference: 0\nPfizer: AGA, Suggestion: CGC, Score difference: 2\nPfizer: ATT, Suggestion: ATC, Score difference: 1\nPfizer: AGA, Suggestion: CGC, Score difference: 2\nPfizer: TCT, Suggestion: AGC, Score difference: 1\nPfizer: AAT, Suggestion: AAC, Score difference: 1\nPfizer: CTG, Suggestion: CTC, Score difference: 0\nPfizer: TCT, Suggestion: AGC, Score difference: 1\nPfizer: TGT, Suggestion: TGC, Score difference: 1\nPfizer: GTG, Suggestion: GTC, Score difference: 0\nPfizer: CTG, Suggestion: CTC, Score difference: 0\nPfizer: AGA, Suggestion: CGC, Score difference: 2\nPfizer: GTG, Suggestion: GTC, Score difference: 0\nPfizer: TTT, Suggestion: TTC, Score difference: 1\nPfizer: CTG, Suggestion: CTC, Score difference: 0\nPfizer: AGC, Suggestion: TCC, Score difference: 0\nPfizer: CCT, Suggestion: CCC, Score difference: 1\nPfizer: TCT, Suggestion: AGC, Score difference: 1\nPfizer: CCT, Suggestion: CCC, Score difference: 1\nPfizer: GTG, Suggestion: GTC, Score difference: 0\nPfizer: GTG, Suggestion: GTC, Score difference: 0\nPfizer: TTT, Suggestion: TTC, Score difference: 1\nPfizer: CTG, Suggestion: CTC, Score difference: 0\nPfizer: ACA, Suggestion: ACC, Score difference: 1\nPfizer: TAT, Suggestion: TAC, Score difference: 1\nPfizer: GTG, Suggestion: GTC, Score difference: 0\nPfizer: GCT, Suggestion: GCC, Score difference: 1\nPfizer: CAA, Suggestion: CAG, Score difference: 1\nPfizer: AAT, Suggestion: AAC, Score difference: 1\nPfizer: GCT, Suggestion: GCC, Score difference: 1\nPfizer: CCA, Suggestion: CCC, Score difference: 1\nPfizer: AAA, Suggestion: AAG, Score difference: 1\nPfizer: TTT, Suggestion: TTC, Score difference: 1\nPfizer: CCT, Suggestion: CCC, Score difference: 1\nPfizer: AGA, Suggestion: CGC, Score difference: 2\nPfizer: GAA, Suggestion: GAG, Score difference: 1\nPfizer: GTG, Suggestion: GTC, Score difference: 0\nPfizer: GTG, Suggestion: GTC, Score difference: 0\nPfizer: TCC, Suggestion: AGC, Score difference: 0\nPfizer: CAT, Suggestion: CAC, Score difference: 1\nPfizer: GTG, Suggestion: GTC, Score difference: 0\nPfizer: ACA, Suggestion: ACC, Score difference: 1\nPfizer: CGG, Suggestion: CGC, Score difference: 0\nPfizer: TCT, Suggestion: AGC, Score difference: 1\nPfizer: GTG, Suggestion: GTC, Score difference: 0\nPfizer: ATT, Suggestion: ATC, Score difference: 1\nPfizer: GTG, Suggestion: GTC, Score difference: 0\nPfizer: AAT, Suggestion: AAC, Score difference: 1\nPfizer: GTG, Suggestion: GTC, Score difference: 0\nPfizer: CCT, Suggestion: CCC, Score difference: 1\nPfizer: CTG, Suggestion: CTC, Score difference: 0\nPfizer: CTG, Suggestion: CTC, Score difference: 0\nPfizer: AAA, Suggestion: AAG, Score difference: 1\nPfizer: GAA, Suggestion: GAG, Score difference: 1\nPfizer: CTG, Suggestion: CTC, Score difference: 0\nPfizer: TTT, Suggestion: TTC, Score difference: 1\nPfizer: ACA, Suggestion: ACC, Score difference: 1\nPfizer: GTG, Suggestion: GTC, Score difference: 0\nPfizer: CTG, Suggestion: CTC, Score difference: 0\nPfizer: GAT, Suggestion: GAC, Score difference: 1\nPfizer: GGA, Suggestion: GGC, Score difference: 1\nPfizer: AAT, Suggestion: AAC, Score difference: 1\nPfizer: GTG, Suggestion: GTC, Score difference: 0\nPfizer: AAA, Suggestion: AAG, Score difference: 1\nPfizer: CGG, Suggestion: CGC, Score difference: 0\nPfizer: CTG, Suggestion: CTC, Score difference: 0\nPfizer: GTG, Suggestion: GTC, Score difference: 0\nPfizer: AAT, Suggestion: AAC, Score difference: 1\nPfizer: CTG, Suggestion: CTC, Score difference: 0\nPfizer: CTG, Suggestion: CTC, Score difference: 0\nPfizer: CTG, Suggestion: CTC, Score difference: 0\nPfizer: CAA, Suggestion: CAG, Score difference: 1\nPfizer: GAA, Suggestion: GAG, Score difference: 1\nPfizer: CTG, Suggestion: CTC, Score difference: 0\nPfizer: GGG, Suggestion: GGC, Score difference: 0\nPfizer: CTG, Suggestion: CTC, Score difference: 0\nPfizer: TTT, Suggestion: TTC, Score difference: 1\nPfizer: GGA, Suggestion: GGC, Score difference: 1\nPfizer: CTG, Suggestion: CTC, Score difference: 0\nPfizer: ATT, Suggestion: ATC, Score difference: 1\nPfizer: GTG, Suggestion: GTC, Score difference: 0\nPfizer: GTC, Suggestion: GTG, Score difference: 0\nPfizer: ACA, Suggestion: ACC, Score difference: 1\nPfizer: CTG, Suggestion: CTC, Score difference: 0\nPfizer: TGT, Suggestion: TGC, Score difference: 1\nPfizer: TGT, Suggestion: TGC, Score difference: 1\nPfizer: CTG, Suggestion: CTC, Score difference: 0\nPfizer: TGT, Suggestion: TGC, Score difference: 1\nPfizer: TGT, Suggestion: TGC, Score difference: 1\nPfizer: TGT, Suggestion: TGC, Score difference: 1\nPfizer: AGC, Suggestion: TCC, Score difference: 0\nPfizer: GAT, Suggestion: GAC, Score difference: 1\nPfizer: TCT, Suggestion: AGC, Score difference: 1\nPfizer: CTG, Suggestion: CTC, Score difference: 0\nPfizer: GTG, Suggestion: GTC, Score difference: 0\nPfizer: AAA, Suggestion: AAG, Score difference: 1\nPfizer: CTG, Suggestion: CTC, Score difference: 0\nPfizer: ACA, Suggestion: ACC, Score difference: 1\nPfizer: TGA, Suggestion: TAG, Score difference: 0\nTotal pfizer score: 733 (higher is better)\nTotal suggestion score: 993 (higher is better)\n"
     ]
    }
   ],
   "source": [
    "total_pfizer = 0\n",
    "total_suggestion = 0\n",
    "\n",
    "for codon in codons:\n",
    "    if codon['vaccine'] == codon['suggestion']:\n",
    "        continue\n",
    "\n",
    "    pfizer_score = calculate_codon_score(codon['vaccine'])\n",
    "    suggestion_score = calculate_codon_score(codon['suggestion'])\n",
    "    difference = suggestion_score - pfizer_score\n",
    "\n",
    "    total_pfizer += pfizer_score\n",
    "    total_suggestion += suggestion_score\n",
    "    \n",
    "    print(f\"Pfizer: {codon['vaccine']}, Suggestion: {codon['suggestion']}, Score difference: {difference}\")"
   ]
  },
  {
   "source": [
    "### Total scores\n",
    "\n",
    "_Can be slightly different because of 2 changed values by Pfizer_"
   ],
   "cell_type": "markdown",
   "metadata": {}
  },
  {
   "cell_type": "code",
   "execution_count": 77,
   "metadata": {},
   "outputs": [
    {
     "output_type": "stream",
     "name": "stdout",
     "text": [
      "Total pfizer score: 733 (higher is better)\nTotal suggestion score: 993 (higher is better)\n"
     ]
    }
   ],
   "source": [
    "print(f\"Total pfizer score: {total_pfizer} (higher is better)\")\n",
    "print(f\"Total suggestion score: {total_suggestion} (higher is better)\")"
   ]
  }
 ]
}