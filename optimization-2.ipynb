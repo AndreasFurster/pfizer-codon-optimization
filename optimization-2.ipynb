{
 "metadata": {
  "language_info": {
   "codemirror_mode": {
    "name": "ipython",
    "version": 3
   },
   "file_extension": ".py",
   "mimetype": "text/x-python",
   "name": "python",
   "nbconvert_exporter": "python",
   "pygments_lexer": "ipython3",
   "version": "3.7.3-final"
  },
  "orig_nbformat": 2,
  "kernelspec": {
   "name": "python3",
   "display_name": "Python 3",
   "language": "python"
  }
 },
 "nbformat": 4,
 "nbformat_minor": 2,
 "cells": [
  {
   "source": [
    "### Read CSV files"
   ],
   "cell_type": "markdown",
   "metadata": {}
  },
  {
   "cell_type": "code",
   "execution_count": 187,
   "metadata": {},
   "outputs": [
    {
     "output_type": "stream",
     "name": "stdout",
     "text": [
      "1274\n"
     ]
    }
   ],
   "source": [
    "import csv\n",
    "\n",
    "codons = []\n",
    "\n",
    "with open('data/side-by-side.csv', newline='') as csvfile:\n",
    "    csvreader = iter(csv.reader(csvfile, delimiter=','))\n",
    "    # Skip first row\n",
    "    next(csvreader)\n",
    "\n",
    "    for abspos, virus, vaccine in csvreader:\n",
    "        codons.append({\n",
    "            'abspos': abspos,\n",
    "            'virus': virus,\n",
    "            'vaccine': vaccine\n",
    "        })\n",
    "\n",
    "print(len(codons))\n"
   ]
  },
  {
   "cell_type": "code",
   "execution_count": 188,
   "metadata": {},
   "outputs": [
    {
     "output_type": "stream",
     "name": "stdout",
     "text": [
      "64\n"
     ]
    }
   ],
   "source": [
    "import csv\n",
    "\n",
    "codon_table = []\n",
    "\n",
    "with open('data/codon-table-grouped.csv', newline='') as csvfile:\n",
    "    csvreader = iter(csv.reader(csvfile, delimiter=','))\n",
    "    # Skip first row\n",
    "    next(csvreader)\n",
    "\n",
    "    for aminoacid, codon in csvreader:\n",
    "        codon_table.append({\n",
    "            'aminoacid': aminoacid,\n",
    "            'codon': codon,\n",
    "        })\n",
    "\n",
    "print(len(codon_table))"
   ]
  },
  {
   "source": [
    "### Categorize codon table by amount of 'good' chars.\n"
   ],
   "cell_type": "markdown",
   "metadata": {}
  },
  {
   "cell_type": "code",
   "execution_count": 189,
   "metadata": {},
   "outputs": [],
   "source": [
    "def calculate_codon_score(codon):\n",
    "    score = 0\n",
    "\n",
    "    for char in codon:\n",
    "        if char is 'G' or char is 'C':\n",
    "            score += 1\n",
    "\n",
    "    return score"
   ]
  },
  {
   "cell_type": "code",
   "execution_count": 190,
   "metadata": {},
   "outputs": [],
   "source": [
    "grouped_codon_table = { 0: [], 1: [], 2: [], 3: [] }\n",
    "\n",
    "for codon_row in codon_table:\n",
    "    codon = codon_row['codon']\n",
    "    score = calculate_codon_score(codon)\n",
    "\n",
    "    grouped_codon_table[score].append(codon_row)"
   ]
  },
  {
   "source": [
    "### Find a codon with the highest possible score for each aminoacid"
   ],
   "cell_type": "markdown",
   "metadata": {}
  },
  {
   "cell_type": "code",
   "execution_count": 191,
   "metadata": {},
   "outputs": [
    {
     "output_type": "stream",
     "name": "stdout",
     "text": [
      "{'A': 'GCT', 'C': 'TGT', 'D': 'GAT', 'E': 'GAA', 'F': 'TTC', 'G': 'GGT', 'H': 'CAT', 'I': 'ATC', 'K': 'AAG', 'L': 'TTG', 'M': 'ATG', 'N': 'AAC', 'P': 'CCT', 'Q': 'CAA', 'R': 'AGA', 's': 'TGA', 'S': 'TCT', 'T': 'ACT', 'V': 'GTT', 'W': 'TGG', 'Y': 'TAC'}\nFound all: True\n"
     ]
    }
   ],
   "source": [
    "aminoacids = ['A', 'C', 'D', 'E', 'F', 'G', 'H', 'I', 'K', 'L', 'M', 'N', 'P', 'Q', 'R', 's', 'S', 'T', 'V', 'W', 'Y']\n",
    "best_codons = {}\n",
    "\n",
    "for aminoacid in aminoacids:\n",
    "    for score in range(3, 0, -1):\n",
    "        for codon_row in grouped_codon_table[score]:\n",
    "            if codon_row['aminoacid'] is aminoacid:\n",
    "                best_codons[aminoacid] = codon_row['codon']\n",
    "                continue\n",
    "\n",
    "print(best_codons)\n",
    "print(f\"Found all: {len(aminoacids) == len(best_codons)}\")"
   ]
  },
  {
   "source": [
    "### Target\n",
    "\n",
    "> It is known that a higher fraction of G and C characters improves the efficiency of an mRNA vaccine.\n",
    "\n"
   ],
   "cell_type": "markdown",
   "metadata": {}
  },
  {
   "cell_type": "code",
   "execution_count": 192,
   "metadata": {},
   "outputs": [],
   "source": [
    "def find_codon_with_score(score, target_aminoacid):\n",
    "    for codon_row in grouped_codon_table[score]:\n",
    "        if codon_row['aminoacid'] is target_aminoacid:\n",
    "            return codon_row\n",
    "\n",
    "    return False"
   ]
  },
  {
   "cell_type": "code",
   "execution_count": 196,
   "metadata": {
    "tags": []
   },
   "outputs": [],
   "source": [
    "for i in range(len(codons)):\n",
    "    virus_codon = codons[i]['virus']\n",
    "    virus_codon_score = calculate_codon_score(virus_codon)\n",
    "  \n",
    "    # Find target aminoacid\n",
    "    target_aminoacid = None\n",
    "    for codon_row in codon_table:\n",
    "        if codon_row['codon'] == virus_codon:\n",
    "            target_aminoacid = codon_row['aminoacid']\n",
    "            break\n",
    "\n",
    "    best_matching_codon = best_codons[target_aminoacid] \n",
    "    best_matching_codon_score = calculate_codon_score(best_matching_codon)\n",
    "        \n",
    "    # If virus codon has the best score, use that one.\n",
    "    if virus_codon_score == best_matching_codon_score:\n",
    "        codons[i]['suggestion'] = virus_codon\n",
    "    else:\n",
    "        codons[i]['suggestion'] = best_matching_codon"
   ]
  },
  {
   "source": [
    "### Calculate score"
   ],
   "cell_type": "markdown",
   "metadata": {}
  },
  {
   "cell_type": "code",
   "execution_count": 194,
   "metadata": {},
   "outputs": [
    {
     "output_type": "execute_result",
     "data": {
      "text/plain": [
       "'Result: 34.850863422291994%'"
      ]
     },
     "metadata": {},
     "execution_count": 194
    }
   ],
   "source": [
    "match_count = 0\n",
    "\n",
    "for codon in codons:\n",
    "    if codon['vaccine'] == codon['suggestion']:\n",
    "        match_count += 1\n",
    "\n",
    "percentage = 100 / len(codons) * match_count\n",
    "\n",
    "f\"Result: {percentage}%\"\n"
   ]
  },
  {
   "source": [
    "### Print results"
   ],
   "cell_type": "markdown",
   "metadata": {}
  },
  {
   "cell_type": "code",
   "execution_count": 195,
   "metadata": {
    "tags": []
   },
   "outputs": [
    {
     "output_type": "stream",
     "name": "stdout",
     "text": [
      "abspos, virus, suggestion, vaccine\n0, ATG, ATG, ATG\n3, TTT, TTC, TTC\n6, GTT, GTT, GTG\n9, TTT, TTC, TTC\n12, CTT, CTT, CTG\n15, GTT, GTT, GTG\n18, TTA, TTG, CTG\n21, TTG, TTG, CTG\n24, CCA, CCA, CCT\n27, CTA, CTA, CTG\n30, GTC, GTT, GTG\n33, TCT, TCT, TCC\n36, AGT, AGT, AGC\n39, CAG, CAA, CAG\n42, TGT, TGT, TGT\n45, GTT, GTT, GTG\n48, AAT, AAC, AAC\n51, CTT, CTT, CTG\n54, ACA, ACA, ACC\n57, ACC, ACT, ACC\n60, AGA, AGA, AGA\n63, ACT, ACT, ACA\n66, CAA, CAA, CAG\n69, TTA, TTG, CTG\n72, CCC, CCT, CCT\n75, CCT, CCT, CCA\n78, GCA, GCA, GCC\n81, TAC, TAC, TAC\n84, ACT, ACT, ACC\n87, AAT, AAC, AAC\n90, TCT, TCT, AGC\n93, TTC, TTC, TTT\n96, ACA, ACA, ACC\n99, CGT, AGA, AGA\n102, GGT, GGT, GGC\n105, GTT, GTT, GTG\n108, TAT, TAC, TAC\n111, TAC, TAC, TAC\n114, CCT, CCT, CCC\n117, GAC, GAT, GAC\n120, AAA, AAG, AAG\n123, GTT, GTT, GTG\n126, TTC, TTC, TTC\n129, AGA, AGA, AGA\n132, TCC, TCT, TCC\n135, TCA, TCA, AGC\n138, GTT, GTT, GTG\n141, TTA, TTG, CTG\n144, CAT, CAT, CAC\n147, TCA, TCA, TCT\n150, ACT, ACT, ACC\n153, CAG, CAA, CAG\n156, GAC, GAT, GAC\n159, TTG, TTG, CTG\n162, TTC, TTC, TTC\n165, TTA, TTG, CTG\n168, CCT, CCT, CCT\n171, TTC, TTC, TTC\n174, TTT, TTC, TTC\n177, TCC, TCT, AGC\n180, AAT, AAC, AAC\n183, GTT, GTT, GTG\n186, ACT, ACT, ACC\n189, TGG, TGG, TGG\n192, TTC, TTC, TTC\n195, CAT, CAT, CAC\n198, GCT, GCT, GCC\n201, ATA, ATC, ATC\n204, CAT, CAT, CAC\n207, GTC, GTT, GTG\n210, TCT, TCT, TCC\n213, GGG, GGT, GGC\n216, ACC, ACT, ACC\n219, AAT, AAC, AAT\n222, GGT, GGT, GGC\n225, ACT, ACT, ACC\n228, AAG, AAG, AAG\n231, AGG, AGA, AGA\n234, TTT, TTC, TTC\n237, GAT, GAT, GAC\n240, AAC, AAC, AAC\n243, CCT, CCT, CCC\n246, GTC, GTT, GTG\n249, CTA, CTA, CTG\n252, CCA, CCA, CCC\n255, TTT, TTC, TTC\n258, AAT, AAC, AAC\n261, GAT, GAT, GAC\n264, GGT, GGT, GGG\n267, GTT, GTT, GTG\n270, TAT, TAC, TAC\n273, TTT, TTC, TTT\n276, GCT, GCT, GCC\n279, TCC, TCT, AGC\n282, ACT, ACT, ACC\n285, GAG, GAA, GAG\n288, AAG, AAG, AAG\n291, TCT, TCT, TCC\n294, AAC, AAC, AAC\n297, ATA, ATC, ATC\n300, ATA, ATC, ATC\n303, AGA, AGA, AGA\n306, GGC, GGT, GGC\n309, TGG, TGG, TGG\n312, ATT, ATC, ATC\n315, TTT, TTC, TTC\n318, GGT, GGT, GGC\n321, ACT, ACT, ACC\n324, ACT, ACT, ACA\n327, TTA, TTG, CTG\n330, GAT, GAT, GAC\n333, TCG, TCT, AGC\n336, AAG, AAG, AAG\n339, ACC, ACT, ACC\n342, CAG, CAA, CAG\n345, TCC, TCT, AGC\n348, CTA, CTA, CTG\n351, CTT, CTT, CTG\n354, ATT, ATC, ATC\n357, GTT, GTT, GTG\n360, AAT, AAC, AAC\n363, AAC, AAC, AAC\n366, GCT, GCT, GCC\n369, ACT, ACT, ACC\n372, AAT, AAC, AAC\n375, GTT, GTT, GTG\n378, GTT, GTT, GTC\n381, ATT, ATC, ATC\n384, AAA, AAG, AAA\n387, GTC, GTT, GTG\n390, TGT, TGT, TGC\n393, GAA, GAA, GAG\n396, TTT, TTC, TTC\n399, CAA, CAA, CAG\n402, TTT, TTC, TTC\n405, TGT, TGT, TGC\n408, AAT, AAC, AAC\n411, GAT, GAT, GAC\n414, CCA, CCA, CCC\n417, TTT, TTC, TTC\n420, TTG, TTG, CTG\n423, GGT, GGT, GGC\n426, GTT, GTT, GTC\n429, TAT, TAC, TAC\n432, TAC, TAC, TAC\n435, CAC, CAT, CAC\n438, AAA, AAG, AAG\n441, AAC, AAC, AAC\n444, AAC, AAC, AAC\n447, AAA, AAG, AAG\n450, AGT, AGT, AGC\n453, TGG, TGG, TGG\n456, ATG, ATG, ATG\n459, GAA, GAA, GAA\n462, AGT, AGT, AGC\n465, GAG, GAA, GAG\n468, TTC, TTC, TTC\n471, AGA, AGA, CGG\n474, GTT, GTT, GTG\n477, TAT, TAC, TAC\n480, TCT, TCT, AGC\n483, AGT, AGT, AGC\n486, GCG, GCT, GCC\n489, AAT, AAC, AAC\n492, AAT, AAC, AAC\n495, TGC, TGT, TGC\n498, ACT, ACT, ACC\n501, TTT, TTC, TTC\n504, GAA, GAA, GAG\n507, TAT, TAC, TAC\n510, GTC, GTT, GTG\n513, TCT, TCT, TCC\n516, CAG, CAA, CAG\n519, CCT, CCT, CCT\n522, TTT, TTC, TTC\n525, CTT, CTT, CTG\n528, ATG, ATG, ATG\n531, GAC, GAT, GAC\n534, CTT, CTT, CTG\n537, GAA, GAA, GAA\n540, GGA, GGA, GGC\n543, AAA, AAG, AAG\n546, CAG, CAA, CAG\n549, GGT, GGT, GGC\n552, AAT, AAC, AAC\n555, TTC, TTC, TTC\n558, AAA, AAG, AAG\n561, AAT, AAC, AAC\n564, CTT, CTT, CTG\n567, AGG, AGA, CGC\n570, GAA, GAA, GAG\n573, TTT, TTC, TTC\n576, GTG, GTT, GTG\n579, TTT, TTC, TTT\n582, AAG, AAG, AAG\n585, AAT, AAC, AAC\n588, ATT, ATC, ATC\n591, GAT, GAT, GAC\n594, GGT, GGT, GGC\n597, TAT, TAC, TAC\n600, TTT, TTC, TTC\n603, AAA, AAG, AAG\n606, ATA, ATC, ATC\n609, TAT, TAC, TAC\n612, TCT, TCT, AGC\n615, AAG, AAG, AAG\n618, CAC, CAT, CAC\n621, ACG, ACT, ACC\n624, CCT, CCT, CCT\n627, ATT, ATC, ATC\n630, AAT, AAC, AAC\n633, TTA, TTG, CTC\n636, GTG, GTT, GTG\n639, CGT, AGA, CGG\n642, GAT, GAT, GAT\n645, CTC, TTG, CTG\n648, CCT, CCT, CCT\n651, CAG, CAA, CAG\n654, GGT, GGT, GGC\n657, TTT, TTC, TTC\n660, TCG, TCT, TCT\n663, GCT, GCT, GCT\n666, TTA, TTG, CTG\n669, GAA, GAA, GAA\n672, CCA, CCA, CCC\n675, TTG, TTG, CTG\n678, GTA, GTA, GTG\n681, GAT, GAT, GAT\n684, TTG, TTG, CTG\n687, CCA, CCA, CCC\n690, ATA, ATC, ATC\n693, GGT, GGT, GGC\n696, ATT, ATC, ATC\n699, AAC, AAC, AAC\n702, ATC, ATC, ATC\n705, ACT, ACT, ACC\n708, AGG, AGA, CGG\n711, TTT, TTC, TTT\n714, CAA, CAA, CAG\n717, ACT, ACT, ACA\n720, TTA, TTG, CTG\n723, CTT, CTT, CTG\n726, GCT, GCT, GCC\n729, TTA, TTG, CTG\n732, CAT, CAT, CAC\n735, AGA, AGA, AGA\n738, AGT, AGT, AGC\n741, TAT, TAC, TAC\n744, TTG, TTG, CTG\n747, ACT, ACT, ACA\n750, CCT, CCT, CCT\n753, GGT, GGT, GGC\n756, GAT, GAT, GAT\n759, TCT, TCT, AGC\n762, TCT, TCT, AGC\n765, TCA, TCA, AGC\n768, GGT, GGT, GGA\n771, TGG, TGG, TGG\n774, ACA, ACA, ACA\n777, GCT, GCT, GCT\n780, GGT, GGT, GGT\n783, GCT, GCT, GCC\n786, GCA, GCA, GCC\n789, GCT, GCT, GCT\n792, TAT, TAC, TAC\n795, TAT, TAC, TAT\n798, GTG, GTT, GTG\n801, GGT, GGT, GGC\n804, TAT, TAC, TAC\n807, CTT, CTT, CTG\n810, CAA, CAA, CAG\n813, CCT, CCT, CCT\n816, AGG, AGA, AGA\n819, ACT, ACT, ACC\n822, TTT, TTC, TTC\n825, CTA, CTA, CTG\n828, TTA, TTG, CTG\n831, AAA, AAG, AAG\n834, TAT, TAC, TAC\n837, AAT, AAC, AAC\n840, GAA, GAA, GAG\n843, AAT, AAC, AAC\n846, GGA, GGA, GGC\n849, ACC, ACT, ACC\n852, ATT, ATC, ATC\n855, ACA, ACA, ACC\n858, GAT, GAT, GAC\n861, GCT, GCT, GCC\n864, GTA, GTA, GTG\n867, GAC, GAT, GAT\n870, TGT, TGT, TGT\n873, GCA, GCA, GCT\n876, CTT, CTT, CTG\n879, GAC, GAT, GAT\n882, CCT, CCT, CCT\n885, CTC, TTG, CTG\n888, TCA, TCA, AGC\n891, GAA, GAA, GAG\n894, ACA, ACA, ACA\n897, AAG, AAG, AAG\n900, TGT, TGT, TGC\n903, ACG, ACT, ACC\n906, TTG, TTG, CTG\n909, AAA, AAG, AAG\n912, TCC, TCT, TCC\n915, TTC, TTC, TTC\n918, ACT, ACT, ACC\n921, GTA, GTA, GTG\n924, GAA, GAA, GAA\n927, AAA, AAG, AAG\n930, GGA, GGA, GGC\n933, ATC, ATC, ATC\n936, TAT, TAC, TAC\n939, CAA, CAA, CAG\n942, ACT, ACT, ACC\n945, TCT, TCT, AGC\n948, AAC, AAC, AAC\n951, TTT, TTC, TTC\n954, AGA, AGA, CGG\n957, GTC, GTT, GTG\n960, CAA, CAA, CAG\n963, CCA, CCA, CCC\n966, ACA, ACA, ACC\n969, GAA, GAA, GAA\n972, TCT, TCT, TCC\n975, ATT, ATC, ATC\n978, GTT, GTT, GTG\n981, AGA, AGA, CGG\n984, TTT, TTC, TTC\n987, CCT, CCT, CCC\n990, AAT, AAC, AAT\n993, ATT, ATC, ATC\n996, ACA, ACA, ACC\n999, AAC, AAC, AAT\n1002, TTG, TTG, CTG\n1005, TGC, TGT, TGC\n1008, CCT, CCT, CCC\n1011, TTT, TTC, TTC\n1014, GGT, GGT, GGC\n1017, GAA, GAA, GAG\n1020, GTT, GTT, GTG\n1023, TTT, TTC, TTC\n1026, AAC, AAC, AAT\n1029, GCC, GCT, GCC\n1032, ACC, ACT, ACC\n1035, AGA, AGA, AGA\n1038, TTT, TTC, TTC\n1041, GCA, GCA, GCC\n1044, TCT, TCT, TCT\n1047, GTT, GTT, GTG\n1050, TAT, TAC, TAC\n1053, GCT, GCT, GCC\n1056, TGG, TGG, TGG\n1059, AAC, AAC, AAC\n1062, AGG, AGA, CGG\n1065, AAG, AAG, AAG\n1068, AGA, AGA, CGG\n1071, ATC, ATC, ATC\n1074, AGC, TCT, AGC\n1077, AAC, AAC, AAT\n1080, TGT, TGT, TGC\n1083, GTT, GTT, GTG\n1086, GCT, GCT, GCC\n1089, GAT, GAT, GAC\n1092, TAT, TAC, TAC\n1095, TCT, TCT, TCC\n1098, GTC, GTT, GTG\n1101, CTA, CTA, CTG\n1104, TAT, TAC, TAC\n1107, AAT, AAC, AAC\n1110, TCC, TCT, TCC\n1113, GCA, GCA, GCC\n1116, TCA, TCA, AGC\n1119, TTT, TTC, TTC\n1122, TCC, TCT, AGC\n1125, ACT, ACT, ACC\n1128, TTT, TTC, TTC\n1131, AAG, AAG, AAG\n1134, TGT, TGT, TGC\n1137, TAT, TAC, TAC\n1140, GGA, GGA, GGC\n1143, GTG, GTT, GTG\n1146, TCT, TCT, TCC\n1149, CCT, CCT, CCT\n1152, ACT, ACT, ACC\n1155, AAA, AAG, AAG\n1158, TTA, TTG, CTG\n1161, AAT, AAC, AAC\n1164, GAT, GAT, GAC\n1167, CTC, TTG, CTG\n1170, TGC, TGT, TGC\n1173, TTT, TTC, TTC\n1176, ACT, ACT, ACA\n1179, AAT, AAC, AAC\n1182, GTC, GTT, GTG\n1185, TAT, TAC, TAC\n1188, GCA, GCA, GCC\n1191, GAT, GAT, GAC\n1194, TCA, TCA, AGC\n1197, TTT, TTC, TTC\n1200, GTA, GTA, GTG\n1203, ATT, ATC, ATC\n1206, AGA, AGA, CGG\n1209, GGT, GGT, GGA\n1212, GAT, GAT, GAT\n1215, GAA, GAA, GAA\n1218, GTC, GTT, GTG\n1221, AGA, AGA, CGG\n1224, CAA, CAA, CAG\n1227, ATC, ATC, ATT\n1230, GCT, GCT, GCC\n1233, CCA, CCA, CCT\n1236, GGG, GGT, GGA\n1239, CAA, CAA, CAG\n1242, ACT, ACT, ACA\n1245, GGA, GGA, GGC\n1248, AAG, AAG, AAG\n1251, ATT, ATC, ATC\n1254, GCT, GCT, GCC\n1257, GAT, GAT, GAC\n1260, TAT, TAC, TAC\n1263, AAT, AAC, AAC\n1266, TAT, TAC, TAC\n1269, AAA, AAG, AAG\n1272, TTA, TTG, CTG\n1275, CCA, CCA, CCC\n1278, GAT, GAT, GAC\n1281, GAT, GAT, GAC\n1284, TTT, TTC, TTC\n1287, ACA, ACA, ACC\n1290, GGC, GGT, GGC\n1293, TGC, TGT, TGT\n1296, GTT, GTT, GTG\n1299, ATA, ATC, ATT\n1302, GCT, GCT, GCC\n1305, TGG, TGG, TGG\n1308, AAT, AAC, AAC\n1311, TCT, TCT, AGC\n1314, AAC, AAC, AAC\n1317, AAT, AAC, AAC\n1320, CTT, CTT, CTG\n1323, GAT, GAT, GAC\n1326, TCT, TCT, TCC\n1329, AAG, AAG, AAA\n1332, GTT, GTT, GTC\n1335, GGT, GGT, GGC\n1338, GGT, GGT, GGC\n1341, AAT, AAC, AAC\n1344, TAT, TAC, TAC\n1347, AAT, AAC, AAT\n1350, TAC, TAC, TAC\n1353, CTG, TTG, CTG\n1356, TAT, TAC, TAC\n1359, AGA, AGA, CGG\n1362, TTG, TTG, CTG\n1365, TTT, TTC, TTC\n1368, AGG, AGA, CGG\n1371, AAG, AAG, AAG\n1374, TCT, TCT, TCC\n1377, AAT, AAC, AAT\n1380, CTC, TTG, CTG\n1383, AAA, AAG, AAG\n1386, CCT, CCT, CCC\n1389, TTT, TTC, TTC\n1392, GAG, GAA, GAG\n1395, AGA, AGA, CGG\n1398, GAT, GAT, GAC\n1401, ATT, ATC, ATC\n1404, TCA, TCA, TCC\n1407, ACT, ACT, ACC\n1410, GAA, GAA, GAG\n1413, ATC, ATC, ATC\n1416, TAT, TAC, TAT\n1419, CAG, CAA, CAG\n1422, GCC, GCT, GCC\n1425, GGT, GGT, GGC\n1428, AGC, TCT, AGC\n1431, ACA, ACA, ACC\n1434, CCT, CCT, CCT\n1437, TGT, TGT, TGT\n1440, AAT, AAC, AAC\n1443, GGT, GGT, GGC\n1446, GTT, GTT, GTG\n1449, GAA, GAA, GAA\n1452, GGT, GGT, GGC\n1455, TTT, TTC, TTC\n1458, AAT, AAC, AAC\n1461, TGT, TGT, TGC\n1464, TAC, TAC, TAC\n1467, TTT, TTC, TTC\n1470, CCT, CCT, CCA\n1473, TTA, TTG, CTG\n1476, CAA, CAA, CAG\n1479, TCA, TCA, TCC\n1482, TAT, TAC, TAC\n1485, GGT, GGT, GGC\n1488, TTC, TTC, TTT\n1491, CAA, CAA, CAG\n1494, CCC, CCT, CCC\n1497, ACT, ACT, ACA\n1500, AAT, AAC, AAT\n1503, GGT, GGT, GGC\n1506, GTT, GTT, GTG\n1509, GGT, GGT, GGC\n1512, TAC, TAC, TAT\n1515, CAA, CAA, CAG\n1518, CCA, CCA, CCC\n1521, TAC, TAC, TAC\n1524, AGA, AGA, AGA\n1527, GTA, GTA, GTG\n1530, GTA, GTA, GTG\n1533, GTA, GTA, GTG\n1536, CTT, CTT, CTG\n1539, TCT, TCT, AGC\n1542, TTT, TTC, TTC\n1545, GAA, GAA, GAA\n1548, CTT, CTT, CTG\n1551, CTA, CTA, CTG\n1554, CAT, CAT, CAT\n1557, GCA, GCA, GCC\n1560, CCA, CCA, CCT\n1563, GCA, GCA, GCC\n1566, ACT, ACT, ACA\n1569, GTT, GTT, GTG\n1572, TGT, TGT, TGC\n1575, GGA, GGA, GGC\n1578, CCT, CCT, CCT\n1581, AAA, AAG, AAG\n1584, AAG, AAG, AAA\n1587, TCT, TCT, AGC\n1590, ACT, ACT, ACC\n1593, AAT, AAC, AAT\n1596, TTG, TTG, CTC\n1599, GTT, GTT, GTG\n1602, AAA, AAG, AAG\n1605, AAC, AAC, AAC\n1608, AAA, AAG, AAA\n1611, TGT, TGT, TGC\n1614, GTC, GTT, GTG\n1617, AAT, AAC, AAC\n1620, TTC, TTC, TTC\n1623, AAC, AAC, AAC\n1626, TTC, TTC, TTC\n1629, AAT, AAC, AAC\n1632, GGT, GGT, GGC\n1635, TTA, TTG, CTG\n1638, ACA, ACA, ACC\n1641, GGC, GGT, GGC\n1644, ACA, ACA, ACC\n1647, GGT, GGT, GGC\n1650, GTT, GTT, GTG\n1653, CTT, CTT, CTG\n1656, ACT, ACT, ACA\n1659, GAG, GAA, GAG\n1662, TCT, TCT, AGC\n1665, AAC, AAC, AAC\n1668, AAA, AAG, AAG\n1671, AAG, AAG, AAG\n1674, TTT, TTC, TTC\n1677, CTG, TTG, CTG\n1680, CCT, CCT, CCA\n1683, TTC, TTC, TTC\n1686, CAA, CAA, CAG\n1689, CAA, CAA, CAG\n1692, TTT, TTC, TTT\n1695, GGC, GGT, GGC\n1698, AGA, AGA, CGG\n1701, GAC, GAT, GAT\n1704, ATT, ATC, ATC\n1707, GCT, GCT, GCC\n1710, GAC, GAT, GAT\n1713, ACT, ACT, ACC\n1716, ACT, ACT, ACA\n1719, GAT, GAT, GAC\n1722, GCT, GCT, GCC\n1725, GTC, GTT, GTT\n1728, CGT, AGA, AGA\n1731, GAT, GAT, GAT\n1734, CCA, CCA, CCC\n1737, CAG, CAA, CAG\n1740, ACA, ACA, ACA\n1743, CTT, CTT, CTG\n1746, GAG, GAA, GAA\n1749, ATT, ATC, ATC\n1752, CTT, CTT, CTG\n1755, GAC, GAT, GAC\n1758, ATT, ATC, ATC\n1761, ACA, ACA, ACC\n1764, CCA, CCA, CCT\n1767, TGT, TGT, TGC\n1770, TCT, TCT, AGC\n1773, TTT, TTC, TTC\n1776, GGT, GGT, GGC\n1779, GGT, GGT, GGA\n1782, GTC, GTT, GTG\n1785, AGT, AGT, TCT\n1788, GTT, GTT, GTG\n1791, ATA, ATC, ATC\n1794, ACA, ACA, ACC\n1797, CCA, CCA, CCT\n1800, GGA, GGA, GGC\n1803, ACA, ACA, ACC\n1806, AAT, AAC, AAC\n1809, ACT, ACT, ACC\n1812, TCT, TCT, AGC\n1815, AAC, AAC, AAT\n1818, CAG, CAA, CAG\n1821, GTT, GTT, GTG\n1824, GCT, GCT, GCA\n1827, GTT, GTT, GTG\n1830, CTT, CTT, CTG\n1833, TAT, TAC, TAC\n1836, CAG, CAA, CAG\n1839, GAT, GAT, GAC\n1842, GTT, GTT, GTG\n1845, AAC, AAC, AAC\n1848, TGC, TGT, TGT\n1851, ACA, ACA, ACC\n1854, GAA, GAA, GAA\n1857, GTC, GTT, GTG\n1860, CCT, CCT, CCC\n1863, GTT, GTT, GTG\n1866, GCT, GCT, GCC\n1869, ATT, ATC, ATT\n1872, CAT, CAT, CAC\n1875, GCA, GCA, GCC\n1878, GAT, GAT, GAT\n1881, CAA, CAA, CAG\n1884, CTT, CTT, CTG\n1887, ACT, ACT, ACA\n1890, CCT, CCT, CCT\n1893, ACT, ACT, ACA\n1896, TGG, TGG, TGG\n1899, CGT, AGA, CGG\n1902, GTT, GTT, GTG\n1905, TAT, TAC, TAC\n1908, TCT, TCT, TCC\n1911, ACA, ACA, ACC\n1914, GGT, GGT, GGC\n1917, TCT, TCT, AGC\n1920, AAT, AAC, AAT\n1923, GTT, GTT, GTG\n1926, TTT, TTC, TTT\n1929, CAA, CAA, CAG\n1932, ACA, ACA, ACC\n1935, CGT, AGA, AGA\n1938, GCA, GCA, GCC\n1941, GGC, GGT, GGC\n1944, TGT, TGT, TGT\n1947, TTA, TTG, CTG\n1950, ATA, ATC, ATC\n1953, GGG, GGT, GGA\n1956, GCT, GCT, GCC\n1959, GAA, GAA, GAG\n1962, CAT, CAT, CAC\n1965, GTC, GTT, GTG\n1968, AAC, AAC, AAC\n1971, AAC, AAC, AAT\n1974, TCA, TCA, AGC\n1977, TAT, TAC, TAC\n1980, GAG, GAA, GAG\n1983, TGT, TGT, TGC\n1986, GAC, GAT, GAC\n1989, ATA, ATC, ATC\n1992, CCC, CCT, CCC\n1995, ATT, ATC, ATC\n1998, GGT, GGT, GGC\n2001, GCA, GCA, GCT\n2004, GGT, GGT, GGA\n2007, ATA, ATC, ATC\n2010, TGC, TGT, TGC\n2013, GCT, GCT, GCC\n2016, AGT, AGT, AGC\n2019, TAT, TAC, TAC\n2022, CAG, CAA, CAG\n2025, ACT, ACT, ACA\n2028, CAG, CAA, CAG\n2031, ACT, ACT, ACA\n2034, AAT, AAC, AAC\n2037, TCT, TCT, AGC\n2040, CCT, CCT, CCT\n2043, CGG, AGA, CGG\n2046, CGG, AGA, AGA\n2049, GCA, GCA, GCC\n2052, CGT, AGA, AGA\n2055, AGT, AGT, AGC\n2058, GTA, GTA, GTG\n2061, GCT, GCT, GCC\n2064, AGT, AGT, AGC\n2067, CAA, CAA, CAG\n2070, TCC, TCT, AGC\n2073, ATC, ATC, ATC\n2076, ATT, ATC, ATT\n2079, GCC, GCT, GCC\n2082, TAC, TAC, TAC\n2085, ACT, ACT, ACA\n2088, ATG, ATG, ATG\n2091, TCA, TCA, TCT\n2094, CTT, CTT, CTG\n2097, GGT, GGT, GGC\n2100, GCA, GCA, GCC\n2103, GAA, GAA, GAG\n2106, AAT, AAC, AAC\n2109, TCA, TCA, AGC\n2112, GTT, GTT, GTG\n2115, GCT, GCT, GCC\n2118, TAC, TAC, TAC\n2121, TCT, TCT, TCC\n2124, AAT, AAC, AAC\n2127, AAC, AAC, AAC\n2130, TCT, TCT, TCT\n2133, ATT, ATC, ATC\n2136, GCC, GCT, GCT\n2139, ATA, ATC, ATC\n2142, CCC, CCT, CCC\n2145, ACA, ACA, ACC\n2148, AAT, AAC, AAC\n2151, TTT, TTC, TTC\n2154, ACT, ACT, ACC\n2157, ATT, ATC, ATC\n2160, AGT, AGT, AGC\n2163, GTT, GTT, GTG\n2166, ACC, ACT, ACC\n2169, ACA, ACA, ACA\n2172, GAA, GAA, GAG\n2175, ATT, ATC, ATC\n2178, CTA, CTA, CTG\n2181, CCA, CCA, CCT\n2184, GTG, GTT, GTG\n2187, TCT, TCT, TCC\n2190, ATG, ATG, ATG\n2193, ACC, ACT, ACC\n2196, AAG, AAG, AAG\n2199, ACA, ACA, ACC\n2202, TCA, TCA, AGC\n2205, GTA, GTA, GTG\n2208, GAT, GAT, GAC\n2211, TGT, TGT, TGC\n2214, ACA, ACA, ACC\n2217, ATG, ATG, ATG\n2220, TAC, TAC, TAC\n2223, ATT, ATC, ATC\n2226, TGT, TGT, TGC\n2229, GGT, GGT, GGC\n2232, GAT, GAT, GAT\n2235, TCA, TCA, TCC\n2238, ACT, ACT, ACC\n2241, GAA, GAA, GAG\n2244, TGC, TGT, TGC\n2247, AGC, TCT, TCC\n2250, AAT, AAC, AAC\n2253, CTT, CTT, CTG\n2256, TTG, TTG, CTG\n2259, TTG, TTG, CTG\n2262, CAA, CAA, CAG\n2265, TAT, TAC, TAC\n2268, GGC, GGT, GGC\n2271, AGT, AGT, AGC\n2274, TTT, TTC, TTC\n2277, TGT, TGT, TGC\n2280, ACA, ACA, ACC\n2283, CAA, CAA, CAG\n2286, TTA, TTG, CTG\n2289, AAC, AAC, AAT\n2292, CGT, AGA, AGA\n2295, GCT, GCT, GCC\n2298, TTA, TTG, CTG\n2301, ACT, ACT, ACA\n2304, GGA, GGA, GGG\n2307, ATA, ATC, ATC\n2310, GCT, GCT, GCC\n2313, GTT, GTT, GTG\n2316, GAA, GAA, GAA\n2319, CAA, CAA, CAG\n2322, GAC, GAT, GAC\n2325, AAA, AAG, AAG\n2328, AAC, AAC, AAC\n2331, ACC, ACT, ACC\n2334, CAA, CAA, CAA\n2337, GAA, GAA, GAG\n2340, GTT, GTT, GTG\n2343, TTT, TTC, TTC\n2346, GCA, GCA, GCC\n2349, CAA, CAA, CAA\n2352, GTC, GTT, GTG\n2355, AAA, AAG, AAG\n2358, CAA, CAA, CAG\n2361, ATT, ATC, ATC\n2364, TAC, TAC, TAC\n2367, AAA, AAG, AAG\n2370, ACA, ACA, ACC\n2373, CCA, CCA, CCT\n2376, CCA, CCA, CCT\n2379, ATT, ATC, ATC\n2382, AAA, AAG, AAG\n2385, GAT, GAT, GAC\n2388, TTT, TTC, TTC\n2391, GGT, GGT, GGC\n2394, GGT, GGT, GGC\n2397, TTT, TTC, TTC\n2400, AAT, AAC, AAT\n2403, TTT, TTC, TTC\n2406, TCA, TCA, AGC\n2409, CAA, CAA, CAG\n2412, ATA, ATC, ATT\n2415, TTA, TTG, CTG\n2418, CCA, CCA, CCC\n2421, GAT, GAT, GAT\n2424, CCA, CCA, CCT\n2427, TCA, TCA, AGC\n2430, AAA, AAG, AAG\n2433, CCA, CCA, CCC\n2436, AGC, TCT, AGC\n2439, AAG, AAG, AAG\n2442, AGG, AGA, CGG\n2445, TCA, TCA, AGC\n2448, TTT, TTC, TTC\n2451, ATT, ATC, ATC\n2454, GAA, GAA, GAG\n2457, GAT, GAT, GAC\n2460, CTA, CTA, CTG\n2463, CTT, CTT, CTG\n2466, TTC, TTC, TTC\n2469, AAC, AAC, AAC\n2472, AAA, AAG, AAA\n2475, GTG, GTT, GTG\n2478, ACA, ACA, ACA\n2481, CTT, CTT, CTG\n2484, GCA, GCA, GCC\n2487, GAT, GAT, GAC\n2490, GCT, GCT, GCC\n2493, GGC, GGT, GGC\n2496, TTC, TTC, TTC\n2499, ATC, ATC, ATC\n2502, AAA, AAG, AAG\n2505, CAA, CAA, CAG\n2508, TAT, TAC, TAT\n2511, GGT, GGT, GGC\n2514, GAT, GAT, GAT\n2517, TGC, TGT, TGT\n2520, CTT, CTT, CTG\n2523, GGT, GGT, GGC\n2526, GAT, GAT, GAC\n2529, ATT, ATC, ATT\n2532, GCT, GCT, GCC\n2535, GCT, GCT, GCC\n2538, AGA, AGA, AGG\n2541, GAC, GAT, GAT\n2544, CTC, TTG, CTG\n2547, ATT, ATC, ATT\n2550, TGT, TGT, TGC\n2553, GCA, GCA, GCC\n2556, CAA, CAA, CAG\n2559, AAG, AAG, AAG\n2562, TTT, TTC, TTT\n2565, AAC, AAC, AAC\n2568, GGC, GGT, GGA\n2571, CTT, CTT, CTG\n2574, ACT, ACT, ACA\n2577, GTT, GTT, GTG\n2580, TTG, TTG, CTG\n2583, CCA, CCA, CCT\n2586, CCT, CCT, CCT\n2589, TTG, TTG, CTG\n2592, CTC, TTG, CTG\n2595, ACA, ACA, ACC\n2598, GAT, GAT, GAT\n2601, GAA, GAA, GAG\n2604, ATG, ATG, ATG\n2607, ATT, ATC, ATC\n2610, GCT, GCT, GCC\n2613, CAA, CAA, CAG\n2616, TAC, TAC, TAC\n2619, ACT, ACT, ACA\n2622, TCT, TCT, TCT\n2625, GCA, GCA, GCC\n2628, CTG, TTG, CTG\n2631, TTA, TTG, CTG\n2634, GCG, GCT, GCC\n2637, GGT, GGT, GGC\n2640, ACA, ACA, ACA\n2643, ATC, ATC, ATC\n2646, ACT, ACT, ACA\n2649, TCT, TCT, AGC\n2652, GGT, GGT, GGC\n2655, TGG, TGG, TGG\n2658, ACC, ACT, ACA\n2661, TTT, TTC, TTT\n2664, GGT, GGT, GGA\n2667, GCA, GCA, GCA\n2670, GGT, GGT, GGC\n2673, GCT, GCT, GCC\n2676, GCA, GCA, GCT\n2679, TTA, TTG, CTG\n2682, CAA, CAA, CAG\n2685, ATA, ATC, ATC\n2688, CCA, CCA, CCC\n2691, TTT, TTC, TTT\n2694, GCT, GCT, GCT\n2697, ATG, ATG, ATG\n2700, CAA, CAA, CAG\n2703, ATG, ATG, ATG\n2706, GCT, GCT, GCC\n2709, TAT, TAC, TAC\n2712, AGG, AGA, CGG\n2715, TTT, TTC, TTC\n2718, AAT, AAC, AAC\n2721, GGT, GGT, GGC\n2724, ATT, ATC, ATC\n2727, GGA, GGA, GGA\n2730, GTT, GTT, GTG\n2733, ACA, ACA, ACC\n2736, CAG, CAA, CAG\n2739, AAT, AAC, AAT\n2742, GTT, GTT, GTG\n2745, CTC, TTG, CTG\n2748, TAT, TAC, TAC\n2751, GAG, GAA, GAG\n2754, AAC, AAC, AAC\n2757, CAA, CAA, CAG\n2760, AAA, AAG, AAG\n2763, TTG, TTG, CTG\n2766, ATT, ATC, ATC\n2769, GCC, GCT, GCC\n2772, AAC, AAC, AAC\n2775, CAA, CAA, CAG\n2778, TTT, TTC, TTC\n2781, AAT, AAC, AAC\n2784, AGT, AGT, AGC\n2787, GCT, GCT, GCC\n2790, ATT, ATC, ATC\n2793, GGC, GGT, GGC\n2796, AAA, AAG, AAG\n2799, ATT, ATC, ATC\n2802, CAA, CAA, CAG\n2805, GAC, GAT, GAC\n2808, TCA, TCA, AGC\n2811, CTT, CTT, CTG\n2814, TCT, TCT, AGC\n2817, TCC, TCT, AGC\n2820, ACA, ACA, ACA\n2823, GCA, GCA, GCA\n2826, AGT, AGT, AGC\n2829, GCA, GCA, GCC\n2832, CTT, CTT, CTG\n2835, GGA, GGA, GGA\n2838, AAA, AAG, AAG\n2841, CTT, CTT, CTG\n2844, CAA, CAA, CAG\n2847, GAT, GAT, GAC\n2850, GTG, GTT, GTG\n2853, GTC, GTT, GTC\n2856, AAC, AAC, AAC\n2859, CAA, CAA, CAG\n2862, AAT, AAC, AAT\n2865, GCA, GCA, GCC\n2868, CAA, CAA, CAG\n2871, GCT, GCT, GCA\n2874, TTA, TTG, CTG\n2877, AAC, AAC, AAC\n2880, ACG, ACT, ACC\n2883, CTT, CTT, CTG\n2886, GTT, GTT, GTC\n2889, AAA, AAG, AAG\n2892, CAA, CAA, CAG\n2895, CTT, CTT, CTG\n2898, AGC, TCT, TCC\n2901, TCC, TCT, TCC\n2904, AAT, AAC, AAC\n2907, TTT, TTC, TTC\n2910, GGT, GGT, GGC\n2913, GCA, GCA, GCC\n2916, ATT, ATC, ATC\n2919, TCA, TCA, AGC\n2922, AGT, AGT, TCT\n2925, GTT, GTT, GTG\n2928, TTA, TTG, CTG\n2931, AAT, AAC, AAC\n2934, GAT, GAT, GAT\n2937, ATC, ATC, ATC\n2940, CTT, CTT, CTG\n2943, TCA, TCA, AGC\n2946, CGT, AGA, AGA\n2949, CTT, CTT, CTG\n2952, GAC, GAT, GAC\n2955, AAA, AAG, CCT\n2958, GTT, GTT, CCT\n2961, GAG, GAA, GAG\n2964, GCT, GCT, GCC\n2967, GAA, GAA, GAG\n2970, GTG, GTT, GTG\n2973, CAA, CAA, CAG\n2976, ATT, ATC, ATC\n2979, GAT, GAT, GAC\n2982, AGG, AGA, AGA\n2985, TTG, TTG, CTG\n2988, ATC, ATC, ATC\n2991, ACA, ACA, ACA\n2994, GGC, GGT, GGC\n2997, AGA, AGA, AGA\n3000, CTT, CTT, CTG\n3003, CAA, CAA, CAG\n3006, AGT, AGT, AGC\n3009, TTG, TTG, CTC\n3012, CAG, CAA, CAG\n3015, ACA, ACA, ACA\n3018, TAT, TAC, TAC\n3021, GTG, GTT, GTG\n3024, ACT, ACT, ACC\n3027, CAA, CAA, CAG\n3030, CAA, CAA, CAG\n3033, TTA, TTG, CTG\n3036, ATT, ATC, ATC\n3039, AGA, AGA, AGA\n3042, GCT, GCT, GCC\n3045, GCA, GCA, GCC\n3048, GAA, GAA, GAG\n3051, ATC, ATC, ATT\n3054, AGA, AGA, AGA\n3057, GCT, GCT, GCC\n3060, TCT, TCT, TCT\n3063, GCT, GCT, GCC\n3066, AAT, AAC, AAT\n3069, CTT, CTT, CTG\n3072, GCT, GCT, GCC\n3075, GCT, GCT, GCC\n3078, ACT, ACT, ACC\n3081, AAA, AAG, AAG\n3084, ATG, ATG, ATG\n3087, TCA, TCA, TCT\n3090, GAG, GAA, GAG\n3093, TGT, TGT, TGT\n3096, GTA, GTA, GTG\n3099, CTT, CTT, CTG\n3102, GGA, GGA, GGC\n3105, CAA, CAA, CAG\n3108, TCA, TCA, AGC\n3111, AAA, AAG, AAG\n3114, AGA, AGA, AGA\n3117, GTT, GTT, GTG\n3120, GAT, GAT, GAC\n3123, TTT, TTC, TTT\n3126, TGT, TGT, TGC\n3129, GGA, GGA, GGC\n3132, AAG, AAG, AAG\n3135, GGC, GGT, GGC\n3138, TAT, TAC, TAC\n3141, CAT, CAT, CAC\n3144, CTT, CTT, CTG\n3147, ATG, ATG, ATG\n3150, TCC, TCT, AGC\n3153, TTC, TTC, TTC\n3156, CCT, CCT, CCT\n3159, CAG, CAA, CAG\n3162, TCA, TCA, TCT\n3165, GCA, GCA, GCC\n3168, CCT, CCT, CCT\n3171, CAT, CAT, CAC\n3174, GGT, GGT, GGC\n3177, GTA, GTA, GTG\n3180, GTC, GTT, GTG\n3183, TTC, TTC, TTT\n3186, TTG, TTG, CTG\n3189, CAT, CAT, CAC\n3192, GTG, GTT, GTG\n3195, ACT, ACT, ACA\n3198, TAT, TAC, TAT\n3201, GTC, GTT, GTG\n3204, CCT, CCT, CCC\n3207, GCA, GCA, GCT\n3210, CAA, CAA, CAA\n3213, GAA, GAA, GAG\n3216, AAG, AAG, AAG\n3219, AAC, AAC, AAT\n3222, TTC, TTC, TTC\n3225, ACA, ACA, ACC\n3228, ACT, ACT, ACC\n3231, GCT, GCT, GCT\n3234, CCT, CCT, CCA\n3237, GCC, GCT, GCC\n3240, ATT, ATC, ATC\n3243, TGT, TGT, TGC\n3246, CAT, CAT, CAC\n3249, GAT, GAT, GAC\n3252, GGA, GGA, GGC\n3255, AAA, AAG, AAA\n3258, GCA, GCA, GCC\n3261, CAC, CAT, CAC\n3264, TTT, TTC, TTT\n3267, CCT, CCT, CCT\n3270, CGT, AGA, AGA\n3273, GAA, GAA, GAA\n3276, GGT, GGT, GGC\n3279, GTC, GTT, GTG\n3282, TTT, TTC, TTC\n3285, GTT, GTT, GTG\n3288, TCA, TCA, TCC\n3291, AAT, AAC, AAC\n3294, GGC, GGT, GGC\n3297, ACA, ACA, ACC\n3300, CAC, CAT, CAT\n3303, TGG, TGG, TGG\n3306, TTT, TTC, TTC\n3309, GTA, GTA, GTG\n3312, ACA, ACA, ACA\n3315, CAA, CAA, CAG\n3318, AGG, AGA, CGG\n3321, AAT, AAC, AAC\n3324, TTT, TTC, TTC\n3327, TAT, TAC, TAC\n3330, GAA, GAA, GAG\n3333, CCA, CCA, CCC\n3336, CAA, CAA, CAG\n3339, ATC, ATC, ATC\n3342, ATT, ATC, ATC\n3345, ACT, ACT, ACC\n3348, ACA, ACA, ACC\n3351, GAC, GAT, GAC\n3354, AAC, AAC, AAC\n3357, ACA, ACA, ACC\n3360, TTT, TTC, TTC\n3363, GTG, GTT, GTG\n3366, TCT, TCT, TCT\n3369, GGT, GGT, GGC\n3372, AAC, AAC, AAC\n3375, TGT, TGT, TGC\n3378, GAT, GAT, GAC\n3381, GTT, GTT, GTC\n3384, GTA, GTA, GTG\n3387, ATA, ATC, ATC\n3390, GGA, GGA, GGC\n3393, ATT, ATC, ATT\n3396, GTC, GTT, GTG\n3399, AAC, AAC, AAC\n3402, AAC, AAC, AAT\n3405, ACA, ACA, ACC\n3408, GTT, GTT, GTG\n3411, TAT, TAC, TAC\n3414, GAT, GAT, GAC\n3417, CCT, CCT, CCT\n3420, TTG, TTG, CTG\n3423, CAA, CAA, CAG\n3426, CCT, CCT, CCC\n3429, GAA, GAA, GAG\n3432, TTA, TTG, CTG\n3435, GAC, GAT, GAC\n3438, TCA, TCA, AGC\n3441, TTC, TTC, TTC\n3444, AAG, AAG, AAA\n3447, GAG, GAA, GAG\n3450, GAG, GAA, GAA\n3453, TTA, TTG, CTG\n3456, GAT, GAT, GAC\n3459, AAA, AAG, AAG\n3462, TAT, TAC, TAC\n3465, TTT, TTC, TTT\n3468, AAG, AAG, AAG\n3471, AAT, AAC, AAC\n3474, CAT, CAT, CAC\n3477, ACA, ACA, ACA\n3480, TCA, TCA, AGC\n3483, CCA, CCA, CCC\n3486, GAT, GAT, GAC\n3489, GTT, GTT, GTG\n3492, GAT, GAT, GAC\n3495, TTA, TTG, CTG\n3498, GGT, GGT, GGC\n3501, GAC, GAT, GAT\n3504, ATC, ATC, ATC\n3507, TCT, TCT, AGC\n3510, GGC, GGT, GGA\n3513, ATT, ATC, ATC\n3516, AAT, AAC, AAT\n3519, GCT, GCT, GCC\n3522, TCA, TCA, AGC\n3525, GTT, GTT, GTC\n3528, GTA, GTA, GTG\n3531, AAC, AAC, AAC\n3534, ATT, ATC, ATC\n3537, CAA, CAA, CAG\n3540, AAA, AAG, AAA\n3543, GAA, GAA, GAG\n3546, ATT, ATC, ATC\n3549, GAC, GAT, GAC\n3552, CGC, AGA, CGG\n3555, CTC, TTG, CTG\n3558, AAT, AAC, AAC\n3561, GAG, GAA, GAG\n3564, GTT, GTT, GTG\n3567, GCC, GCT, GCC\n3570, AAG, AAG, AAG\n3573, AAT, AAC, AAT\n3576, TTA, TTG, CTG\n3579, AAT, AAC, AAC\n3582, GAA, GAA, GAG\n3585, TCT, TCT, AGC\n3588, CTC, TTG, CTG\n3591, ATC, ATC, ATC\n3594, GAT, GAT, GAC\n3597, CTC, TTG, CTG\n3600, CAA, CAA, CAA\n3603, GAA, GAA, GAA\n3606, CTT, CTT, CTG\n3609, GGA, GGA, GGG\n3612, AAG, AAG, AAG\n3615, TAT, TAC, TAC\n3618, GAG, GAA, GAG\n3621, CAG, CAA, CAG\n3624, TAT, TAC, TAC\n3627, ATA, ATC, ATC\n3630, AAA, AAG, AAG\n3633, TGG, TGG, TGG\n3636, CCA, CCA, CCC\n3639, TGG, TGG, TGG\n3642, TAC, TAC, TAC\n3645, ATT, ATC, ATC\n3648, TGG, TGG, TGG\n3651, CTA, CTA, CTG\n3654, GGT, GGT, GGC\n3657, TTT, TTC, TTT\n3660, ATA, ATC, ATC\n3663, GCT, GCT, GCC\n3666, GGC, GGT, GGA\n3669, TTG, TTG, CTG\n3672, ATT, ATC, ATT\n3675, GCC, GCT, GCC\n3678, ATA, ATC, ATC\n3681, GTA, GTA, GTG\n3684, ATG, ATG, ATG\n3687, GTG, GTT, GTC\n3690, ACA, ACA, ACA\n3693, ATT, ATC, ATC\n3696, ATG, ATG, ATG\n3699, CTT, CTT, CTG\n3702, TGC, TGT, TGT\n3705, TGT, TGT, TGC\n3708, ATG, ATG, ATG\n3711, ACC, ACT, ACC\n3714, AGT, AGT, AGC\n3717, TGC, TGT, TGC\n3720, TGT, TGT, TGT\n3723, AGT, AGT, AGC\n3726, TGT, TGT, TGC\n3729, CTC, TTG, CTG\n3732, AAG, AAG, AAG\n3735, GGC, GGT, GGC\n3738, TGT, TGT, TGT\n3741, TGT, TGT, TGT\n3744, TCT, TCT, AGC\n3747, TGT, TGT, TGT\n3750, GGA, GGA, GGC\n3753, TCC, TCT, AGC\n3756, TGC, TGT, TGC\n3759, TGC, TGT, TGC\n3762, AAA, AAG, AAG\n3765, TTT, TTC, TTC\n3768, GAT, GAT, GAC\n3771, GAA, GAA, GAG\n3774, GAC, GAT, GAC\n3777, GAC, GAT, GAT\n3780, TCT, TCT, TCT\n3783, GAG, GAA, GAG\n3786, CCA, CCA, CCC\n3789, GTG, GTT, GTG\n3792, CTC, TTG, CTG\n3795, AAA, AAG, AAG\n3798, GGA, GGA, GGC\n3801, GTC, GTT, GTG\n3804, AAA, AAG, AAA\n3807, TTA, TTG, CTG\n3810, CAT, CAT, CAC\n3813, TAC, TAC, TAC\n3816, ACA, ACA, ACA\n3819, TAA, TGA, TGA\n"
     ]
    }
   ],
   "source": [
    "print(\"abspos, virus, suggestion, vaccine\")\n",
    "\n",
    "for codon in codons:\n",
    "    print(f\"{codon['abspos']}, {codon['virus']}, {codon['suggestion']}, {codon['vaccine']}\")"
   ]
  }
 ]
}